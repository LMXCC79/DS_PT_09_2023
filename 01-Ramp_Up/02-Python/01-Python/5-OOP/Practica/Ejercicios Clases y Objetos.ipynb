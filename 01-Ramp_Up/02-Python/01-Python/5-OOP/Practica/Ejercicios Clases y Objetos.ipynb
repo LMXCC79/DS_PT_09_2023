{
 "cells": [
  {
   "cell_type": "markdown",
   "metadata": {},
   "source": [
    "![imagen](./img/ejercicios.png)\n",
    "\n",
    "# Ejercicios Clases y Objetos"
   ]
  },
  {
   "cell_type": "markdown",
   "metadata": {},
   "source": [
    "## Ejercicio 1\n",
    "Somos una empresa que tiene varias tiendas de electrodomesticos. Necesitamos un programa para manejar las tiendas, ver las ventas que han tenido, cuántos empleados hay, etc... Para ello vamos a modelizar la tienda en una clase, que tendrá las siguientes características:\n",
    "* Nombre clase: \"Tienda\"\n",
    "* Atributos comunes:\n",
    "    * Tipo: \"Electrodomésticos\"\n",
    "    * Abierta: True\n",
    "* Atributos propios de cada tienda:\n",
    "    * Nombre - String\n",
    "    * Dirección - String\n",
    "    * Número de empleados - int\n",
    "    * Ventas ultimos 3 meses - Lista de 3 numeros\n",
    "* Método para calcular las ventas de todos los meses, que devuelva un numero con todas las ventas.\n",
    "* Método que calcula la media de ventas de los ultimos meses, por empleado\n",
    "* Método que devuelve en un string el nombre de la tienda, junto con su dirección.\n",
    "* Método que obtiene las ventas del último mes.\n",
    "* Método para dar una proyección de las ventas en caso de haber invertido X dinero en marketing en esa tienda. Siendo X el parámetro de entrada. Si X es menor de 1000, las ventas de los ultimos 3 meses hubiesen sido de (1.2 x ventas), si es mayor o igual de 1000, las ventas hubiesen sido de (1.5 x venta). El método reescribe el atributo de ventas en los últimos 3 meses, y además devuelve las ventas con el aumento.\n",
    "\n",
    "Se pide:\n",
    "1. Implementar la clase \"Tienda\"\n",
    "2. Crear tres tiendas con datos inventados\n",
    "3. Comprueba en al menos una de ellas, todo lo implementado en la clase tienda (sus atributos, media de ventas, ventas/empleado...)\n",
    "3. Calcular las ventas del último mes de todas las tiendas. Para ello usa el bucle `for`\n",
    "4. Imprime por pantalla los nombres de las tiendas cuya dirección lleve el string \"Avenida\"\n",
    "5. Seguro que ya has hecho este apartado... Documenta la clase :)"
   ]
  },
  {
   "cell_type": "code",
   "execution_count": null,
   "metadata": {},
   "outputs": [],
   "source": [
    "\n",
    "\n"
   ]
  },
  {
   "cell_type": "code",
   "execution_count": null,
   "metadata": {},
   "outputs": [],
   "source": []
  },
  {
   "cell_type": "code",
   "execution_count": 4,
   "metadata": {},
   "outputs": [
    {
     "ename": "TypeError",
     "evalue": "is_divisible() takes 0 positional arguments but 3 were given",
     "output_type": "error",
     "traceback": [
      "\u001b[1;31m---------------------------------------------------------------------------\u001b[0m",
      "\u001b[1;31mTypeError\u001b[0m                                 Traceback (most recent call last)",
      "\u001b[1;32mc:\\Users\\Sandia\\Documents\\DS_PT_09_2023\\01-Ramp_Up\\02-Python\\01-Python\\5-OOP\\Practica\\Ejercicios Clases y Objetos.ipynb Cell 5\u001b[0m line \u001b[0;36m1\n\u001b[0;32m     <a href='vscode-notebook-cell:/c%3A/Users/Sandia/Documents/DS_PT_09_2023/01-Ramp_Up/02-Python/01-Python/5-OOP/Practica/Ejercicios%20Clases%20y%20Objetos.ipynb#W4sZmlsZQ%3D%3D?line=11'>12</a>\u001b[0m             \u001b[39mprint\u001b[39m (\u001b[39m\"\u001b[39m\u001b[39mFalse\u001b[39m\u001b[39m\"\u001b[39m)\n\u001b[0;32m     <a href='vscode-notebook-cell:/c%3A/Users/Sandia/Documents/DS_PT_09_2023/01-Ramp_Up/02-Python/01-Python/5-OOP/Practica/Ejercicios%20Clases%20y%20Objetos.ipynb#W4sZmlsZQ%3D%3D?line=13'>14</a>\u001b[0m \u001b[39m#test.assert_equals(is_divisible(3,3,4),False)\u001b[39;00m\n\u001b[1;32m---> <a href='vscode-notebook-cell:/c%3A/Users/Sandia/Documents/DS_PT_09_2023/01-Ramp_Up/02-Python/01-Python/5-OOP/Practica/Ejercicios%20Clases%20y%20Objetos.ipynb#W4sZmlsZQ%3D%3D?line=15'>16</a>\u001b[0m is_divisible(\u001b[39m3\u001b[39;49m,\u001b[39m3\u001b[39;49m,\u001b[39m4\u001b[39;49m)\n",
      "\u001b[1;31mTypeError\u001b[0m: is_divisible() takes 0 positional arguments but 3 were given"
     ]
    }
   ],
   "source": [
    "def is_divisible():\n",
    "    #your code here\n",
    "    \n",
    "    i=1\n",
    "    k = is_divisible [0]\n",
    "    print (f\"{k}\")\n",
    "    \n",
    "    for i in is_divisible:\n",
    "        if k %i == 0:\n",
    "            print (\"True\")\n",
    "        else:\n",
    "            print (\"False\")\n",
    "\n",
    "#test.assert_equals(is_divisible(3,3,4),False)\n",
    "\n",
    "is_divisible(3,3,4)"
   ]
  },
  {
   "cell_type": "code",
   "execution_count": 15,
   "metadata": {},
   "outputs": [
    {
     "name": "stdout",
     "output_type": "stream",
     "text": [
      "6\n"
     ]
    },
    {
     "data": {
      "text/plain": [
       "6"
      ]
     },
     "execution_count": 15,
     "metadata": {},
     "output_type": "execute_result"
    }
   ],
   "source": [
    "def litres(time):\n",
    "    time = int(time* 0.5)\n",
    "    #round (time,0)\n",
    "    print (time)\n",
    "    return time\n",
    "\n",
    "litres (12.3)\n"
   ]
  },
  {
   "cell_type": "code",
   "execution_count": 16,
   "metadata": {},
   "outputs": [
    {
     "ename": "TypeError",
     "evalue": "find_smallest_int() takes 1 positional argument but 2 were given",
     "output_type": "error",
     "traceback": [
      "\u001b[1;31m---------------------------------------------------------------------------\u001b[0m",
      "\u001b[1;31mTypeError\u001b[0m                                 Traceback (most recent call last)",
      "\u001b[1;32mc:\\Users\\Sandia\\Documents\\DS_PT_09_2023\\01-Ramp_Up\\02-Python\\01-Python\\5-OOP\\Practica\\Ejercicios Clases y Objetos.ipynb Cell 7\u001b[0m line \u001b[0;36m6\n\u001b[0;32m      <a href='vscode-notebook-cell:/c%3A/Users/Sandia/Documents/DS_PT_09_2023/01-Ramp_Up/02-Python/01-Python/5-OOP/Practica/Ejercicios%20Clases%20y%20Objetos.ipynb#W6sZmlsZQ%3D%3D?line=2'>3</a>\u001b[0m     \u001b[39mmin\u001b[39m (arr)\n\u001b[0;32m      <a href='vscode-notebook-cell:/c%3A/Users/Sandia/Documents/DS_PT_09_2023/01-Ramp_Up/02-Python/01-Python/5-OOP/Practica/Ejercicios%20Clases%20y%20Objetos.ipynb#W6sZmlsZQ%3D%3D?line=3'>4</a>\u001b[0m     \u001b[39mprint\u001b[39m (\u001b[39mmin\u001b[39m (arr))\n\u001b[1;32m----> <a href='vscode-notebook-cell:/c%3A/Users/Sandia/Documents/DS_PT_09_2023/01-Ramp_Up/02-Python/01-Python/5-OOP/Practica/Ejercicios%20Clases%20y%20Objetos.ipynb#W6sZmlsZQ%3D%3D?line=5'>6</a>\u001b[0m find_smallest_int(([\u001b[39m78\u001b[39;49m, \u001b[39m56\u001b[39;49m, \u001b[39m232\u001b[39;49m, \u001b[39m12\u001b[39;49m, \u001b[39m11\u001b[39;49m, \u001b[39m43\u001b[39;49m]), \u001b[39m11\u001b[39;49m)\n",
      "\u001b[1;31mTypeError\u001b[0m: find_smallest_int() takes 1 positional argument but 2 were given"
     ]
    }
   ],
   "source": [
    "def find_smallest_int(arr):\n",
    "    # Code here\n",
    "    min (arr)\n",
    "    print (min (arr))\n",
    "\n",
    "find_smallest_int(([78, 56, 232, 12, 11, 43]), 11)"
   ]
  },
  {
   "cell_type": "code",
   "execution_count": 21,
   "metadata": {},
   "outputs": [
    {
     "name": "stdout",
     "output_type": "stream",
     "text": [
      "antamari\n"
     ]
    }
   ],
   "source": [
    "\n",
    "s = str()\n",
    "s = \"santamaria\"\n",
    "long = len(s)\n",
    "print(s[1:long-1])"
   ]
  },
  {
   "cell_type": "code",
   "execution_count": 31,
   "metadata": {},
   "outputs": [
    {
     "name": "stdout",
     "output_type": "stream",
     "text": [
      "37\n"
     ]
    }
   ],
   "source": [
    "def evaporator(content, evap_per_day, threshold):\n",
    "    dias = 0\n",
    "    limite = content * threshold/100\n",
    "    perdida = evap_per_day/100\n",
    "    \n",
    "    while content >= limite:\n",
    "        content = content - content * perdida\n",
    "        dias +=1\n",
    "    print (dias)\n",
    "    return \n",
    "\n",
    "evaporator(50, 12, 1)\n"
   ]
  },
  {
   "cell_type": "code",
   "execution_count": 43,
   "metadata": {},
   "outputs": [
    {
     "name": "stdout",
     "output_type": "stream",
     "text": [
      "['3', '3', '3', '1']\n",
      "['3', 4, 4, '1']\n"
     ]
    }
   ],
   "source": [
    "# año de 4 digitos, encontrar el siguiente pero que no se repitan los numeros que lo componen\n",
    "\n",
    "año = 3331\n",
    "año_str = str(año)\n",
    "año_lista = list (año_str)\n",
    "año_lista_int = []\n",
    "año_def = año_lista.copy()\n",
    "print (año_def)\n",
    "k=0\n",
    "\n",
    "for i in año_lista:\n",
    "    numero = i\n",
    "    numero = int (numero)\n",
    "    año_lista_int.append (numero)\n",
    "\n",
    "if año_lista_int[3] == año_lista_int[2] or año_lista_int[3] == año_lista_int[1] or año_lista_int[3] == año_lista_int[0]:\n",
    "    numero = año_lista_int [3] + 1\n",
    "    año_def[3] = numero\n",
    "\n",
    "if año_lista_int[2] == año_lista_int[1] or año_lista_int[2] == año_lista_int[0]:\n",
    "    numero = año_lista_int [2] + 1\n",
    "    año_def[2] = numero\n",
    "\n",
    "if año_lista_int[1] == año_lista_int[0]:\n",
    "    numero = año_lista_int [1] + 1\n",
    "    año_def [1] = numero  \n",
    "    print (año_def)\n",
    " \n",
    "\n",
    "#print (año_def)\n"
   ]
  },
  {
   "cell_type": "code",
   "execution_count": 39,
   "metadata": {},
   "outputs": [
    {
     "name": "stdout",
     "output_type": "stream",
     "text": [
      "['3', '3']\n",
      "[3, 3]\n",
      "[3, 4]\n"
     ]
    }
   ],
   "source": [
    "iguales = 33\n",
    "iguales_str = str(iguales)\n",
    "iguales_list = list (iguales_str)\n",
    "iguales_int = []\n",
    "\n",
    "print (iguales_list)\n",
    "\n",
    "for i in iguales_list:\n",
    "    numero = i\n",
    "    numero = int (numero)\n",
    "    iguales_int.append (numero)\n",
    "print (iguales_int)\n",
    "numero_definitivo = iguales_int.copy()\n",
    "if iguales_int[1] == iguales_int [0]:\n",
    "    numero_seg = iguales_int [1]\n",
    "    numero_seg += 1\n",
    "    numero_definitivo[1] = numero_seg\n",
    "\n",
    "print (numero_definitivo)\n"
   ]
  },
  {
   "cell_type": "code",
   "execution_count": 46,
   "metadata": {},
   "outputs": [
    {
     "name": "stdout",
     "output_type": "stream",
     "text": [
      "El siguiente año con dígitos diferentes a 2023 es: 2031\n",
      "El siguiente año con dígitos diferentes a 3310 es: False\n"
     ]
    }
   ],
   "source": [
    "def tiene_digitos_diferentes(year):\n",
    "    # Convierte el año a una lista de dígitos\n",
    "    digitos = list(str(year))\n",
    "    # Verifica si todos los dígitos son diferentes\n",
    "    return len(set(digitos)) == len(digitos)\n",
    "\n",
    "def siguiente_año_diferente(year):\n",
    "    # Incrementa el año hasta encontrar uno con dígitos diferentes\n",
    "    year += 1\n",
    "    while not tiene_digitos_diferentes(year):\n",
    "        year += 1\n",
    "    return year\n",
    "\n",
    "# Ejemplo de uso\n",
    "año_inicial = 2023  # Puedes cambiar este valor al año que desees\n",
    "siguiente_año = siguiente_año_diferente(año_inicial)\n",
    "\n",
    "print(f\"El siguiente año con dígitos diferentes a {año_inicial} es: {siguiente_año}\")\n",
    "\n",
    "año_inicial = 3310\n",
    "siguiente_año = tiene_digitos_diferentes(año_inicial)\n",
    "\n",
    "print(f\"El siguiente año con dígitos diferentes a {año_inicial} es: {siguiente_año}\")"
   ]
  },
  {
   "cell_type": "markdown",
   "metadata": {},
   "source": [
    "## Ejercicio 2\n",
    "En este ejercicio vamos a implementar una clase *Perro* en Python. La clase tiene las siguientes características:\n",
    "* Cosas que sabemos seguro que tiene un perro\n",
    "    * Tiene 4 patas\n",
    "    * 2 orejas\n",
    "    * 2 ojos\n",
    "    * Una velocidad de 0. Por defecto, el perro está parado\n",
    "* Cuando se inicialice:\n",
    "    * El perro será de una determinada raza\n",
    "    * Por defecto tendrá pelo \"Marrón\", a no ser que se diga lo contrario.\n",
    "    * Por defecto no tendrá dueño, a no ser que se diga lo contrario.\n",
    "    \n",
    "* Dispondrá también de un método llamado andar, que tiene un argumento de entrada (aumento_velocidad). Este valor se le sumará a la velocidad que ya llevaba el perro.\n",
    "* Necesita otro método (parar), donde pondremos la velocidad a 0.\n",
    "* Otro método llamado \"ladrar\", que tendrá un argumento de entrada, y la salida será el siguiente string: \"GUAU!\" + el argumento de entrada.\n",
    "\n",
    "\n",
    "Se pide:\n",
    "* Implementa la clase *Perro*\n",
    "* Crea un objeto de tipo *Perro*, sin dueño\n",
    "* Comprueba que están bien todos sus atributos\n",
    "* Prueba que ande, y comprueba su velocidad\n",
    "* Páralo\n",
    "* Documenta la clase *Perro*"
   ]
  },
  {
   "cell_type": "code",
   "execution_count": null,
   "metadata": {},
   "outputs": [],
   "source": []
  },
  {
   "cell_type": "code",
   "execution_count": null,
   "metadata": {},
   "outputs": [],
   "source": []
  },
  {
   "cell_type": "code",
   "execution_count": null,
   "metadata": {},
   "outputs": [],
   "source": []
  },
  {
   "cell_type": "code",
   "execution_count": null,
   "metadata": {},
   "outputs": [],
   "source": []
  }
 ],
 "metadata": {
  "kernelspec": {
   "display_name": "Python 3",
   "language": "python",
   "name": "python3"
  },
  "language_info": {
   "codemirror_mode": {
    "name": "ipython",
    "version": 3
   },
   "file_extension": ".py",
   "mimetype": "text/x-python",
   "name": "python",
   "nbconvert_exporter": "python",
   "pygments_lexer": "ipython3",
   "version": "3.11.4"
  }
 },
 "nbformat": 4,
 "nbformat_minor": 4
}
