{
 "cells": [
  {
   "cell_type": "markdown",
   "metadata": {},
   "source": [
    "![imagen](./img/ejercicios.png)"
   ]
  },
  {
   "cell_type": "markdown",
   "metadata": {},
   "source": [
    "# Ejercicios funciones\n",
    "## Ejercicio 1\n",
    "Escribe una función que convierta números del 1 al 7 en nombres de los dias de la semana. La función constará de un único argumento numérico y una salida de tipo string"
   ]
  },
  {
   "cell_type": "code",
   "execution_count": 13,
   "metadata": {},
   "outputs": [],
   "source": [
    "def dia_de_semana(dia_num) -> (str):\n",
    "    \n",
    "    dicc = {1 : \"lunes\", 2 : \"martes\", 3 : \"miercoles\", 4 : \"jueves\", 5 : \"viernes\", 6 : \"sabado\", 7 : \"domingo\"}\n",
    "    print (f\"{dicc[dia_num]}\")   \n",
    "   \n",
    "    return \n",
    "\n"
   ]
  },
  {
   "cell_type": "code",
   "execution_count": 16,
   "metadata": {},
   "outputs": [
    {
     "name": "stdout",
     "output_type": "stream",
     "text": [
      "viernes\n",
      "None\n"
     ]
    }
   ],
   "source": [
    "dia = dia_de_semana(5)\n",
    "\n",
    "print(dia)\n"
   ]
  },
  {
   "cell_type": "markdown",
   "metadata": {},
   "source": [
    "## Ejercicio 2\n",
    "En el ejercicio 8 de bucles, creábamos una pirámide invertida, cuyo número de pisos venía determinado por un input del usuario. Crea una función que replique el comportamiento de la pirámide, y utiliza un único parámetro de entrada de la función para determinar el número de filas de la pirámide, es decir, elimina la sentencia input."
   ]
  },
  {
   "cell_type": "code",
   "execution_count": 17,
   "metadata": {},
   "outputs": [],
   "source": [
    "def piramide(rango)->int:\n",
    "    h=list(range(rango, 0, -1))\n",
    "\n",
    "    while len(h) > 0:\n",
    "        print(*h, \"\\n\")\n",
    "        h.pop(0)\n",
    "    return"
   ]
  },
  {
   "cell_type": "code",
   "execution_count": 23,
   "metadata": {},
   "outputs": [
    {
     "name": "stdout",
     "output_type": "stream",
     "text": [
      "13 12 11 10 9 8 7 6 5 4 3 2 1 \n",
      "\n",
      "12 11 10 9 8 7 6 5 4 3 2 1 \n",
      "\n",
      "11 10 9 8 7 6 5 4 3 2 1 \n",
      "\n",
      "10 9 8 7 6 5 4 3 2 1 \n",
      "\n",
      "9 8 7 6 5 4 3 2 1 \n",
      "\n",
      "8 7 6 5 4 3 2 1 \n",
      "\n",
      "7 6 5 4 3 2 1 \n",
      "\n",
      "6 5 4 3 2 1 \n",
      "\n",
      "5 4 3 2 1 \n",
      "\n",
      "4 3 2 1 \n",
      "\n",
      "3 2 1 \n",
      "\n",
      "2 1 \n",
      "\n",
      "1 \n",
      "\n",
      "None\n"
     ]
    }
   ],
   "source": [
    "p = piramide(13)\n",
    "print(p)"
   ]
  },
  {
   "cell_type": "markdown",
   "metadata": {},
   "source": [
    "## Ejercicio 3\n",
    "Escibe una función que compare dos números. La función tiene dos argumentos y hay tres salidas posibles: que sean iguales, que el primero se  mayor que el segundo, o que el segundo sea mayor que el primero"
   ]
  },
  {
   "cell_type": "code",
   "execution_count": 24,
   "metadata": {},
   "outputs": [],
   "source": [
    "def comparador_dos_numeros (num_1, num_2)-> int:\n",
    "    if num_1 == num_2:\n",
    "        print(f\"Los numeros {num_1} y {num_2} son iguales\")\n",
    "    elif num_1 > num_2:\n",
    "        print(f\"el numero {num_1} es mayor que el numero {num_2}\")\n",
    "    else:\n",
    "        print(f\"el numero {num_2} es mayor que el numero {num_1}\")\n",
    "    \n",
    "    return"
   ]
  },
  {
   "cell_type": "code",
   "execution_count": 27,
   "metadata": {},
   "outputs": [
    {
     "name": "stdout",
     "output_type": "stream",
     "text": [
      "el numero 60 es mayor que el numero 0\n"
     ]
    }
   ],
   "source": [
    "comparador_dos_numeros(0, 60)"
   ]
  },
  {
   "cell_type": "markdown",
   "metadata": {},
   "source": [
    "## Ejercicio 4\n",
    "Escribe una función que sea un contador de letras. En el primer argumento tienes que introducir un texto, y el segundo que sea la letra a contar. La función tiene que devolver un entero con el número de veces que aparece esa letra, tanto mayuscula, como minúscula"
   ]
  },
  {
   "cell_type": "code",
   "execution_count": 56,
   "metadata": {},
   "outputs": [],
   "source": [
    "def contador_letras (texto, letra) -> str:\n",
    "\n",
    "    letras = 0\n",
    "    texto = texto.lower()\n",
    "    letra = letra.lower()\n",
    "    print(texto)\n",
    "    print(letra)\n",
    "    #texto = list(texto)\n",
    "\n",
    "    for i in texto:\n",
    "        if i == None:\n",
    "            pass\n",
    "    \n",
    "        if i == letra:\n",
    "            letras = letras + 1\n",
    "    \n",
    "    return letras"
   ]
  },
  {
   "cell_type": "code",
   "execution_count": 58,
   "metadata": {},
   "outputs": [
    {
     "name": "stdout",
     "output_type": "stream",
     "text": [
      "monica osorio vargas\n",
      "m\n"
     ]
    },
    {
     "data": {
      "text/plain": [
       "1"
      ]
     },
     "execution_count": 58,
     "metadata": {},
     "output_type": "execute_result"
    }
   ],
   "source": [
    "contador_letras(\"Monica Osorio Vargas\", \"M\")"
   ]
  },
  {
   "cell_type": "markdown",
   "metadata": {},
   "source": [
    "## Ejercicio 5\n",
    "Escribe una función que tenga un único argumento, un string. La salida de la función tiene que ser un diccionario con el conteo de todas las letras de ese string."
   ]
  },
  {
   "cell_type": "code",
   "execution_count": null,
   "metadata": {},
   "outputs": [],
   "source": []
  },
  {
   "cell_type": "code",
   "execution_count": 93,
   "metadata": {},
   "outputs": [],
   "source": [
    "def contador_letras_texto (texto_1) -> str:\n",
    "    \n",
    "    dicc_contador = {}\n",
    "\n",
    "    for letra in texto_1:\n",
    "        if letra== \" \":\n",
    "         pass\n",
    "    \n",
    "        elif letra in dicc_contador:\n",
    "           dicc_contador[letra] += 1\n",
    "        \n",
    "        else:\n",
    "            dicc_contador[letra] = 1\n",
    "\n",
    "    #print(dicc_contador, \"\\n\")\n",
    "\n",
    "    return dicc_contador"
   ]
  },
  {
   "cell_type": "code",
   "execution_count": 94,
   "metadata": {},
   "outputs": [
    {
     "data": {
      "text/plain": [
       "{'a': 15, 'l': 2, 'u': 1}"
      ]
     },
     "execution_count": 94,
     "metadata": {},
     "output_type": "execute_result"
    }
   ],
   "source": [
    "contador_letras_texto(\"aaaa aaa aaaaa aaa ll u\")\n"
   ]
  },
  {
   "cell_type": "markdown",
   "metadata": {},
   "source": [
    "## Ejercicio 6\n",
    "Escribir una función que añada o elimine elementos en una lista. La función necesita los siguientes argumentos:\n",
    "* lista: la lista donde se añadirán o eliminarán los elementos\n",
    "* comando: \"add\" o \"remove\"\n",
    "* elemento: Por defecto es None."
   ]
  },
  {
   "cell_type": "code",
   "execution_count": 108,
   "metadata": {},
   "outputs": [],
   "source": [
    "def añadir_eliminar_elementos_lista(lista_base, comando, elemento=None):\n",
    "\n",
    "    lista_base = list(lista_base)\n",
    "    \n",
    "    if comando == \"adicionar\":\n",
    "        lista_base.append(elemento)\n",
    "    elif comando == \"remover\":\n",
    "        lista_base.remove(elemento)\n",
    "    \n",
    "    return lista_base"
   ]
  },
  {
   "cell_type": "code",
   "execution_count": 109,
   "metadata": {},
   "outputs": [
    {
     "data": {
      "text/plain": [
       "[1, 2, 3, 4, 2]"
      ]
     },
     "execution_count": 109,
     "metadata": {},
     "output_type": "execute_result"
    }
   ],
   "source": [
    "añadir_eliminar_elementos_lista([1, 2, 3, 4], \"adicionar\", 2)\n"
   ]
  },
  {
   "cell_type": "code",
   "execution_count": null,
   "metadata": {},
   "outputs": [],
   "source": []
  },
  {
   "cell_type": "markdown",
   "metadata": {},
   "source": [
    "## Ejercicio 7\n",
    "Crea una función que reciba un número arbitrario de palabras, y devuelva una frase completa, separando las palabras con espacios."
   ]
  },
  {
   "cell_type": "code",
   "execution_count": 147,
   "metadata": {},
   "outputs": [],
   "source": [
    "def palabras_frases (*palabras) -> list:\n",
    "    #palabras = list (palabras)\n",
    "    #palabra = palabras.split(\"  \")\n",
    "    print (' '.join(palabras))\n",
    "\n",
    "    return "
   ]
  },
  {
   "cell_type": "code",
   "execution_count": 150,
   "metadata": {},
   "outputs": [
    {
     "name": "stdout",
     "output_type": "stream",
     "text": [
      "hola que hola mas amigos mis salud\n"
     ]
    }
   ],
   "source": [
    "palabras_frases(\"hola\",\"que\", \"hola\", \"mas\", \"amigos\", \"mis\", \"salud\")"
   ]
  },
  {
   "cell_type": "markdown",
   "metadata": {},
   "source": [
    "## Ejercicio 8\n",
    "Escribe un programa que obtenga el enésimo número de la [serie de Fibonacci](https://es.wikipedia.org/wiki/Sucesi%C3%B3n_de_Fibonacci). Tienes que crear una función recursiva con un único argumento.\n",
    "\n",
    "```Python\n",
    "fibonacci(2) = 1\n",
    "fibonacci(4) = 3\n",
    "fibonacci(5) = 5\n",
    "fibonacci(8) = 21\n",
    "```"
   ]
  },
  {
   "cell_type": "code",
   "execution_count": 193,
   "metadata": {},
   "outputs": [],
   "source": [
    "def fibonacci (numero) -> int:\n",
    "    if numero < 2:\n",
    "        return numero\n",
    "    return fibonacci (numero - 1) + fibonacci (numero - 2)\n",
    "    "
   ]
  },
  {
   "cell_type": "code",
   "execution_count": 196,
   "metadata": {},
   "outputs": [
    {
     "data": {
      "text/plain": [
       "55"
      ]
     },
     "execution_count": 196,
     "metadata": {},
     "output_type": "execute_result"
    }
   ],
   "source": [
    "fibonacci (10)"
   ]
  },
  {
   "cell_type": "code",
   "execution_count": 197,
   "metadata": {},
   "outputs": [
    {
     "name": "stdout",
     "output_type": "stream",
     "text": [
      "[0, 1, 2, 3, 5, 8, 13, 21, 34, 55]\n"
     ]
    }
   ],
   "source": [
    "#fibonacci\n",
    "k = int(input(\"ingrese un numero entero: \"))\n",
    "num_1 = 0\n",
    "num_2 = 1\n",
    "\n",
    "fibonacci = [0]\n",
    "\n",
    "for i in range (1, k):\n",
    "    num_3= num_1 + num_2\n",
    "    num_1, num_2 = num_2, num_3\n",
    "    \n",
    "    fibonacci.append(num_2)\n",
    "\n",
    "print (fibonacci) "
   ]
  },
  {
   "cell_type": "markdown",
   "metadata": {},
   "source": [
    "## Ejercicio 9\n",
    "Define en una única celda las siguientes funciones:\n",
    "* Función que calcule el área de un cuadrado\n",
    "* Función que calcule el area de un triángulo\n",
    "* Función que calcule el área de un círculo\n",
    "\n",
    "En otra celda, calcular el area de:\n",
    "* Dos círculos de radio 10 + un triángulo de base 3 y altura 7\n",
    "* Un cuadrado de lado = 10 + 3 círculos (uno de radio = 4 y los otros dos de radio = 6) + 5 triángulos de base = 2 + altura = 4"
   ]
  },
  {
   "cell_type": "code",
   "execution_count": null,
   "metadata": {},
   "outputs": [],
   "source": [
    "def area_cuadrado (lado) -> float:\n",
    "    "
   ]
  },
  {
   "cell_type": "code",
   "execution_count": null,
   "metadata": {},
   "outputs": [],
   "source": []
  },
  {
   "cell_type": "code",
   "execution_count": null,
   "metadata": {},
   "outputs": [],
   "source": []
  },
  {
   "cell_type": "code",
   "execution_count": null,
   "metadata": {},
   "outputs": [],
   "source": []
  },
  {
   "cell_type": "code",
   "execution_count": null,
   "metadata": {},
   "outputs": [],
   "source": []
  }
 ],
 "metadata": {
  "kernelspec": {
   "display_name": "Python 3",
   "language": "python",
   "name": "python3"
  },
  "language_info": {
   "codemirror_mode": {
    "name": "ipython",
    "version": 3
   },
   "file_extension": ".py",
   "mimetype": "text/x-python",
   "name": "python",
   "nbconvert_exporter": "python",
   "pygments_lexer": "ipython3",
   "version": "3.11.4"
  }
 },
 "nbformat": 4,
 "nbformat_minor": 4
}
