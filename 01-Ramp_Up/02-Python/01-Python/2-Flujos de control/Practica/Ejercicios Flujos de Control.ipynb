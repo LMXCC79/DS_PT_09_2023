{
 "cells": [
  {
   "cell_type": "markdown",
   "metadata": {},
   "source": [
    "![imagen](./img/ejercicios.png)"
   ]
  },
  {
   "cell_type": "markdown",
   "metadata": {},
   "source": [
    "# Ejercicios Flujos de control"
   ]
  },
  {
   "cell_type": "markdown",
   "metadata": {},
   "source": [
    "## Ejercicio 1\n",
    "Declara una variable numérica que será una hora cualquiera del día. Implementa mediante sentencias `if/elif/else` la siguiente casuística:\n",
    "\n",
    "* Si es entre las 0 y las 8, print \"Durmiendo\"\n",
    "* Si es entre las 9 y las 18, print \"Trabajando\"\n",
    "* Si es entre las 19 y las 21, print \"Clase\"\n",
    "* Si es entre las 22 y las 24, print \"Descanso\"\n",
    "* En cualquier otro caso, print \"Transporte o error\""
   ]
  },
  {
   "cell_type": "code",
   "execution_count": 13,
   "metadata": {},
   "outputs": [
    {
     "name": "stdout",
     "output_type": "stream",
     "text": [
      "Clase\n"
     ]
    }
   ],
   "source": [
    "hora = float(input (\"igrese una hora del dia: \"))\n",
    "\n",
    "if 0 > hora >= 8:\n",
    "    print (\"Durmiendo\")\n",
    "elif 8 < hora <= 18:\n",
    "    print (\"trabajando\")\n",
    "elif 18 < hora <= 21:\n",
    "    print (\"Clase\")\n",
    "elif 21 < hora <= 24:\n",
    "    print (\"Descanso\")\n",
    "else:\n",
    "    print (\"Error\")\n",
    "    "
   ]
  },
  {
   "cell_type": "markdown",
   "metadata": {},
   "source": [
    "## Ejercicio 2\n",
    "En este ejercicio vamos a implementar un calculador de precios de casas muy sencillo. Tenemos las siguientes variables:\n",
    "\n",
    "> superficie\n",
    ">\n",
    "> distrito\n",
    "\n",
    "Implementa mediante sentencias `if/elif/else` la siguiente casuística:\n",
    "\n",
    "1. Si el distrito es \"Moncloa\" o \"Centro\", y además la superficie es superior a 100 metros cuadrados, el precio de la casa es de 1000\n",
    "2. Si el distrito es \"Salamanca\", y además la superficie de la casa es al menos de 150 metros, el precio de la casa es de 1500\n",
    "3. Si el distrito no es \"Retiro\" y la superficie está entre 60 y 80 metros, el precio es de 600\n",
    "4. En cualquier otro caso, el precio será de 0"
   ]
  },
  {
   "cell_type": "code",
   "execution_count": 17,
   "metadata": {},
   "outputs": [
    {
     "name": "stdout",
     "output_type": "stream",
     "text": [
      "El precio de la casa es de 100\n"
     ]
    }
   ],
   "source": [
    "superficie = float(input (\"Superficie de la casa en m2: \"))\n",
    "distrito = input (\"Indique el dristrito: Moncloa, Centro, Salamanca o Retiro: \")\n",
    "\n",
    "if distrito == \"Moncloa\" or distrito == \"Centro\" and superficie > 100:\n",
    "    print (\"El precio de la casa es de 100\") \n",
    "\n",
    "elif distrito == \"Salamanca\" and superficie >= 150:\n",
    "    print (\"El precio de la casa es de 1500\")\n",
    "\n",
    "elif distrito != \"retiro\" and 60 <= superficie <=80:\n",
    "    print (\"El precio de la casa es de 600\")\n"
   ]
  },
  {
   "cell_type": "markdown",
   "metadata": {},
   "source": [
    "## Ejercicio 3\n",
    "En este ejercicio vamos a realizar un programa muy parecido. Para este caso queremos que se cumplan las siguientes condiciones:\n",
    "\n",
    "1. Primero se compruebe si el distrito es \"Retiro\". Si es asi, que imprima \"Distrito Retiro\", y si no, \"Otro distrito\"\n",
    "2. Si el distrito es \"Retiro\", comprueba si si la superficie es mayor de 100 metros cuadrados. En tal caso, que imprima un precio de 1000, y si no, de 500.\n",
    "\n",
    "Hay que usar `ifs` anidados"
   ]
  },
  {
   "cell_type": "code",
   "execution_count": 6,
   "metadata": {},
   "outputs": [
    {
     "name": "stdout",
     "output_type": "stream",
     "text": [
      "Distrito Retiro\n"
     ]
    }
   ],
   "source": [
    "superficie = float(input (\"Superficie de la casa en m2: \"))\n",
    "distrito = input (\"Indique el dristrito: Moncloa, Centro, Salamanca o Retiro: \")\n",
    "if distrito == \"Retiro\":\n",
    "    print (\"Distrito Retiro\")\n",
    "elif distrito != \"Retiro\":\n",
    "    print  (\"Otro distrito\")\n",
    "\n",
    "    if distrito == \"Moncloa\" or distrito == \"Centro\" and superficie >= 100:\n",
    "        print (\"El precio de la casa es de 100\") \n",
    "\n",
    "    elif distrito == \"Salamanca\" and superficie >= 150:\n",
    "        print (\"El precio de la casa es de 1500\")\n",
    "\n",
    "    elif distrito != \"retiro\" and 60 <= superficie <=80:\n",
    "        print (\"El precio de la casa es de 600\")\n",
    "elif distrito == \"Retiro\" and superficie>= 100:\n",
    "    print (\"El precio es de 1000\")\n",
    "else:\n",
    "    print(\"El precio de la casa es de 500\")\n",
    "\n"
   ]
  },
  {
   "cell_type": "markdown",
   "metadata": {},
   "source": [
    "## Ejercicio 4\n",
    "Escribe un programa que tenga dos variables: un numero, y una lista numérica. El programa debe recorrer la lista e imprimir por pantalla cada elemento de la lista multiplicado por el número"
   ]
  },
  {
   "cell_type": "code",
   "execution_count": 33,
   "metadata": {},
   "outputs": [
    {
     "name": "stdout",
     "output_type": "stream",
     "text": [
      "3\n",
      "6\n",
      "9\n",
      "12\n",
      "15\n"
     ]
    }
   ],
   "source": [
    "a = 3\n",
    "b = [1, 2, 3, 4, 5]\n",
    "\n",
    "for i in b:\n",
    "    print (i*a)\n",
    "\n",
    "    "
   ]
  },
  {
   "cell_type": "markdown",
   "metadata": {},
   "source": [
    "## Ejercicio 5\n",
    "Imprime por pantalla cada número del -10 al -1. En ese orden. Consulta [la documentación](https://www.w3schools.com/python/ref_func_range.asp) de `range`"
   ]
  },
  {
   "cell_type": "code",
   "execution_count": 42,
   "metadata": {},
   "outputs": [
    {
     "name": "stdout",
     "output_type": "stream",
     "text": [
      "-10\n",
      "-9\n",
      "-8\n",
      "-7\n",
      "-6\n",
      "-5\n",
      "-4\n",
      "-3\n",
      "-2\n",
      "-1\n",
      "[-10, -9, -8, -7, -6, -5, -4, -3, -2, -1]\n"
     ]
    }
   ],
   "source": [
    "k=range (-10, 0, 1)\n",
    "for i in k:\n",
    "    print (i)\n",
    "\n",
    "del list\n",
    "print(list(k))\n"
   ]
  },
  {
   "cell_type": "markdown",
   "metadata": {},
   "source": [
    "## Ejercicio 6\n",
    "Dada la siguiente lista:\n",
    "\n",
    "> list1 = [12, 15, 32, 42, 55, 75, 122, 132, 150, 180, 200]\n",
    "\n",
    "Implementa un programa que los recorra e imprima por pantalla todos los divisibles por 5. Si nos encontramos con alguno que sea mayor que 150, detener el bucle."
   ]
  },
  {
   "cell_type": "code",
   "execution_count": 43,
   "metadata": {},
   "outputs": [
    {
     "name": "stdout",
     "output_type": "stream",
     "text": [
      "El 15 es divisible por 5\n",
      "El 55 es divisible por 5\n",
      "El 75 es divisible por 5\n",
      "El 150 es divisible por 5\n"
     ]
    }
   ],
   "source": [
    "list1 = [12, 15, 32, 42, 55, 75, 122, 132, 150, 180, 200]\n",
    "\n",
    "for i in list1:\n",
    "    if i > 150:\n",
    "        break\n",
    "    elif i % 5 == 0:\n",
    "        print (f\"El {i} es divisible por 5\")\n",
    "        "
   ]
  },
  {
   "cell_type": "markdown",
   "metadata": {},
   "source": [
    "## Ejercicio 7\n",
    "Escribe un programa en Python que imprima por pantalla todos los números divisibles por 5 y divisibles por 7, dentro del rango de valores (150, 350)"
   ]
  },
  {
   "cell_type": "code",
   "execution_count": 44,
   "metadata": {},
   "outputs": [
    {
     "name": "stdout",
     "output_type": "stream",
     "text": [
      "el numero 175 es divisible a la vez por 5 y por 7.\n",
      "el numero 210 es divisible a la vez por 5 y por 7.\n",
      "el numero 245 es divisible a la vez por 5 y por 7.\n",
      "el numero 280 es divisible a la vez por 5 y por 7.\n",
      "el numero 315 es divisible a la vez por 5 y por 7.\n",
      "el numero 350 es divisible a la vez por 5 y por 7.\n"
     ]
    }
   ],
   "source": [
    "list2 = list(range (150, 351))\n",
    "\n",
    "for i in list2:\n",
    "    if i % 5 == 0 and i % 7 == 0:\n",
    "        print (f\"el numero {i} es divisible a la vez por 5 y por 7.\")\n",
    "\n",
    "\n"
   ]
  },
  {
   "cell_type": "markdown",
   "metadata": {},
   "source": [
    "## Ejercicio 8\n",
    "Implementa un programa que imprima por pantalla el siguiente patrón\n",
    "\n",
    "5 4 3 2 1 \n",
    "\n",
    "4 3 2 1 \n",
    "\n",
    "3 2 1 \n",
    "\n",
    "2 1 \n",
    "\n",
    "1\n",
    "\n",
    "NOTA: NO hay lineas en blanco entre una línea y otra."
   ]
  },
  {
   "cell_type": "code",
   "execution_count": 57,
   "metadata": {},
   "outputs": [
    {
     "name": "stdout",
     "output_type": "stream",
     "text": [
      "5 4 3 2 1 \n",
      "\n",
      "4 3 2 1 \n",
      "\n",
      "3 2 1 \n",
      "\n",
      "2 1 \n",
      "\n",
      "1 \n",
      "\n"
     ]
    }
   ],
   "source": [
    "h=list(range(5, 0, -1))\n",
    "\n",
    "\n",
    "while len(h) > 0:\n",
    "    print(*h, \"\\n\")\n",
    "    h.pop(0)\n",
    "\n",
    "    \n"
   ]
  },
  {
   "cell_type": "markdown",
   "metadata": {},
   "source": [
    "## Ejercicio 9\n",
    "En este ejercicio vamos a crear un pequeño juego. Se trata de intentar adivinar un numero del 1 al 5. Tenemos dos intentos para acertar. Pasos a seguir:\n",
    "\n",
    "1. Ya viene implementado cómo obtener un número aleatorio del 1 al 5\n",
    "2. Tendrás que declarar en una variable el numero de vidas, y mediante un bucle while, comprobar que todavia quedan vidas.\n",
    "3. Dentro del bucle, obtener el valor del usuario y comprobar si es ese el numero a adivinar. Si no, actualizar las vidas.\n",
    "4. Si acertamos, salimos del bucle e imprimimos por pantalla \"You win\". Y si perdemos también salimos del bucle, pero en este caso imprimimos por pantalla \"You lose\".\n",
    "\n",
    "TIP: te puede resultar útil usar la sentencia `else` cuando acabe el bucle `while`. Lo que haya dentro de ese `else` se ejecutará una vez acabe la ejecución del `while`. Lo podrás usar para cuando pierdas."
   ]
  },
  {
   "cell_type": "code",
   "execution_count": 61,
   "metadata": {},
   "outputs": [
    {
     "name": "stdout",
     "output_type": "stream",
     "text": [
      "Tendras que adivinar un numero entrel el 1 y el 5\n",
      "Empiezas el juego con 2 vidas\n",
      "no seas idiota, es un numero entre 1 y 5\n",
      "no seas idiota, es un numero entre 1 y 5\n",
      "You Lost!\n"
     ]
    }
   ],
   "source": [
    "import random\n",
    "\n",
    "n_adivinar = random.randint(1,5)\n",
    "vidas = 2\n",
    "\n",
    "print (\"Tendras que adivinar un numero entrel el 1 y el 5\")\n",
    "print (f\"Empiezas el juego con {vidas} vidas\")\n",
    "\n",
    "while vidas > 0:\n",
    "    n_usuario=int(input(\"Introduzca un numero: \"))\n",
    "    if 5 < n_usuario or n_usuario < 1:\n",
    "        print (\"no seas idiota, es un numero entre 1 y 5\")\n",
    "        continue\n",
    "    if n_usuario==n_adivinar:\n",
    "        print(\"You Win!\")\n",
    "        break\n",
    "    vidas-=1\n",
    "\n",
    "if vidas == 0:\n",
    "    print(\"You Lost!\")\n"
   ]
  }
 ],
 "metadata": {
  "kernelspec": {
   "display_name": "Python 3",
   "language": "python",
   "name": "python3"
  },
  "language_info": {
   "codemirror_mode": {
    "name": "ipython",
    "version": 3
   },
   "file_extension": ".py",
   "mimetype": "text/x-python",
   "name": "python",
   "nbconvert_exporter": "python",
   "pygments_lexer": "ipython3",
   "version": "3.11.4"
  }
 },
 "nbformat": 4,
 "nbformat_minor": 4
}
