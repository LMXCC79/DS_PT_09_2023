{
 "cells": [
  {
   "cell_type": "markdown",
   "metadata": {},
   "source": [
    "# Python | day 4 | for loop, functions (feat. basics & if/else) "
   ]
  },
  {
   "cell_type": "markdown",
   "metadata": {},
   "source": [
    "### Ejercicio 0.1 - Conceptos básicos de Python\n",
    "\n",
    "1. ¿Qué usamos para hacer un salto de línea en una impresión? ¿Y para un tabulador?"
   ]
  },
  {
   "cell_type": "code",
   "execution_count": 1,
   "metadata": {},
   "outputs": [
    {
     "name": "stdout",
     "output_type": "stream",
     "text": [
      "Para hacer un salto de linea usamos \n",
      " y para un tabulador \t ok \n"
     ]
    }
   ],
   "source": [
    "print(\"Para hacer un salto de linea usamos \\n y para un tabulador \\t ok \")"
   ]
  },
  {
   "cell_type": "markdown",
   "metadata": {},
   "source": [
    "2. Haz un conversor de dólares a euros. Tendrás que utilizar la entrada"
   ]
  },
  {
   "cell_type": "code",
   "execution_count": 2,
   "metadata": {},
   "outputs": [
    {
     "name": "stdout",
     "output_type": "stream",
     "text": [
      "$3500.0 equivalen a 3325.0€\n"
     ]
    }
   ],
   "source": [
    "dollar = float (input (\"Ingrese el valor en dolares americanos que desea convertir a euros: \"))\n",
    "\n",
    "factor_conversion = 0.95\n",
    "euros = dollar * factor_conversion\n",
    "\n",
    "print (f\"${dollar} equivalen a {euros}€\")"
   ]
  },
  {
   "cell_type": "markdown",
   "metadata": {},
   "source": [
    "3. Declara dos cadenas, una será tu nombre y la otra tu apellido. Declara tu edad en otra variable. Imprime una sentencia que incluya esas variables, usando ```f{}``. ¿Qué es eso?"
   ]
  },
  {
   "cell_type": "code",
   "execution_count": 3,
   "metadata": {},
   "outputs": [
    {
     "name": "stdout",
     "output_type": "stream",
     "text": [
      "soy Luis Manuel Chavarro y tengo 44 años\n"
     ]
    }
   ],
   "source": [
    "nombre = \"Luis Manuel\"\n",
    "apellido = \"Chavarro\"\n",
    "edad = 44\n",
    "\n",
    "print(f\"soy {nombre} {apellido} y tengo {edad} años\")"
   ]
  },
  {
   "cell_type": "markdown",
   "metadata": {},
   "source": [
    "4. Dada la lista `[4,7, -3]`, calcula su máximo, mínimo y suma."
   ]
  },
  {
   "cell_type": "code",
   "execution_count": 6,
   "metadata": {},
   "outputs": [
    {
     "name": "stdout",
     "output_type": "stream",
     "text": [
      "7\n",
      "-3\n",
      "8\n"
     ]
    }
   ],
   "source": [
    "lista_num = [4, 7, -3]\n",
    "print (max (lista_num))\n",
    "print (min (lista_num))\n",
    "print (sum (lista_num))"
   ]
  },
  {
   "cell_type": "markdown",
   "metadata": {},
   "source": [
    "5. Redondea `38.38276252728` a 5 decimales.\n"
   ]
  },
  {
   "cell_type": "code",
   "execution_count": 7,
   "metadata": {},
   "outputs": [
    {
     "name": "stdout",
     "output_type": "stream",
     "text": [
      "38.38276\n"
     ]
    }
   ],
   "source": [
    "num_l = 38.38276252728\n",
    "\n",
    "print (round (num_l, 5))"
   ]
  },
  {
   "cell_type": "markdown",
   "metadata": {},
   "source": [
    "6. Pon la frase \"Born to be wild\" en mayúsculas, luego en minúsculas, divídela por espacios y, por último, sustituye \"wild\" por \"Geek\"."
   ]
  },
  {
   "cell_type": "code",
   "execution_count": 17,
   "metadata": {},
   "outputs": [
    {
     "name": "stdout",
     "output_type": "stream",
     "text": [
      "BORN TO BE WILD\n",
      "['Born', 'to', 'be', 'wild']\n"
     ]
    },
    {
     "data": {
      "text/plain": [
       "'Born to be Geek'"
      ]
     },
     "execution_count": 17,
     "metadata": {},
     "output_type": "execute_result"
    }
   ],
   "source": [
    "frase = \"Born to be wild\"\n",
    "\n",
    "print (frase.upper())\n",
    "\n",
    "print (frase.split())\n",
    "\n",
    "frase = frase.replace(\"wild\", \"Geek\") \n",
    "frase"
   ]
  },
  {
   "cell_type": "markdown",
   "metadata": {},
   "source": [
    "7. Crea un programa en el que se recojan dos entradas, y la salida del programa sea un booleano que indique al usuario si esas entradas son iguales o no.\n"
   ]
  },
  {
   "cell_type": "code",
   "execution_count": 20,
   "metadata": {},
   "outputs": [
    {
     "name": "stdout",
     "output_type": "stream",
     "text": [
      "False\n"
     ]
    }
   ],
   "source": [
    "entrada_1 = input (\"Ingrese algo: \")\n",
    "entrada_2 = input (\"Ingrese otra cosa: \")\n",
    "\n",
    "if entrada_1 == entrada_2:\n",
    "    print (entrada_1 == entrada_2)\n",
    "else:\n",
    "    print (entrada_1 == entrada_2)"
   ]
  },
  {
   "cell_type": "markdown",
   "metadata": {},
   "source": [
    "### Ejercicio 0.2 - If/else\n",
    "\n",
    "1. Crea un árbol de decisión utilizando sentencias if/else, para determinar el precio de la entrada al cine. Si la edad del cliente está entre 5 y 15 años, ambos incluidos, el precio será de 5, si es jubilado y la película es una de las `peliculas_descuento`, el precio será de 4. En cualquier otro caso, será de 7 euros.\n",
    "\n",
    "Debes crear la lista de `peliculas_discount` con tus películas favoritas."
   ]
  },
  {
   "cell_type": "code",
   "execution_count": 24,
   "metadata": {},
   "outputs": [
    {
     "name": "stdout",
     "output_type": "stream",
     "text": [
      "La entrada cuesta 5€\n"
     ]
    }
   ],
   "source": [
    "peliculas_descuento = [\"lo que el viento se llevo\", \"la vida es bella\", \"titanic\"]\n",
    "\n",
    "edad_cliente = int (input (\"Ingrese su edad: \"))\n",
    "pelicula_cliente = input (\"ingrese el nombre de la pelicula que desea ver: \")\n",
    "\n",
    "if 15 >= edad_cliente >= 5:\n",
    "    print (\"La entrada cuesta 5€\")\n",
    "elif edad_cliente >= 68 and (pelicula_cliente in peliculas_descuento):\n",
    "    print (\"La entrada cuesta 4€\")\n",
    "else:\n",
    "    print (\"La entrada cuesta 7€\")"
   ]
  },
  {
   "cell_type": "markdown",
   "metadata": {},
   "source": [
    "### Ejercicio 1 - Para\n",
    "\n",
    "Si encuentras una forma de resolver alguna de estas preguntas sin utilizar el bucle for, no dudes en hacerlo."
   ]
  },
  {
   "cell_type": "markdown",
   "metadata": {},
   "source": [
    "1. Imprime los números entre 0 y 70 que son múltiplos de 3 y 5."
   ]
  },
  {
   "cell_type": "code",
   "execution_count": 33,
   "metadata": {},
   "outputs": [
    {
     "name": "stdout",
     "output_type": "stream",
     "text": [
      "0\n",
      "15\n",
      "30\n",
      "45\n",
      "60\n"
     ]
    }
   ],
   "source": [
    "#range (0, 71)\n",
    "k = 0\n",
    "while k <= 70:\n",
    "    if k % 3 == 0 and k % 5 ==0:\n",
    "        print (k)\n",
    "    k+=1\n",
    "    "
   ]
  },
  {
   "cell_type": "markdown",
   "metadata": {},
   "source": [
    "2. Imprime el siguiente patrón:\n",
    "\n",
    "```python\n",
    "1\n",
    "22\n",
    "333\n",
    "4444\n",
    "55555\n",
    "666666\n",
    "7777777\n",
    "88888888\n",
    "999999999\n",
    "```\n"
   ]
  },
  {
   "cell_type": "code",
   "execution_count": 39,
   "metadata": {},
   "outputs": [
    {
     "name": "stdout",
     "output_type": "stream",
     "text": [
      "1\n",
      "22\n",
      "333\n",
      "4444\n",
      "55555\n",
      "666666\n",
      "7777777\n",
      "88888888\n",
      "999999999\n"
     ]
    }
   ],
   "source": [
    "n = 1\n",
    "k = 0\n",
    "\n",
    "for i in range (1, 10):\n",
    "    i = str(i)\n",
    "    print (i*n)\n",
    "    n+=1    "
   ]
  },
  {
   "cell_type": "markdown",
   "metadata": {
    "collapsed": true
   },
   "source": [
    "3. Dadas dos listas de la misma longitud, crear una tercera lista que contenga la suma de ambas, elemento a elemento."
   ]
  },
  {
   "cell_type": "markdown",
   "metadata": {},
   "source": [
    "```python\n",
    "Example: \n",
    "a = [1,2]\n",
    "b = [4,5]\n",
    "new_list = [5,7]\n",
    "```\n"
   ]
  },
  {
   "cell_type": "code",
   "execution_count": 64,
   "metadata": {},
   "outputs": [
    {
     "name": "stdout",
     "output_type": "stream",
     "text": [
      "[5, 7, 9, 11]\n"
     ]
    }
   ],
   "source": [
    "a = [1, 2]\n",
    "b = [4, 5]\n",
    "new_list = []\n",
    "k=0\n",
    "\n",
    "#k = [a[0]+b[0], a[1]+b[1]]\n",
    "\n",
    "if len (a) == len (b):\n",
    "    for i in a:\n",
    "        r = a[k]+b[k]\n",
    "        new_list.append(r)\n",
    "        k+=1\n",
    "\n",
    "print (new_list)"
   ]
  },
  {
   "cell_type": "markdown",
   "metadata": {},
   "source": [
    "4. Obtenga la primera y la segunda mejor puntuación de la lista.\n",
    "La lista contiene duplicados."
   ]
  },
  {
   "cell_type": "code",
   "execution_count": 70,
   "metadata": {},
   "outputs": [
    {
     "name": "stdout",
     "output_type": "stream",
     "text": [
      "{0, 1, 2, 45, 83, 84, 85, 86, 23}\n",
      "None\n",
      "[86, 85]\n"
     ]
    }
   ],
   "source": [
    "scores = [86,86,85,85,85,83,23,45,84,1,2,0]\n",
    "scores = set (scores)\n",
    "print (scores)\n",
    "scores = list(scores)\n",
    "print (scores.sort())\n",
    "max_scores = [scores [-1], scores[-2]]\n",
    "print (max_scores)"
   ]
  },
  {
   "cell_type": "code",
   "execution_count": null,
   "metadata": {},
   "outputs": [],
   "source": []
  },
  {
   "cell_type": "markdown",
   "metadata": {},
   "source": [
    "5. De la lista dada:\n",
    "    \n",
    "    a) Crea listas separadas de cadenas y números.\n",
    "\n",
    "    b) Ordena la lista de cadenas en orden ascendente.\n",
    "\n",
    "    c) Ordena la lista de cadenas en orden descendente\n",
    "\n",
    "    d) Ordenar la lista de números de menor a mayor\n",
    "\n",
    "    e) Ordenar la lista de números de mayor a menor"
   ]
  },
  {
   "cell_type": "code",
   "execution_count": 71,
   "metadata": {},
   "outputs": [],
   "source": [
    "gadgets = [\"Mobile\", \"Laptop\", 100, \"Camera\", 310.28, \"Speakers\", 27.00, \n",
    "           \"Television\", 1000, \"Laptop Case\", \"Camera Lens\"]"
   ]
  },
  {
   "cell_type": "code",
   "execution_count": 77,
   "metadata": {},
   "outputs": [
    {
     "name": "stdout",
     "output_type": "stream",
     "text": [
      "[100, 310.28, 27.0, 1000]\n",
      "['Mobile', 'Laptop', 'Camera', 'Speakers', 'Television', 'Laptop Case', 'Camera Lens']\n",
      "['Camera', 'Camera Lens', 'Laptop', 'Laptop Case', 'Mobile', 'Speakers', 'Television']\n",
      "[1000, 310.28, 100, 27.0]\n",
      "[27.0, 100, 310.28, 1000]\n"
     ]
    }
   ],
   "source": [
    "num_gad = []\n",
    "str_gad =[]\n",
    "for i in gadgets:\n",
    "    if type (i) == str:\n",
    "        str_gad.append(i)\n",
    "    else:\n",
    "        num_gad.append(i)\n",
    "print (num_gad)\n",
    "print (str_gad)\n",
    "\n",
    "\n",
    "# Ordenar str_gad ascendentemente\n",
    "str_gad.sort()\n",
    "print (str_gad) \n",
    "\n",
    "# Ordenar num_gad decendentemente\n",
    "\n",
    "num_gad.sort()\n",
    "num_gad.reverse()\n",
    "print (num_gad)\n",
    "num_gad.reverse()\n",
    "print (num_gad)"
   ]
  },
  {
   "cell_type": "markdown",
   "metadata": {},
   "source": [
    "6. Haz una lista de diez alienígenas, cada uno de los cuales es de un color: 'rojo', 'verde' o 'azul'.\n",
    "    - Puedes acortarlo a 'r', 'g' y 'b' si quieres, pero si eliges esta opción tienes que incluir un comentario explicando qué significan r, g y b.\n",
    "    - Los alienígenas rojos valen 5 puntos, los verdes valen 10 puntos y los azules valen 20 puntos.\n",
    "    - Utilice un bucle for para determinar el número de puntos que ganaría un jugador por destruir todos los alienígenas de su lista."
   ]
  },
  {
   "cell_type": "code",
   "execution_count": 78,
   "metadata": {},
   "outputs": [
    {
     "name": "stdout",
     "output_type": "stream",
     "text": [
      "110\n"
     ]
    }
   ],
   "source": [
    "aliens_colors = [\"rojo\", \"verde\", \"azul\", \"rojo\", \"verde\", \"azul\",\"rojo\", \"verde\", \"azul\", \"rojo\"]\n",
    "puntos = 0\n",
    "for i in aliens_colors:\n",
    "    if i == \"rojo\":\n",
    "        puntos += 5\n",
    "    elif i == \"verde\":\n",
    "        puntos += 10\n",
    "    else:\n",
    "        puntos += 20\n",
    "print (puntos)"
   ]
  },
  {
   "cell_type": "markdown",
   "metadata": {},
   "source": [
    "### Ejercicio 2 - Funciones"
   ]
  },
  {
   "cell_type": "markdown",
   "metadata": {},
   "source": [
    "1. Escribe un programa de funciones para sumar dos números diferentes dados."
   ]
  },
  {
   "cell_type": "code",
   "execution_count": 80,
   "metadata": {},
   "outputs": [],
   "source": [
    "def suma (num1, num2):\n",
    "    k = num1 + num2\n",
    "    return k"
   ]
  },
  {
   "cell_type": "markdown",
   "metadata": {},
   "source": [
    "2. Escribe un programa en Python para convertir una tupla de caracteres en una cadena.\n",
    "\n",
    "    - Ejemplo de tupla: `(\"T\", \"H\", \"E\", \" \", \"B\", \"R\", \"I\", \"D\", \"G\", \"E\")`\n",
    "    - Salida esperada : `\"EL PUENTE\"`\n",
    "    \n",
    "Sugerencia: Conviértalo en una lista."
   ]
  },
  {
   "cell_type": "code",
   "execution_count": 108,
   "metadata": {},
   "outputs": [
    {
     "name": "stdout",
     "output_type": "stream",
     "text": [
      "THE BRIDGE\n"
     ]
    }
   ],
   "source": [
    "tup_t_b = (\"T\", \"H\", \"E\", \" \", \"B\", \"R\", \"I\", \"D\", \"G\", \"E\")\n",
    "list_t_b = list(tup_t_b)\n",
    "\n",
    "print (\"\".join(list_t_b))\n",
    "\n"
   ]
  },
  {
   "cell_type": "markdown",
   "metadata": {},
   "source": [
    "3. Escribe un programa en Python que genere una lista cuyos valores sean cuadrados de números entre 1 y 30 (ambos incluidos), y devuelva una lista con los 5 primeros y últimos elementos de la lista."
   ]
  },
  {
   "cell_type": "code",
   "execution_count": 136,
   "metadata": {},
   "outputs": [
    {
     "name": "stdout",
     "output_type": "stream",
     "text": [
      "[1, 4, 9, 16, 25, 36, 49, 64, 81, 100, 121, 144, 169, 196, 225, 256, 289, 324, 361, 400, 441, 484, 529, 576, 625, 676, 729, 784, 841, 900]\n",
      "[1, 4, 9, 16, 25, 900, 841, 784, 729, 676]\n"
     ]
    }
   ],
   "source": [
    "cuadrados = []\n",
    "cinco_cuadrados_ini = []\n",
    "cinco_cuadrados_fin =[]\n",
    "numero = int (input (\"ingrese el numero de datos que quire conocer: \"))\n",
    "k = 0\n",
    "\n",
    "longitud = list(range(1,31))\n",
    "l = -1\n",
    "for i in longitud:\n",
    "    cuadrados.append(i**2)\n",
    "    if k <= numero - 1:\n",
    "        cinco_cuadrados_ini.append(cuadrados[k])\n",
    "        k += 1\n",
    "for i in longitud:\n",
    "    if l >= -numero:\n",
    "        cinco_cuadrados_fin.append(cuadrados[l])\n",
    "        l -= 1\n",
    "\n",
    "\n",
    "print (cuadrados)\n",
    "cinco_cuadrados_ini.extend(cinco_cuadrados_fin)\n",
    "print (cinco_cuadrados_ini)\n"
   ]
  },
  {
   "cell_type": "markdown",
   "metadata": {},
   "source": [
    "4. Crea un programa en Python que calcule el factorial de un número.\n",
    "\n",
    "El programa pedirá al usuario que introduzca un número (entrada) y devolverá el factorial de ese número."
   ]
  },
  {
   "cell_type": "code",
   "execution_count": 138,
   "metadata": {},
   "outputs": [
    {
     "name": "stdout",
     "output_type": "stream",
     "text": [
      "5040\n"
     ]
    },
    {
     "data": {
      "text/plain": [
       "5040"
      ]
     },
     "execution_count": 138,
     "metadata": {},
     "output_type": "execute_result"
    }
   ],
   "source": [
    "# Factorial de un numero: n! = 1*2*3*4*...*n\n",
    "\n",
    "numero_fac = int (input (\"ingrese un numero y le devolvere el factorial de ese numero: \"))\n",
    "factorial = 1\n",
    "\n",
    "\n",
    "for i in range (1, numero_fac + 1):\n",
    "    factorial = factorial * i\n",
    "\n",
    "print (factorial)\n",
    "\n"
   ]
  },
  {
   "cell_type": "markdown",
   "metadata": {},
   "source": [
    "5. Crea un programa que calcule la media.\n",
    "\n",
    "El programa pedirá al usuario que especifique cuántos números quiere introducir, y mostrará un aviso para incluir número a número a una lista, y luego calculará la media de cada número de esa lista."
   ]
  },
  {
   "cell_type": "code",
   "execution_count": 8,
   "metadata": {},
   "outputs": [
    {
     "name": "stdout",
     "output_type": "stream",
     "text": [
      "[2, 3, 4, 6, 2, 3, 7, 8, 4, 2]\n",
      "4.1\n"
     ]
    }
   ],
   "source": [
    "# Media\n",
    "\n",
    "cantidad_numeros = int (input (\"ingrese un numero: \"))\n",
    "i = 0\n",
    "lista_numeros = list ()\n",
    "\n",
    "while i < cantidad_numeros:\n",
    "    numero_lista = int(input (\"Ingrese un numero mas: \"))\n",
    "    lista_numeros.append(numero_lista) \n",
    "    i += 1\n",
    "\n",
    "print (lista_numeros)\n",
    "promedio = sum(lista_numeros) / cantidad_numeros\n",
    "print (promedio)\n",
    "    "
   ]
  }
 ],
 "metadata": {
  "kernelspec": {
   "display_name": "Python 3",
   "language": "python",
   "name": "python3"
  },
  "language_info": {
   "codemirror_mode": {
    "name": "ipython",
    "version": 3
   },
   "file_extension": ".py",
   "mimetype": "text/x-python",
   "name": "python",
   "nbconvert_exporter": "python",
   "pygments_lexer": "ipython3",
   "version": "3.8.3"
  }
 },
 "nbformat": 4,
 "nbformat_minor": 4
}
