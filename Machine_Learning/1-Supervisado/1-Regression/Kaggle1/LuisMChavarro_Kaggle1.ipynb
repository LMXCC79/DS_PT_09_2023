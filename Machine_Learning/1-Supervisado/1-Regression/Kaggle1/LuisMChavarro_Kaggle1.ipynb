{
 "cells": [
  {
   "cell_type": "code",
   "execution_count": 2,
   "metadata": {},
   "outputs": [],
   "source": [
    "import pandas as pd\n",
    "\n",
    "import urllib.request\n",
    "from PIL import Image"
   ]
  },
  {
   "cell_type": "code",
   "execution_count": 3,
   "metadata": {},
   "outputs": [],
   "source": [
    "train = pd.read_csv('data/train.csv')"
   ]
  },
  {
   "cell_type": "code",
   "execution_count": 4,
   "metadata": {},
   "outputs": [
    {
     "data": {
      "text/html": [
       "<div>\n",
       "<style scoped>\n",
       "    .dataframe tbody tr th:only-of-type {\n",
       "        vertical-align: middle;\n",
       "    }\n",
       "\n",
       "    .dataframe tbody tr th {\n",
       "        vertical-align: top;\n",
       "    }\n",
       "\n",
       "    .dataframe thead th {\n",
       "        text-align: right;\n",
       "    }\n",
       "</style>\n",
       "<table border=\"1\" class=\"dataframe\">\n",
       "  <thead>\n",
       "    <tr style=\"text-align: right;\">\n",
       "      <th></th>\n",
       "      <th>laptop_ID</th>\n",
       "      <th>Company</th>\n",
       "      <th>Product</th>\n",
       "      <th>TypeName</th>\n",
       "      <th>Inches</th>\n",
       "      <th>ScreenResolution</th>\n",
       "      <th>Cpu</th>\n",
       "      <th>Ram</th>\n",
       "      <th>Memory</th>\n",
       "      <th>Gpu</th>\n",
       "      <th>OpSys</th>\n",
       "      <th>Weight</th>\n",
       "      <th>Price_euros</th>\n",
       "    </tr>\n",
       "  </thead>\n",
       "  <tbody>\n",
       "    <tr>\n",
       "      <th>0</th>\n",
       "      <td>1104</td>\n",
       "      <td>Acer</td>\n",
       "      <td>Aspire ES1-523</td>\n",
       "      <td>Notebook</td>\n",
       "      <td>15.6</td>\n",
       "      <td>1366x768</td>\n",
       "      <td>AMD A8-Series 7410 2.2GHz</td>\n",
       "      <td>4GB</td>\n",
       "      <td>500GB HDD</td>\n",
       "      <td>AMD Radeon R5</td>\n",
       "      <td>Windows 10</td>\n",
       "      <td>2.4kg</td>\n",
       "      <td>387.0</td>\n",
       "    </tr>\n",
       "    <tr>\n",
       "      <th>1</th>\n",
       "      <td>114</td>\n",
       "      <td>Dell</td>\n",
       "      <td>XPS 13</td>\n",
       "      <td>Ultrabook</td>\n",
       "      <td>13.3</td>\n",
       "      <td>Quad HD+ / Touchscreen 3200x1800</td>\n",
       "      <td>Intel Core i7 7560U 2.4GHz</td>\n",
       "      <td>8GB</td>\n",
       "      <td>256GB SSD</td>\n",
       "      <td>Intel Iris Plus Graphics 640</td>\n",
       "      <td>Windows 10</td>\n",
       "      <td>1.23kg</td>\n",
       "      <td>1379.0</td>\n",
       "    </tr>\n",
       "    <tr>\n",
       "      <th>2</th>\n",
       "      <td>172</td>\n",
       "      <td>Acer</td>\n",
       "      <td>Aspire A517-51G</td>\n",
       "      <td>Notebook</td>\n",
       "      <td>17.3</td>\n",
       "      <td>IPS Panel Full HD 1920x1080</td>\n",
       "      <td>Intel Core i5 8250U 1.6GHz</td>\n",
       "      <td>8GB</td>\n",
       "      <td>256GB SSD</td>\n",
       "      <td>Nvidia GeForce MX150</td>\n",
       "      <td>Windows 10</td>\n",
       "      <td>3kg</td>\n",
       "      <td>854.0</td>\n",
       "    </tr>\n",
       "    <tr>\n",
       "      <th>3</th>\n",
       "      <td>918</td>\n",
       "      <td>HP</td>\n",
       "      <td>Elitebook 820</td>\n",
       "      <td>Netbook</td>\n",
       "      <td>12.5</td>\n",
       "      <td>Full HD 1920x1080</td>\n",
       "      <td>Intel Core i7 7500U 2.7GHz</td>\n",
       "      <td>8GB</td>\n",
       "      <td>512GB SSD</td>\n",
       "      <td>Intel HD Graphics 620</td>\n",
       "      <td>Windows 10</td>\n",
       "      <td>1.26kg</td>\n",
       "      <td>1483.0</td>\n",
       "    </tr>\n",
       "    <tr>\n",
       "      <th>4</th>\n",
       "      <td>447</td>\n",
       "      <td>Lenovo</td>\n",
       "      <td>IdeaPad 320-15AST</td>\n",
       "      <td>Notebook</td>\n",
       "      <td>17.3</td>\n",
       "      <td>1600x900</td>\n",
       "      <td>AMD A6-Series 9220 2.5GHz</td>\n",
       "      <td>8GB</td>\n",
       "      <td>1TB HDD</td>\n",
       "      <td>AMD Radeon R4</td>\n",
       "      <td>Windows 10</td>\n",
       "      <td>2.8kg</td>\n",
       "      <td>519.0</td>\n",
       "    </tr>\n",
       "  </tbody>\n",
       "</table>\n",
       "</div>"
      ],
      "text/plain": [
       "   laptop_ID Company            Product   TypeName  Inches  \\\n",
       "0       1104    Acer     Aspire ES1-523   Notebook    15.6   \n",
       "1        114    Dell             XPS 13  Ultrabook    13.3   \n",
       "2        172    Acer    Aspire A517-51G   Notebook    17.3   \n",
       "3        918      HP      Elitebook 820    Netbook    12.5   \n",
       "4        447  Lenovo  IdeaPad 320-15AST   Notebook    17.3   \n",
       "\n",
       "                   ScreenResolution                         Cpu  Ram  \\\n",
       "0                          1366x768   AMD A8-Series 7410 2.2GHz  4GB   \n",
       "1  Quad HD+ / Touchscreen 3200x1800  Intel Core i7 7560U 2.4GHz  8GB   \n",
       "2       IPS Panel Full HD 1920x1080  Intel Core i5 8250U 1.6GHz  8GB   \n",
       "3                 Full HD 1920x1080  Intel Core i7 7500U 2.7GHz  8GB   \n",
       "4                          1600x900   AMD A6-Series 9220 2.5GHz  8GB   \n",
       "\n",
       "      Memory                           Gpu       OpSys  Weight  Price_euros  \n",
       "0  500GB HDD                 AMD Radeon R5  Windows 10   2.4kg        387.0  \n",
       "1  256GB SSD  Intel Iris Plus Graphics 640  Windows 10  1.23kg       1379.0  \n",
       "2  256GB SSD          Nvidia GeForce MX150  Windows 10     3kg        854.0  \n",
       "3  512GB SSD         Intel HD Graphics 620  Windows 10  1.26kg       1483.0  \n",
       "4    1TB HDD                 AMD Radeon R4  Windows 10   2.8kg        519.0  "
      ]
     },
     "execution_count": 4,
     "metadata": {},
     "output_type": "execute_result"
    }
   ],
   "source": [
    "train.head(5)"
   ]
  },
  {
   "cell_type": "code",
   "execution_count": 5,
   "metadata": {},
   "outputs": [
    {
     "data": {
      "text/plain": [
       "(912, 13)"
      ]
     },
     "execution_count": 5,
     "metadata": {},
     "output_type": "execute_result"
    }
   ],
   "source": [
    "train.shape"
   ]
  },
  {
   "cell_type": "code",
   "execution_count": 6,
   "metadata": {},
   "outputs": [
    {
     "name": "stdout",
     "output_type": "stream",
     "text": [
      "<class 'pandas.core.frame.DataFrame'>\n",
      "RangeIndex: 912 entries, 0 to 911\n",
      "Data columns (total 13 columns):\n",
      " #   Column            Non-Null Count  Dtype  \n",
      "---  ------            --------------  -----  \n",
      " 0   laptop_ID         912 non-null    int64  \n",
      " 1   Company           912 non-null    object \n",
      " 2   Product           912 non-null    object \n",
      " 3   TypeName          912 non-null    object \n",
      " 4   Inches            912 non-null    float64\n",
      " 5   ScreenResolution  912 non-null    object \n",
      " 6   Cpu               912 non-null    object \n",
      " 7   Ram               912 non-null    object \n",
      " 8   Memory            912 non-null    object \n",
      " 9   Gpu               912 non-null    object \n",
      " 10  OpSys             912 non-null    object \n",
      " 11  Weight            912 non-null    object \n",
      " 12  Price_euros       912 non-null    float64\n",
      "dtypes: float64(2), int64(1), object(10)\n",
      "memory usage: 92.8+ KB\n"
     ]
    }
   ],
   "source": [
    "train.info()"
   ]
  },
  {
   "cell_type": "markdown",
   "metadata": {},
   "source": [
    "## Data processing"
   ]
  },
  {
   "cell_type": "code",
   "execution_count": 7,
   "metadata": {},
   "outputs": [
    {
     "data": {
      "text/plain": [
       "Index(['laptop_ID', 'Company', 'Product', 'TypeName', 'Inches',\n",
       "       'ScreenResolution', 'Cpu', 'Ram', 'Memory', 'Gpu', 'OpSys', 'Weight',\n",
       "       'Price_euros'],\n",
       "      dtype='object')"
      ]
     },
     "execution_count": 7,
     "metadata": {},
     "output_type": "execute_result"
    }
   ],
   "source": [
    "train.columns"
   ]
  },
  {
   "cell_type": "code",
   "execution_count": 86,
   "metadata": {},
   "outputs": [],
   "source": [
    "# Funciones\n",
    "\n",
    "def apply_onehot_encoder(train:pd.DataFrame, columns_to_encode:list, test:pd.DataFrame=None):\n",
    "    \n",
    "    # Resetear índices para evitar desalineación\n",
    "    train = train.reset_index(drop=True)\n",
    "    \n",
    "    # Crear el OneHotEncoder\n",
    "    encoder = OneHotEncoder(sparse=False, handle_unknown='ignore')\n",
    "\n",
    "    # Ajustar y transformar las columnas seleccionadas\n",
    "    transformed_data = encoder.fit_transform(train[columns_to_encode])\n",
    "\n",
    "    # Crear un DataFrame con las columnas transformadas\n",
    "    transformed_df = pd.DataFrame(transformed_data, columns=encoder.get_feature_names_out(columns_to_encode))\n",
    "    \n",
    "    # Concatenar con el DataFrame original excluyendo las columnas transformadas\n",
    "    df_concatenated = pd.concat([train.drop(columns_to_encode, axis=1), transformed_df], axis=1)\n",
    "\n",
    "    # Si se proporciona un segundo DataFrame, aplicar la misma transformación\n",
    "    if test is not None:\n",
    "        transformed_data_to_transform = encoder.transform(test[columns_to_encode])\n",
    "        transformed_df_to_transform = pd.DataFrame(transformed_data_to_transform, columns=encoder.get_feature_names_out(columns_to_encode))\n",
    "        df_to_transform_concatenated = pd.concat([test.drop(columns_to_encode, axis=1), transformed_df_to_transform], axis=1)\n",
    "        return df_concatenated, df_to_transform_concatenated\n",
    "\n",
    "    return df_concatenated\n",
    "\n",
    "def data_report(df):\n",
    "    '''Esta funcion describe los campos de un dataframe de pandas de forma bastante clara, crack'''\n",
    "    # Sacamos los NOMBRES\n",
    "    cols = pd.DataFrame(df.columns.values, columns=[\"COL_N\"])\n",
    "\n",
    "    # Sacamos los TIPOS\n",
    "    types = pd.DataFrame(df.dtypes.values, columns=[\"DATA_TYPE\"])\n",
    "\n",
    "    # Sacamos los MISSINGS\n",
    "    percent_missing = round(df.isnull().sum() * 100 / len(df), 2)\n",
    "    percent_missing_df = pd.DataFrame(percent_missing.values, columns=[\"MISSINGS (%)\"])\n",
    "\n",
    "    # Sacamos los VALORES UNICOS\n",
    "    unicos = pd.DataFrame(df.nunique().values, columns=[\"UNIQUE_VALUES\"])\n",
    "    \n",
    "    percent_cardin = round(unicos['UNIQUE_VALUES']*100/len(df), 2)\n",
    "    percent_cardin_df = pd.DataFrame(percent_cardin.values, columns=[\"CARDIN (%)\"])\n",
    "\n",
    "    concatenado = pd.concat([cols, types, percent_missing_df, unicos, percent_cardin_df], axis=1, sort=False)\n",
    "    concatenado.set_index('COL_N', drop=True, inplace=True)\n",
    "\n",
    "\n",
    "    return concatenado.T\n",
    "\n",
    "import re\n",
    "def convertir_a_GB(expression):\n",
    "    '''\n",
    "Convierte un numero a GB a partir de una columna que nos entrega un STR compuesto por un valor numerico y una unidad en GB o TB. \n",
    "\n",
    "'''\n",
    "    if pd.isna(expression):\n",
    "        return None\n",
    "    match = re.search(r'(\\d+(?:\\.\\d*)?)\\s*([GBT]+)', expression)\n",
    "    if match:\n",
    "        num, unid = match.groups()\n",
    "        num = float(num)\n",
    "        if unid == 'TB':\n",
    "            return num * 1024\n",
    "        \n",
    "        elif unid == 'GB':\n",
    "            return num\n",
    "    return None\n",
    "\n",
    "\n",
    "def chequeator(df_to_submit):\n",
    "    \"\"\"\n",
    "    Esta función se asegura de que tu submission tenga la forma requerida por Kaggle.\n",
    "    \n",
    "    Si es así, se guardará el dataframe en un `csv` y estará listo para subir a Kaggle.\n",
    "    \n",
    "    Si no, LEE EL MENSAJE Y HAZLE CASO.\n",
    "    \n",
    "    Si aún no:\n",
    "    - apaga tu ordenador, \n",
    "    - date una vuelta, \n",
    "    - enciendelo otra vez, \n",
    "    - abre este notebook y \n",
    "    - leelo todo de nuevo. \n",
    "    Todos nos merecemos una segunda oportunidad. También tú.\n",
    "    \"\"\"\n",
    "    if df_to_submit.shape == sample.shape:\n",
    "        if df_to_submit.columns.all() == sample.columns.all():\n",
    "            if df_to_submit.laptop_ID.all() == sample.laptop_ID.all():\n",
    "                print(\"You're ready to submit!\")\n",
    "                submission.to_csv(\"submission.csv\", index = False) #muy importante el index = False\n",
    "                urllib.request.urlretrieve(\"https://i.kym-cdn.com/photos/images/facebook/000/747/556/27a.jpg\", \"gfg.png\")     \n",
    "                img = Image.open(\"gfg.png\")\n",
    "                img.show()   \n",
    "            else:\n",
    "                print(\"Check the ids and try again\")\n",
    "        else:\n",
    "            print(\"Check the names of the columns and try again\")\n",
    "    else:\n",
    "        print(\"Check the number of rows and/or columns and try again\")\n",
    "        print(\"\\nMensaje secreto de Clara: No me puedo creer que después de todo este notebook hayas hecho algún cambio en las filas de `diamonds_test.csv`. Lloro.\")\n"
   ]
  },
  {
   "cell_type": "code",
   "execution_count": 9,
   "metadata": {},
   "outputs": [
    {
     "data": {
      "text/html": [
       "<div>\n",
       "<style scoped>\n",
       "    .dataframe tbody tr th:only-of-type {\n",
       "        vertical-align: middle;\n",
       "    }\n",
       "\n",
       "    .dataframe tbody tr th {\n",
       "        vertical-align: top;\n",
       "    }\n",
       "\n",
       "    .dataframe thead th {\n",
       "        text-align: right;\n",
       "    }\n",
       "</style>\n",
       "<table border=\"1\" class=\"dataframe\">\n",
       "  <thead>\n",
       "    <tr style=\"text-align: right;\">\n",
       "      <th>COL_N</th>\n",
       "      <th>laptop_ID</th>\n",
       "      <th>Company</th>\n",
       "      <th>Product</th>\n",
       "      <th>TypeName</th>\n",
       "      <th>Inches</th>\n",
       "      <th>ScreenResolution</th>\n",
       "      <th>Cpu</th>\n",
       "      <th>Ram</th>\n",
       "      <th>Memory</th>\n",
       "      <th>Gpu</th>\n",
       "      <th>OpSys</th>\n",
       "      <th>Weight</th>\n",
       "      <th>Price_euros</th>\n",
       "    </tr>\n",
       "  </thead>\n",
       "  <tbody>\n",
       "    <tr>\n",
       "      <th>DATA_TYPE</th>\n",
       "      <td>int64</td>\n",
       "      <td>object</td>\n",
       "      <td>object</td>\n",
       "      <td>object</td>\n",
       "      <td>float64</td>\n",
       "      <td>object</td>\n",
       "      <td>object</td>\n",
       "      <td>object</td>\n",
       "      <td>object</td>\n",
       "      <td>object</td>\n",
       "      <td>object</td>\n",
       "      <td>object</td>\n",
       "      <td>float64</td>\n",
       "    </tr>\n",
       "    <tr>\n",
       "      <th>MISSINGS (%)</th>\n",
       "      <td>0.0</td>\n",
       "      <td>0.0</td>\n",
       "      <td>0.0</td>\n",
       "      <td>0.0</td>\n",
       "      <td>0.0</td>\n",
       "      <td>0.0</td>\n",
       "      <td>0.0</td>\n",
       "      <td>0.0</td>\n",
       "      <td>0.0</td>\n",
       "      <td>0.0</td>\n",
       "      <td>0.0</td>\n",
       "      <td>0.0</td>\n",
       "      <td>0.0</td>\n",
       "    </tr>\n",
       "    <tr>\n",
       "      <th>UNIQUE_VALUES</th>\n",
       "      <td>912</td>\n",
       "      <td>19</td>\n",
       "      <td>467</td>\n",
       "      <td>6</td>\n",
       "      <td>17</td>\n",
       "      <td>34</td>\n",
       "      <td>96</td>\n",
       "      <td>8</td>\n",
       "      <td>32</td>\n",
       "      <td>94</td>\n",
       "      <td>9</td>\n",
       "      <td>166</td>\n",
       "      <td>603</td>\n",
       "    </tr>\n",
       "    <tr>\n",
       "      <th>CARDIN (%)</th>\n",
       "      <td>100.0</td>\n",
       "      <td>2.08</td>\n",
       "      <td>51.21</td>\n",
       "      <td>0.66</td>\n",
       "      <td>1.86</td>\n",
       "      <td>3.73</td>\n",
       "      <td>10.53</td>\n",
       "      <td>0.88</td>\n",
       "      <td>3.51</td>\n",
       "      <td>10.31</td>\n",
       "      <td>0.99</td>\n",
       "      <td>18.2</td>\n",
       "      <td>66.12</td>\n",
       "    </tr>\n",
       "  </tbody>\n",
       "</table>\n",
       "</div>"
      ],
      "text/plain": [
       "COL_N         laptop_ID Company Product TypeName   Inches ScreenResolution  \\\n",
       "DATA_TYPE         int64  object  object   object  float64           object   \n",
       "MISSINGS (%)        0.0     0.0     0.0      0.0      0.0              0.0   \n",
       "UNIQUE_VALUES       912      19     467        6       17               34   \n",
       "CARDIN (%)        100.0    2.08   51.21     0.66     1.86             3.73   \n",
       "\n",
       "COL_N             Cpu     Ram  Memory     Gpu   OpSys  Weight Price_euros  \n",
       "DATA_TYPE      object  object  object  object  object  object     float64  \n",
       "MISSINGS (%)      0.0     0.0     0.0     0.0     0.0     0.0         0.0  \n",
       "UNIQUE_VALUES      96       8      32      94       9     166         603  \n",
       "CARDIN (%)      10.53    0.88    3.51   10.31    0.99    18.2       66.12  "
      ]
     },
     "execution_count": 9,
     "metadata": {},
     "output_type": "execute_result"
    }
   ],
   "source": [
    "data_report(train)"
   ]
  },
  {
   "cell_type": "markdown",
   "metadata": {},
   "source": [
    "### Variables Ram y Weight"
   ]
  },
  {
   "cell_type": "markdown",
   "metadata": {},
   "source": [
    "Realizamos variacion en variables Ram y Weight para quitar las unidades y convertirlas a variables numericas, eliminamos las variables originales"
   ]
  },
  {
   "cell_type": "code",
   "execution_count": 10,
   "metadata": {},
   "outputs": [],
   "source": [
    "train['Ram_1'] = train ['Ram'].map (lambda x: x.rstrip('GB')).astype(int)\n",
    "train['Weight_1'] = train ['Weight'].map (lambda x: x.rstrip('kg')).astype(float)\n",
    "train.drop(columns=['Ram', 'Weight'], inplace=True)"
   ]
  },
  {
   "cell_type": "markdown",
   "metadata": {},
   "source": [
    "### Variable Company"
   ]
  },
  {
   "cell_type": "code",
   "execution_count": 11,
   "metadata": {},
   "outputs": [
    {
     "data": {
      "text/plain": [
       "array(['Acer', 'Dell', 'HP', 'Lenovo', 'Asus', 'Xiaomi', 'Apple',\n",
       "       'Samsung', 'Razer', 'Toshiba', 'Fujitsu', 'Microsoft', 'MSI', 'LG',\n",
       "       'Mediacom', 'Google', 'Vero', 'Huawei', 'Chuwi'], dtype=object)"
      ]
     },
     "execution_count": 11,
     "metadata": {},
     "output_type": "execute_result"
    }
   ],
   "source": [
    "train['Company'].unique()"
   ]
  },
  {
   "cell_type": "markdown",
   "metadata": {},
   "source": [
    "### Variable Product"
   ]
  },
  {
   "cell_type": "markdown",
   "metadata": {},
   "source": [
    "Esta variable se deja como esta y no se incluye en el analisis."
   ]
  },
  {
   "cell_type": "code",
   "execution_count": 12,
   "metadata": {},
   "outputs": [
    {
     "data": {
      "text/plain": [
       "array(['Aspire ES1-523', 'XPS 13', 'Aspire A517-51G', 'Elitebook 820',\n",
       "       'IdeaPad 320-15AST', 'IdeaPad 500-15ISK', 'IdeaPad 520S-14IKB',\n",
       "       'Pavilion 14-BK001nv', 'Omen 17-w212nv', 'Rog GL553VE-FY052T',\n",
       "       'Latitude 3180', 'Yoga 720-13IKB', 'IdeaPad 320-15IKBN',\n",
       "       'Mi Notebook', 'EliteBook 850', 'Aspire ES1-531', 'MacBook 12\"',\n",
       "       'Latitude E5570', 'XPS 15', 'Alienware 17', 'Inspiron 7567',\n",
       "       'B51-80 (i7-6500U/8GB/1008GB/Radeon', 'Spectre 13-V111dx',\n",
       "       'Inspiron 3567', 'Spectre Pro', 'Latitude 7480', 'ProBook 440',\n",
       "       'Swift 3', 'Latitude 5480',\n",
       "       'X556UJ-XO044T (i7-6500U/4GB/500GB/GeForce', 'EliteBook x360',\n",
       "       'Notebook Odyssey', 'Precision 3520', 'ThinkPad L470',\n",
       "       'Probook 450', 'Aspire 5', 'Rog GL753VE-GC070T', 'Blade Pro',\n",
       "       'Chromebook 14', 'Chromebook Flip', 'Tecra Z50-C-144',\n",
       "       'Insprion 5767', 'Macbook Air', '250 G6',\n",
       "       'E402WA-GA007T (E2-6110/4GB/64GB/W10', 'VivoBook S14',\n",
       "       'Latitude 5590', 'Yoga 900-13ISK', 'EliteBook 820',\n",
       "       'Envy 13-ad009n', 'Thinkpad 13', 'ThinkPad T470', 'Yoga 500-14IBD',\n",
       "       'LifeBook A556', 'IdeaPad 110-15ISK', 'Thinkpad X270',\n",
       "       'Legion Y720-15IKB', 'Surface Laptop', 'GL62M 7RD',\n",
       "       'V320-17ISK (i3-6006U/4GB/500GB/FHD/No',\n",
       "       '15-BS026nv (i5-7200U/8GB/256GB/Radeon',\n",
       "       'K756UX-T4340T (i5-7200U/8GB/500GB', 'Rog GL753VD-GC082T',\n",
       "       'Omen 17-w207nv', 'Aspire A515-51G-37JS', 'EliteBook 840',\n",
       "       'IdeaPad 320-15ISK', 'Portege A30-C-1CZ', 'Yoga 920-13IKB',\n",
       "       'ProBook 470', 'EliteBook 1040', 'IdeaPad 320-15IAP',\n",
       "       'Inspiron 7559', 'IdeaPad 320s-14IKB', 'Probook 640',\n",
       "       'ThinkPad T570', 'Aspire E5-576G', 'ProBook 450', 'Gram 15Z970',\n",
       "       '250 G5', 'X751NV-TY001T (N4200/4GB/1TB/GeForce', 'Lenovo IdeaPad',\n",
       "       'Thinkpad T570', 'Latitude 3480',\n",
       "       'V330-15IKB (i5-8250U/4GB/500GB/FHD/W10)', 'Latitude 5580',\n",
       "       'ThinkPad E570', 'Satellite Pro', 'GL72M 7REX', 'Inspiron 7577',\n",
       "       'Pavilion Power', 'Precision 5520',\n",
       "       'X505BP-BR019T (A9-9420/4GB/1TB/Radeon',\n",
       "       'V310-15ISK (i5-6200U/4GB/1TB/FHD/No', 'Rog G752VT-GC073T',\n",
       "       'GT72VR Dominator', 'Stream 11-Y000na', 'GS63VR 7RF', 'GS60 Ghost',\n",
       "       'GT80S 6QF-074US', 'Yoga 720-15IKB', 'VivoBook E403NA',\n",
       "       'Inspiron 5770', 'ThinkPad 13', '17-X047na (i3-6006U/8GB/1TB/W10)',\n",
       "       'GT80S 6QE', 'Vostro 3568', 'X541NA-GO121 (N4200/4GB/1TB/Linux)',\n",
       "       'ThinkPad P51', 'IdeaPad 310-15IKB', 'ProBook 640',\n",
       "       'Inspiron 5570', 'IdeaPad 320-15IKB', 'IdeaPad 110-15IBR',\n",
       "       'IdeaPad 120S-14IAP', 'Yoga 500-14ISK', 'Tecra A40-C-1E5',\n",
       "       'IdeaPad 100S-14IBR', 'ProBook 650', 'Portege X30-D-10K',\n",
       "       'GS63VR 6RF', 'Aspire 3', 'Latitude 3580',\n",
       "       'V110-15ISK (i5-6200U/4GB/500GB/W10)', 'Gram 14Z970',\n",
       "       'MacBook Air', 'Aspire E5-575', 'Precision 7520', 'Thinkpad T470p',\n",
       "       'IdeaPad 320-15ABR', 'Inspiron 5378', 'EliteBook 1030',\n",
       "       'MacBook Pro', 'Aspire ES1-572', 'GS73VR 7RF', 'Aspire E5-475',\n",
       "       'Leopard GP72M', 'Omen 15-ce007nv', 'GE72VR 6RF',\n",
       "       'Pavilion 15-cb003nv', 'Inspiron 3552',\n",
       "       'FX553VD-DM627T (i5-7300HQ/8GB/1TB',\n",
       "       '15-cb003na (i5-7300HQ/8GB/1TB', 'Pro P2540UA-XS51',\n",
       "       'Zenbook UX510UW-FI095T', 'ThinkPad T460s', 'Omen 17-an012dx',\n",
       "       'TravelMate P238-M', 'Inspiron 7570',\n",
       "       'B51-80 (i5-6200U/8GB/1TB/Radeon', 'ThinkPad X1', 'Elitebook 850',\n",
       "       'Spectre X360', 'ThinkPad T470s', 'ProBook x360', 'GP62MVR 6RF',\n",
       "       'Legion Y520-15IKBN', 'Latitude E5270', 'Vostro 5471',\n",
       "       'V110-15ISK (i3-6006U/4GB/500GB/W10)', 'Inspiron 7773',\n",
       "       'IdeaPad 310-15ISK', 'Inspiron 5577', 'Omen 17-W006na',\n",
       "       'X541UV-DM1439T (i3-7100U/6GB/256GB/GeForce', 'Inspiron 5379',\n",
       "       'VivoBook Pro', 'GT62VR 6RD', 'Swift 7', 'Inspiron 5370',\n",
       "       'ProBook 430', '15-BA015wm (E2-7110/4GB/500GB/W10)',\n",
       "       'VivoBook Max', 'Tecra A50-C-1ZV', 'Probook 440', '17-bs000nv I3',\n",
       "       'Yoga 730', 'V110-15ISK (3855U/4GB/500GB/W10)', 'Omen 15-AX205na',\n",
       "       'X553SA-XX031T (N3050/4GB/500GB/W10)',\n",
       "       'V110-15ISK (i3-6006U/4GB/128GB/W10)',\n",
       "       '17-ak002nv (A10-9620P/6GB/2TB/Radeon', 'IdeaPad Y700-15ISK',\n",
       "       'Aspire A315-51', 'Q524UQ-BHI7T15 (i7-7500U/12GB/2TB/GeForce',\n",
       "       'GS43VR 7RE', 'IdeaPad 510-15ISK', 'Pavilion 15-AW003nv',\n",
       "       'Rog G701VIK-BA060T', 'Thinkpad X1', 'Thinkpad P51',\n",
       "       'Pavilion x360', 'Q304UA-BHI5T11 (i5-7200U/6GB/1TB/FHD/W10)',\n",
       "       'Thinkpad T460', 'Tecra A40-C-1DF',\n",
       "       'FX753VD-GC007T (i7-7700HQ/8GB/1TB', 'IdeaPad 320-17IKB',\n",
       "       'ZBook 15u', 'V310-15IKB (i5-7200U/4GB/1TB/FHD/W10)',\n",
       "       'ZBook Studio', 'ZBook 17', 'Inspiron 5368', 'Latitude E7470',\n",
       "       'ThinkPad X270', 'Yoga 910-13IKB', 'Inspiron 5578', 'Vostro 5568',\n",
       "       'Inspiron 5579', 'GP62M 7RDX', 'Yoga 500-15ISK', 'SmartBook 141',\n",
       "       'V110-15ISK (i5-6200U/4GB/500GB/No', 'Rog G752VY-GC229T',\n",
       "       '15-bw003nv (A9-Series-9420/4GB/256GB/FHD/W10)', 'Inspiron 3576',\n",
       "       '15-bs190od (i5-8250U/4GB/1TB/W10)', 'Yoga 520-14IKB',\n",
       "       'Ideapad 520-15IKBR', '15-AY023na (N3710/8GB/2TB/W10)',\n",
       "       'Chromebook 11', 'VivoBook S15', 'Omen 15-ce006nv',\n",
       "       'Thinkpad T560', 'Portege Z30-C-16H', 'Spectre x360',\n",
       "       'V310-15IKB (i5-7200U/8GB/1TB',\n",
       "       'L502NA-GO052T (N3350/4GB/128GB/W10)', 'ZenBook Flip',\n",
       "       'Envy 13-AB077cl', 'Portege X30-D-10V', 'Chromebook 13',\n",
       "       'EliteBook Folio', 'ZBook 15', 'Laptop MSI', 'GE72VR Apache',\n",
       "       'ThinkPad Yoga', 'GS73VR Stealth', 'Rog Strix', 'GP72VR Leopard',\n",
       "       'Pro P2540UA-XO0192R', 'SmartBook Edge',\n",
       "       '110-15ACL (A6-7310/4GB/500GB/W10)', 'Tecra A50-D-11D',\n",
       "       'Chromebook 15', 'N23 (N3060/4GB/128GB/W10)', 'ThinkPad E480',\n",
       "       'Vostro 5468', 'Aspire VX5-591G', 'Portege Z30-C-16L',\n",
       "       'Tecra X40-D-10Z', 'V110-15IAP (N3350/4GB/1TB/No', 'LifeBook A557',\n",
       "       'ROG Strix', 'Latitude E7270', 'X541NA (N3350/4GB/1TB/Linux)',\n",
       "       'Notebook 9', 'Inspiron 5567', 'Elitebook 840', 'Tecra Z50-D-10E',\n",
       "       'Rog GL702VS-BA023T', 'IdeaPad Y700-15ACZ', 'VivoBook E12',\n",
       "       'Vostro 5370', 'VivoBook L402NA',\n",
       "       'X751NV-TY001 (N4200/4GB/1TB/GeForce', 'Vostro 3559',\n",
       "       'Thinkpad T470', 'Precision 3510', 'GE73VR 7RE',\n",
       "       'X555BP-XX180T (A9-9420/4GB/1TB/Radeon', 'Vivobook Max',\n",
       "       'V110-15IKB (i5-7200U/4GB/128GB/W10)',\n",
       "       'V330-15IKB (i7-8550U/8GB/256GB/FHD/W10)', 'E5 774G',\n",
       "       'Envy 13-AB002nv', 'Portege Z30-C-16J',\n",
       "       'V310-15IKB (i5-7200U/4GB/1TB/No', 'Thinkpad T460s',\n",
       "       'ES1-523-84K7 (A8-7410/8GB/256GB/FHD/W10)',\n",
       "       'FX502VM-AS73 (i7-7700HQ/16GB/1TB', 'Thinkpad Yoga',\n",
       "       'Tecra Z40-C-12X', '15-BS078nr (i7-7500U/8GB/1TB/W10)',\n",
       "       'X541NA-GO414T (N3350/8GB/1TB/W10)', 'Tecra A40-C-1KF',\n",
       "       'Vivobook E200HA', 'Elitebook 1040', 'Rog GL702VM-GC017T',\n",
       "       'GL62M 7RDX', 'Precision 7720', 'Zenbook UX390UA', 'Latitude 7280',\n",
       "       'Aspire A715-71G', 'Pavilion X360', 'Pixelbook (Core',\n",
       "       'X542UQ-GO005 (i5-7200U/8GB/1TB/GeForce', 'GS70 Stealth',\n",
       "       'Omen 17-an006nv', 'Probook 470',\n",
       "       'V110-15ISK (i5-6200U/4GB/128GB/W10)',\n",
       "       '15-AC110nv (i7-6500U/6GB/1TB/Radeon', 'IdeaPad 720S-14IKB',\n",
       "       'GE72MVR 7RG', 'Rog G752VL-GC088D', 'Aspire A515-51G',\n",
       "       'SmartBook 130', 'Portg Z30-C-188', 'IdeaPad 510s-14IKB',\n",
       "       'Aspire ES1-533', 'ZenBook UX410UA-GV183T',\n",
       "       '320-15ISK (i3-6006U/4GB/1TB/GeForce', 'ROG GL553VE-FY022',\n",
       "       'Chromebook C910-C2ST', 'Yoga 900S-12ISK', 'ThinkPad P70',\n",
       "       'GV62M 7RD', 'Stream 14-AX040wm',\n",
       "       'FX753VD-GC086T (i5-7300HQ/8GB/1TB', 'ZenBook 3',\n",
       "       'Tecra Z40-C-161', 'ZenBook UX310UQ-GL026T', 'TravelMate B',\n",
       "       '15-bs018nq (i3-6006U/4GB/500GB/FHD/No',\n",
       "       'X541NA (N4200/4GB/1TB/W10)',\n",
       "       '15-bs012nv (i7-7500U/8GB/1TB/Radeon', 'ZenBook Pro',\n",
       "       '17-AK091ND (A9-9420/8GB/1TB/W10)', 'Rog GL702VS-GC095T',\n",
       "       'Swift SF114-31-P5HY', '15-BW004nv (A9-9420/4GB/256GB/Radeon',\n",
       "       'FX503VM-E4007T (i7-7700HQ/16GB/1TB', 'ThinkPad L570',\n",
       "       'V310-15ISK (i3-6006U/4GB/1TB/FHD/W10)', 'Envy 13-AD007nv',\n",
       "       'FX502VM-DM105T (i7-6700HQ/8GB/1TB/GeForce', '255 G6',\n",
       "       'X541NA-PD1003Y (N4200/4GB/500GB/W10)', 'Zenbook UX330UA-AH5Q',\n",
       "       'GT72S Dominator', 'GS73VR 7RG', 'Rog GL753VD-GC042T',\n",
       "       'Ideapad 310-15ISK', 'ThinkPad T470p', 'Rog GL502VM-DS74',\n",
       "       'Zenbook 3', 'Blade Stealth', 'FX502VM-DM560T (i7-7700HQ/8GB/1TB',\n",
       "       'Zenbook UX430UA', 'Rog GL502VS',\n",
       "       '15-BW037na (A9-9420/4GB/1TB/Radeon', 'Portege Z30-C-16Z',\n",
       "       'X540UA-DM186 (i3-6006U/4GB/1TB/FHD/Linux)',\n",
       "       'V310-15ISK (i5-7200U/8GB/1TB', 'Zbook 17', 'Precision M5520',\n",
       "       'ThinkPad T460', 'Aspire 1', 'UX510UX-CN269T (i7-7500U/8GB/256GB',\n",
       "       'Aspire A315-31', 'IdeaPad Y900-17ISK',\n",
       "       'V330-15IKB (i5-8250U/4GB/256GB/FHD/W10)', 'ZenBook UX305CA-UBM1',\n",
       "       '15-bs024nv (i5-7200U/8GB/128GB/W10)',\n",
       "       '15-ay047nv (i3-6006U/6GB/1TB/Radeon', 'IdeaPad 320-14IAP',\n",
       "       '15-bw011nv (A6-9220/4GB/1TB/FHD/W10)', 'Omen -', 'GS63VR 7RG',\n",
       "       'Zenbook Flip', 'V510-15IKB (i5-7200U/8GB/256GB/FHD/No',\n",
       "       'ThinkPad E580', '17-BS092ND (i3-6006U/8GB/256GB/W10)', 'Nitro 5',\n",
       "       'Inspiron 7579', 'K556UR-DM621T (i7-7500U/8GB/256GB/GeForce',\n",
       "       '15-BS103nv (i5-8250U/6GB/256GB/Radeon', 'Thinkpad P51s',\n",
       "       'G701VO-IH74K (i7-6820HK/32GB/2x',\n",
       "       '15-BW094nd (A6-9220/8GB/128GB/W10)', 'Flex 5',\n",
       "       'TravelMate P259-G2', 'Envy 17-U275cl', 'Alienware 15',\n",
       "       '15-bs017nv (i7-7500U/8GB/256GB/Radeon', 'Yoga Book',\n",
       "       'L403NA-GA013TS (N3350/4GB/32GB/W10)', 'Envy x360',\n",
       "       'UX410UA-GV097T (i3-7100U/4GB/256GB/FHD/W10)', 'N42-20 Chromebook',\n",
       "       'B51-80 (i7-6500U/4GB/1008GB/FHD/W7)', 'Rog GL553VE-DS74',\n",
       "       'Aspire E5-774G', 'FX503VD-E4022T (i7-7700HQ/8GB/1TB/GeForce',\n",
       "       'Inspiron 3168', 'FX753VD-GC071T (i7-7700HQ/8GB/1TB/GeForce',\n",
       "       'Tecra Z40-C-12Z', 'Omen 17-AN010nv', 'GP72MVR 7RFX',\n",
       "       'K147 (N3350/4GB/32GB/FHD/W10)', 'Inspiron 5568', 'Latitude 3380',\n",
       "       'SP714-51 (i7-7Y75/8GB/256GB/FHD/W10)', 'Spectre 13-V100nv',\n",
       "       'Thinkpad P71', 'TravelMate B117-M', 'Extensa EX2540-58KR',\n",
       "       'ThinkPad L460', 'GL553VE-FY082T (i7-7700HQ/8GB/1TB',\n",
       "       'Tecra Z50-C-140', 'TP501UA-CJ131T (i5-7200U/8GB/1TB/W10)',\n",
       "       'IdeaPad 520s-14IKB', '15-bs015dx (i5-7200U/8GB/1TB/W10)',\n",
       "       '250 G4', 'Ideapad 320-15IKBN', 'IdeaPad 310-15ABR',\n",
       "       'V310-15ISK (i3-6006U/4GB/128GB/FHD/No', 'Aspire A515-51G-32MX',\n",
       "       'ROG G752VSK-GC493T', '15-BW091ND (A9-9420/6GB/1TB',\n",
       "       'IdeaPad 320-17ISK', 'Portege X20W-D-10V', 'Latitude 7390',\n",
       "       'ROG G701VI', 'Thinkpad E470', 'MateBook X', 'Rog GL752VW-T4308T',\n",
       "       '15-bs005nv (i3-6006U/4GB/1TB', 'GE63VR 7RF', 'Stream 14-AX000nv',\n",
       "       'Portege Z30-C-1CW', 'Chromebook X360',\n",
       "       'CB5-132T-C9KK (N3160/4GB/32GB/Chrome', 'Portege X30-D-10X',\n",
       "       'Tecra A50-C-218', '15-ra044nv (N3060/4GB/500GB/W10)',\n",
       "       'Chromebook N23', 'Nitro AN515-51', 'Chromebook CB5-571-C1DZ',\n",
       "       'Yoga 11e', 'UX410UA-GV350T (i5-8250U/8GB/256GB/FHD/W10)',\n",
       "       'X751SV-TY001T (N3710/4GB/1TB/GeForce', 'Chromebook C202SA',\n",
       "       'Yoga 510-15IKB', 'GE73VR 7RF',\n",
       "       '15-bs011nv (i7-7500U/4GB/500GB/Radeon', 'ThinkPad P51s',\n",
       "       'Inspiron 7378', 'IdeaPad Y910-17ISK', 'Latitude E5470',\n",
       "       'Q534UX-BHI7T19 (i7-7500U/16GB/2TB',\n",
       "       '17-bs001nv (i5-7200U/6GB/2TB/Radeon',\n",
       "       '17-BS037cl (i3-6006U/8GB/1TB/W10)', 'IdeaPad 510-15IKB',\n",
       "       '15-BS028nv (i3-6006U/4GB/1TB/Radeon', 'FlexBook Edge', 'Aspire 7',\n",
       "       'Thinkpad T460p', 'V110-15ISK (i3-6006U/4GB/1TB/No',\n",
       "       'Ideapad 320-15IAP', '15-bs053od (i7-7500U/6GB/1TB/W10)',\n",
       "       'GP62M Leopard', 'X541NA-GO020T (N3350/4GB/1TB/W10)',\n",
       "       'Pro P2540UA-XO0198T', 'Spin 3', 'LapBook 15.6\"', 'GT73VR Titan',\n",
       "       '15-bw002nv (A6-9220/4GB/256GB/Radeon'], dtype=object)"
      ]
     },
     "execution_count": 12,
     "metadata": {},
     "output_type": "execute_result"
    }
   ],
   "source": [
    "train['Product'].unique()"
   ]
  },
  {
   "cell_type": "markdown",
   "metadata": {},
   "source": [
    "### Variable TypeName"
   ]
  },
  {
   "cell_type": "markdown",
   "metadata": {},
   "source": [
    "Se realizará el proceso de OHE para esta variable"
   ]
  },
  {
   "cell_type": "code",
   "execution_count": 13,
   "metadata": {},
   "outputs": [
    {
     "data": {
      "text/plain": [
       "TypeName\n",
       "Notebook              515\n",
       "Ultrabook             141\n",
       "Gaming                134\n",
       "2 in 1 Convertible     83\n",
       "Workstation            20\n",
       "Netbook                19\n",
       "Name: count, dtype: int64"
      ]
     },
     "execution_count": 13,
     "metadata": {},
     "output_type": "execute_result"
    }
   ],
   "source": [
    "train['TypeName'].value_counts()"
   ]
  },
  {
   "cell_type": "markdown",
   "metadata": {},
   "source": [
    "### Variable Inches"
   ]
  },
  {
   "cell_type": "markdown",
   "metadata": {},
   "source": [
    "Variable numerica, se deja como está para incluirla en el analisis"
   ]
  },
  {
   "cell_type": "code",
   "execution_count": 14,
   "metadata": {},
   "outputs": [
    {
     "data": {
      "text/plain": [
       "Inches\n",
       "15.6    454\n",
       "14.0    151\n",
       "13.3    116\n",
       "17.3    110\n",
       "12.5     29\n",
       "11.6     22\n",
       "12.0      6\n",
       "13.5      6\n",
       "13.9      4\n",
       "15.4      3\n",
       "12.3      3\n",
       "15.0      2\n",
       "10.1      2\n",
       "18.4      1\n",
       "14.1      1\n",
       "17.0      1\n",
       "13.0      1\n",
       "Name: count, dtype: int64"
      ]
     },
     "execution_count": 14,
     "metadata": {},
     "output_type": "execute_result"
    }
   ],
   "source": [
    "train['Inches'].value_counts()"
   ]
  },
  {
   "cell_type": "markdown",
   "metadata": {},
   "source": [
    "### Variable ScreenResulution "
   ]
  },
  {
   "cell_type": "markdown",
   "metadata": {},
   "source": [
    "Se crearon dos variables, una llamada Resolution que aloja los valores de resolucion y otra llamada Screen que contiene la descripcion de la pantalla. Finalmente se elimina la variable ScreenResolution"
   ]
  },
  {
   "cell_type": "code",
   "execution_count": 15,
   "metadata": {},
   "outputs": [
    {
     "data": {
      "text/plain": [
       "array(['1366x768', 'Quad HD+ / Touchscreen 3200x1800',\n",
       "       'IPS Panel Full HD 1920x1080', 'Full HD 1920x1080', '1600x900',\n",
       "       'IPS Panel Full HD / Touchscreen 1920x1080',\n",
       "       'IPS Panel Retina Display 2304x1440',\n",
       "       '4K Ultra HD / Touchscreen 3840x2160', 'Touchscreen 2560x1440',\n",
       "       'Full HD / Touchscreen 1920x1080', '1440x900',\n",
       "       'IPS Panel Quad HD+ / Touchscreen 3200x1800',\n",
       "       'Touchscreen 2256x1504',\n",
       "       'IPS Panel 4K Ultra HD / Touchscreen 3840x2160',\n",
       "       'IPS Panel Touchscreen / 4K Ultra HD 3840x2160',\n",
       "       'IPS Panel 1366x768', '4K Ultra HD 3840x2160',\n",
       "       'IPS Panel 4K Ultra HD 3840x2160',\n",
       "       'IPS Panel Retina Display 2880x1800',\n",
       "       'IPS Panel Touchscreen 2560x1440', 'Touchscreen 1366x768',\n",
       "       '2560x1440', 'IPS Panel Retina Display 2560x1600',\n",
       "       'Quad HD+ 3200x1800', 'IPS Panel Full HD 2560x1440', '1920x1080',\n",
       "       'Touchscreen 2400x1600', 'IPS Panel 2560x1440',\n",
       "       'IPS Panel Quad HD+ 3200x1800', 'IPS Panel Touchscreen 1366x768',\n",
       "       'IPS Panel Touchscreen 1920x1200',\n",
       "       'Touchscreen / Quad HD+ 3200x1800', 'IPS Panel Quad HD+ 2560x1440',\n",
       "       'IPS Panel Full HD 2160x1440'], dtype=object)"
      ]
     },
     "execution_count": 15,
     "metadata": {},
     "output_type": "execute_result"
    }
   ],
   "source": [
    "train['ScreenResolution'].unique()"
   ]
  },
  {
   "cell_type": "code",
   "execution_count": 16,
   "metadata": {},
   "outputs": [],
   "source": [
    "train['Resolution'] = train['ScreenResolution'].str.extract(r'(\\d+x\\d+)$', expand=True) \n",
    "train['Screen'] = train['ScreenResolution'].str.extract(r'^(.*?)(?=\\d+x\\d+$)', expand=True)\n",
    "train.drop(columns=['ScreenResolution'], inplace=True)"
   ]
  },
  {
   "cell_type": "markdown",
   "metadata": {},
   "source": [
    "### Variable Cpu"
   ]
  },
  {
   "cell_type": "markdown",
   "metadata": {},
   "source": [
    "Se genera una nueva variable llamada cpu_GHz que contiene las velocidades en GHz de los procesadores. Se crea otra vaariable que guarda el nombre de la marca, esta se llama cpu_Marca. Finalemnte eliminamos la columna Cpu"
   ]
  },
  {
   "cell_type": "code",
   "execution_count": 17,
   "metadata": {},
   "outputs": [
    {
     "data": {
      "text/plain": [
       "array(['AMD A8-Series 7410 2.2GHz', 'Intel Core i7 7560U 2.4GHz',\n",
       "       'Intel Core i5 8250U 1.6GHz', 'Intel Core i7 7500U 2.7GHz',\n",
       "       'AMD A6-Series 9220 2.5GHz', 'Intel Core i7 6500U 2.5GHz',\n",
       "       'Intel Core i3 7130U 2.7GHz', 'Intel Core i5 7200U 2.5GHz',\n",
       "       'Intel Core i7 7700HQ 2.8GHz',\n",
       "       'Intel Pentium Quad Core N4200 1.1GHz',\n",
       "       'Intel Core i5 6300U 2.4GHz',\n",
       "       'Intel Celeron Dual Core N3060 1.6GHz', 'Intel Core M 1.1GHz',\n",
       "       'Intel Core i5 7300HQ 2.5GHz', 'Intel Core i3 6006U 2GHz',\n",
       "       'Intel Core i7 6600U 2.6GHz', 'Intel Core i3 7100U 2.4GHz',\n",
       "       'Intel Core i5 7440HQ 2.8GHz', 'Intel Core i7 7600U 2.8GHz',\n",
       "       'Intel Core i7 6820HQ 2.7GHz', 'Intel Core i5 6200U 2.3GHz',\n",
       "       'AMD A6-Series 9220 2.9GHz', 'Intel Core M M3-6Y30 0.9GHz',\n",
       "       'Intel Core i3 6006U 2.0GHz', 'Intel Core i5 1.8GHz',\n",
       "       'AMD E-Series 6110 1.5GHz', 'Intel Core i7 7Y75 1.3GHz',\n",
       "       'Intel Core i7 8650U 1.9GHz', 'Intel Core i7 6560U 2.2GHz',\n",
       "       'Intel Core i3 6100U 2.3GHz', 'Intel Core i7 8550U 1.8GHz',\n",
       "       'Intel Core i7 6700HQ 2.6GHz',\n",
       "       'Intel Celeron Dual Core N3350 1.1GHz',\n",
       "       'Intel Core i3 6100U 2.1GHz', 'AMD A9-Series 9420 3GHz',\n",
       "       'Intel Core i7 6920HQ 2.9GHz', 'Intel Core i7 6820HK 2.7GHz',\n",
       "       'Intel Celeron Quad Core N3710 1.6GHz',\n",
       "       'Intel Celeron Dual Core N3050 1.6GHz',\n",
       "       'Intel Core i7 7820HQ 2.9GHz', 'Intel Core i5 1.6GHz',\n",
       "       'Intel Xeon E3-1505M V6 3GHz', 'AMD A12-Series 9720P 3.6GHz',\n",
       "       'Intel Core M 6Y75 1.2GHz', 'Intel Core i7 2.2GHz',\n",
       "       'Intel Core i5 7300U 2.6GHz',\n",
       "       'Intel Pentium Quad Core N3700 1.6GHz',\n",
       "       'Intel Core i5 6300HQ 2.3GHz', 'Intel Core i5 7Y54 1.2GHz',\n",
       "       'AMD E-Series 7110 1.8GHz', 'Intel Celeron Dual Core 3855U 1.6GHz',\n",
       "       'Intel Core i5 7200U 2.50GHz', 'AMD A10-Series 9620P 2.5GHz',\n",
       "       'Intel Core i3 6006U 2.2GHz', 'AMD A9-Series 9410 2.9GHz',\n",
       "       'Intel Pentium Quad Core N3710 1.6GHz',\n",
       "       'Intel Core i7 7820HK 2.9GHz', 'Intel Core i5 3.1GHz',\n",
       "       'Intel Core i7 6500U 2.50GHz', 'Intel Core i7 7660U 2.5GHz',\n",
       "       'Intel Atom x5-Z8350 1.44GHz', 'AMD E-Series E2-9000 2.2GHz',\n",
       "       'Intel Pentium Dual Core 4405Y 1.5GHz',\n",
       "       'Intel Celeron Quad Core N3450 1.1GHz', 'AMD A6-Series 7310 2GHz',\n",
       "       'Intel Pentium Dual Core 4405U 2.1GHz',\n",
       "       'Intel Celeron Dual Core 3205U 1.5GHz', 'AMD FX 8800P 2.1GHz',\n",
       "       'Intel Core i5 6440HQ 2.6GHz',\n",
       "       'Intel Pentium Dual Core N4200 1.1GHz',\n",
       "       'Intel Core i5 7Y57 1.2GHz', 'Intel Core i5 2.3GHz',\n",
       "       'Intel Core M 1.2GHz', 'Intel Core i7 7500U 2.5GHz',\n",
       "       'Intel Core i7 2.7GHz', 'Intel Xeon E3-1535M v5 2.9GHz',\n",
       "       'AMD Ryzen 1600 3.2GHz', 'Intel Core M 6Y30 0.9GHz',\n",
       "       'Intel Core i5 1.3GHz', 'AMD A6-Series A6-9220 2.5GHz',\n",
       "       'Intel Atom x5-Z8550 1.44GHz',\n",
       "       'Intel Celeron Quad Core N3160 1.6GHz',\n",
       "       'Intel Core i5 7200U 2.7GHz', 'Intel Core M m3-7Y30 2.2GHz',\n",
       "       'AMD A9-Series 9420 2.9GHz', 'AMD E-Series 9000 2.2GHz',\n",
       "       'AMD E-Series E2-9000e 1.5GHz',\n",
       "       'Intel Celeron Dual Core N3350 2GHz',\n",
       "       'AMD A10-Series 9600P 2.4GHz', 'AMD A9-Series A9-9420 3GHz',\n",
       "       'Intel Core i7 2.8GHz', 'Intel Core M m3 1.2GHz',\n",
       "       'Intel Xeon E3-1535M v6 3.1GHz', 'Intel Core M M7-6Y75 1.2GHz',\n",
       "       'Intel Atom x5-Z8300 1.44GHz', 'AMD Ryzen 1700 3GHz'], dtype=object)"
      ]
     },
     "execution_count": 17,
     "metadata": {},
     "output_type": "execute_result"
    }
   ],
   "source": [
    "train['Cpu'].unique()"
   ]
  },
  {
   "cell_type": "code",
   "execution_count": 18,
   "metadata": {},
   "outputs": [],
   "source": [
    "train['cpu_GHz'] = train['Cpu'].str.extract(r'(\\d+(?:\\.\\d+)?)GHz', expand=True).astype(float) \n",
    "train['cpu_Marca'] = train['Cpu'].str.extract(r'([a-zA-Z]+)(?![a-zA-Z0-9])', expand=True)\n",
    "train.drop(columns=['Cpu'], inplace=True)"
   ]
  },
  {
   "cell_type": "code",
   "execution_count": 19,
   "metadata": {},
   "outputs": [
    {
     "data": {
      "text/plain": [
       "cpu_Marca\n",
       "Intel    871\n",
       "AMD       41\n",
       "Name: count, dtype: int64"
      ]
     },
     "execution_count": 19,
     "metadata": {},
     "output_type": "execute_result"
    }
   ],
   "source": [
    "train['cpu_Marca'].value_counts()"
   ]
  },
  {
   "cell_type": "markdown",
   "metadata": {},
   "source": [
    "### Variable Memory"
   ]
  },
  {
   "cell_type": "markdown",
   "metadata": {},
   "source": [
    "Se generaron 3 variables Capacidad_1_GB y Capacidad_2_GB guardan las capacidades de los discos duros del equipo y una tercera llamada Tipo_Almacenamiento que contiene el tipo de almacenamiento del primer disco duro.\n",
    "se elimino la cariable Memory"
   ]
  },
  {
   "cell_type": "code",
   "execution_count": 20,
   "metadata": {},
   "outputs": [
    {
     "data": {
      "text/plain": [
       "array(['500GB HDD', '256GB SSD', '512GB SSD', '1TB HDD', '1.0TB Hybrid',\n",
       "       '128GB SSD +  1TB HDD', '256GB SSD +  1TB HDD', '128GB SSD',\n",
       "       '256GB SSD +  500GB HDD', '256GB Flash Storage',\n",
       "       '512GB SSD +  1TB HDD', '32GB Flash Storage', '64GB Flash Storage',\n",
       "       '64GB SSD', '512GB SSD +  256GB SSD', '1TB SSD', '180GB SSD',\n",
       "       '128GB SSD +  2TB HDD', '128GB Flash Storage', '2TB HDD',\n",
       "       '1TB HDD +  1TB HDD', '32GB SSD', '16GB Flash Storage',\n",
       "       '256GB SSD +  256GB SSD', '512GB SSD +  2TB HDD', '16GB SSD',\n",
       "       '256GB SSD +  2TB HDD', '512GB Flash Storage', '508GB Hybrid',\n",
       "       '64GB Flash Storage +  1TB HDD', '512GB SSD +  512GB SSD',\n",
       "       '1TB SSD +  1TB HDD'], dtype=object)"
      ]
     },
     "execution_count": 20,
     "metadata": {},
     "output_type": "execute_result"
    }
   ],
   "source": [
    "train['Memory'].unique()"
   ]
  },
  {
   "cell_type": "code",
   "execution_count": 21,
   "metadata": {},
   "outputs": [],
   "source": [
    "train['Capacidad_1'] = train['Memory'].str.extract(r'(\\d+\\.*\\d*[GT]B)', expand=True)\n",
    "train['Capacidad_1_GB']= train ['Capacidad_1'].apply(lambda x: convertir_a_GB(x) )\n",
    "train['Tipo_Almacenamiento_1'] = train['Memory'].str.extract(r'\\b(SSD|HDD|Flash Storage|Hybrid)\\b', expand=False)\n",
    "train['Capacidad_2'] = train['Memory'].str.extract(r'\\+(\\s*\\d+(?:\\.\\d*)?\\s*[GBT]+)', expand=True)\n",
    "train['Capacidad_2_GB']= train ['Capacidad_2'].apply(lambda x: convertir_a_GB(x) )\n",
    "\n",
    "train.drop(columns=['Memory'], inplace=True)"
   ]
  },
  {
   "cell_type": "markdown",
   "metadata": {},
   "source": [
    "### Variable Gpu"
   ]
  },
  {
   "cell_type": "markdown",
   "metadata": {},
   "source": [
    "Se genera una unica variable con el fabricante de las tarjetas, se elimina la variable Gpu"
   ]
  },
  {
   "cell_type": "code",
   "execution_count": 22,
   "metadata": {},
   "outputs": [],
   "source": [
    "train['Fabricante_Gpu'] = train['Gpu'].str.extract(r'([a-zA-Z]+)', expand=True)\n",
    "train.drop(columns=['Gpu'], inplace=True)"
   ]
  },
  {
   "cell_type": "code",
   "execution_count": 23,
   "metadata": {},
   "outputs": [
    {
     "data": {
      "text/plain": [
       "Fabricante_Gpu\n",
       "Intel     516\n",
       "Nvidia    271\n",
       "AMD       125\n",
       "Name: count, dtype: int64"
      ]
     },
     "execution_count": 23,
     "metadata": {},
     "output_type": "execute_result"
    }
   ],
   "source": [
    "train['Fabricante_Gpu'].value_counts()"
   ]
  },
  {
   "cell_type": "markdown",
   "metadata": {},
   "source": [
    "### Variable OpSys"
   ]
  },
  {
   "cell_type": "markdown",
   "metadata": {},
   "source": [
    "Se deja igual para hacer OHE a los 9 unicos valores"
   ]
  },
  {
   "cell_type": "code",
   "execution_count": 24,
   "metadata": {},
   "outputs": [
    {
     "data": {
      "text/plain": [
       "9"
      ]
     },
     "execution_count": 24,
     "metadata": {},
     "output_type": "execute_result"
    }
   ],
   "source": [
    "train['OpSys'].nunique()"
   ]
  },
  {
   "cell_type": "code",
   "execution_count": 31,
   "metadata": {},
   "outputs": [
    {
     "data": {
      "text/plain": [
       "Index(['laptop_ID', 'Company', 'Product', 'TypeName', 'Inches', 'OpSys',\n",
       "       'Price_euros', 'Ram_1', 'Weight_1', 'Resolution', 'Screen', 'cpu_GHz',\n",
       "       'cpu_Marca', 'Capacidad_1', 'Capacidad_1_GB', 'Tipo_Almacenamiento_1',\n",
       "       'Capacidad_2', 'Capacidad_2_GB', 'Fabricante_Gpu'],\n",
       "      dtype='object')"
      ]
     },
     "execution_count": 31,
     "metadata": {},
     "output_type": "execute_result"
    }
   ],
   "source": [
    "train.columns"
   ]
  },
  {
   "cell_type": "code",
   "execution_count": 32,
   "metadata": {},
   "outputs": [],
   "source": [
    "#train.drop(columns=['Resolucition', 'Capacidad_1', 'Capacidad_2', 'Tipo_Almacenamiento'], inplace=True)\n",
    "train.drop(columns=['Capacidad_1', 'Capacidad_2'], inplace=True)"
   ]
  },
  {
   "cell_type": "markdown",
   "metadata": {},
   "source": [
    "-------------------------------------------------------------------------------------------------------------------------------------------"
   ]
  },
  {
   "cell_type": "code",
   "execution_count": 33,
   "metadata": {},
   "outputs": [
    {
     "data": {
      "text/html": [
       "<div>\n",
       "<style scoped>\n",
       "    .dataframe tbody tr th:only-of-type {\n",
       "        vertical-align: middle;\n",
       "    }\n",
       "\n",
       "    .dataframe tbody tr th {\n",
       "        vertical-align: top;\n",
       "    }\n",
       "\n",
       "    .dataframe thead th {\n",
       "        text-align: right;\n",
       "    }\n",
       "</style>\n",
       "<table border=\"1\" class=\"dataframe\">\n",
       "  <thead>\n",
       "    <tr style=\"text-align: right;\">\n",
       "      <th>COL_N</th>\n",
       "      <th>laptop_ID</th>\n",
       "      <th>Company</th>\n",
       "      <th>Product</th>\n",
       "      <th>TypeName</th>\n",
       "      <th>Inches</th>\n",
       "      <th>OpSys</th>\n",
       "      <th>Price_euros</th>\n",
       "      <th>Ram_1</th>\n",
       "      <th>Weight_1</th>\n",
       "      <th>Resolution</th>\n",
       "      <th>Screen</th>\n",
       "      <th>cpu_GHz</th>\n",
       "      <th>cpu_Marca</th>\n",
       "      <th>Capacidad_1_GB</th>\n",
       "      <th>Tipo_Almacenamiento_1</th>\n",
       "      <th>Capacidad_2_GB</th>\n",
       "      <th>Fabricante_Gpu</th>\n",
       "    </tr>\n",
       "  </thead>\n",
       "  <tbody>\n",
       "    <tr>\n",
       "      <th>DATA_TYPE</th>\n",
       "      <td>int64</td>\n",
       "      <td>object</td>\n",
       "      <td>object</td>\n",
       "      <td>object</td>\n",
       "      <td>float64</td>\n",
       "      <td>object</td>\n",
       "      <td>float64</td>\n",
       "      <td>int32</td>\n",
       "      <td>float64</td>\n",
       "      <td>object</td>\n",
       "      <td>object</td>\n",
       "      <td>float64</td>\n",
       "      <td>object</td>\n",
       "      <td>float64</td>\n",
       "      <td>object</td>\n",
       "      <td>float64</td>\n",
       "      <td>object</td>\n",
       "    </tr>\n",
       "    <tr>\n",
       "      <th>MISSINGS (%)</th>\n",
       "      <td>0.0</td>\n",
       "      <td>0.0</td>\n",
       "      <td>0.0</td>\n",
       "      <td>0.0</td>\n",
       "      <td>0.0</td>\n",
       "      <td>0.0</td>\n",
       "      <td>0.0</td>\n",
       "      <td>0.0</td>\n",
       "      <td>0.0</td>\n",
       "      <td>0.0</td>\n",
       "      <td>0.0</td>\n",
       "      <td>0.0</td>\n",
       "      <td>0.0</td>\n",
       "      <td>0.0</td>\n",
       "      <td>0.0</td>\n",
       "      <td>84.76</td>\n",
       "      <td>0.0</td>\n",
       "    </tr>\n",
       "    <tr>\n",
       "      <th>UNIQUE_VALUES</th>\n",
       "      <td>912</td>\n",
       "      <td>19</td>\n",
       "      <td>467</td>\n",
       "      <td>6</td>\n",
       "      <td>17</td>\n",
       "      <td>9</td>\n",
       "      <td>603</td>\n",
       "      <td>8</td>\n",
       "      <td>160</td>\n",
       "      <td>14</td>\n",
       "      <td>19</td>\n",
       "      <td>23</td>\n",
       "      <td>2</td>\n",
       "      <td>11</td>\n",
       "      <td>4</td>\n",
       "      <td>5</td>\n",
       "      <td>3</td>\n",
       "    </tr>\n",
       "    <tr>\n",
       "      <th>CARDIN (%)</th>\n",
       "      <td>100.0</td>\n",
       "      <td>2.08</td>\n",
       "      <td>51.21</td>\n",
       "      <td>0.66</td>\n",
       "      <td>1.86</td>\n",
       "      <td>0.99</td>\n",
       "      <td>66.12</td>\n",
       "      <td>0.88</td>\n",
       "      <td>17.54</td>\n",
       "      <td>1.54</td>\n",
       "      <td>2.08</td>\n",
       "      <td>2.52</td>\n",
       "      <td>0.22</td>\n",
       "      <td>1.21</td>\n",
       "      <td>0.44</td>\n",
       "      <td>0.55</td>\n",
       "      <td>0.33</td>\n",
       "    </tr>\n",
       "  </tbody>\n",
       "</table>\n",
       "</div>"
      ],
      "text/plain": [
       "COL_N         laptop_ID Company Product TypeName   Inches   OpSys Price_euros  \\\n",
       "DATA_TYPE         int64  object  object   object  float64  object     float64   \n",
       "MISSINGS (%)        0.0     0.0     0.0      0.0      0.0     0.0         0.0   \n",
       "UNIQUE_VALUES       912      19     467        6       17       9         603   \n",
       "CARDIN (%)        100.0    2.08   51.21     0.66     1.86    0.99       66.12   \n",
       "\n",
       "COL_N          Ram_1 Weight_1 Resolution  Screen  cpu_GHz cpu_Marca  \\\n",
       "DATA_TYPE      int32  float64     object  object  float64    object   \n",
       "MISSINGS (%)     0.0      0.0        0.0     0.0      0.0       0.0   \n",
       "UNIQUE_VALUES      8      160         14      19       23         2   \n",
       "CARDIN (%)      0.88    17.54       1.54    2.08     2.52      0.22   \n",
       "\n",
       "COL_N         Capacidad_1_GB Tipo_Almacenamiento_1 Capacidad_2_GB  \\\n",
       "DATA_TYPE            float64                object        float64   \n",
       "MISSINGS (%)             0.0                   0.0          84.76   \n",
       "UNIQUE_VALUES             11                     4              5   \n",
       "CARDIN (%)              1.21                  0.44           0.55   \n",
       "\n",
       "COL_N         Fabricante_Gpu  \n",
       "DATA_TYPE             object  \n",
       "MISSINGS (%)             0.0  \n",
       "UNIQUE_VALUES              3  \n",
       "CARDIN (%)              0.33  "
      ]
     },
     "execution_count": 33,
     "metadata": {},
     "output_type": "execute_result"
    }
   ],
   "source": [
    "data_report(train)"
   ]
  },
  {
   "cell_type": "markdown",
   "metadata": {},
   "source": [
    "Agrupamos las variables numericas y categoricas por separado"
   ]
  },
  {
   "cell_type": "code",
   "execution_count": 35,
   "metadata": {},
   "outputs": [],
   "source": [
    "train_cat = ['Company', 'TypeName', 'OpSys', 'Screen', 'Resolution', 'cpu_Marca',\n",
    "              'Tipo_Almacenamiento_1', 'Fabricante_Gpu']\n",
    "train_num = ['laptop_ID', 'Inches', 'Price_euros', 'Ram_1',\t'Weight_1']"
   ]
  },
  {
   "cell_type": "markdown",
   "metadata": {},
   "source": [
    "Aplicamos la funcion de OHE a las varaibles categoricas"
   ]
  },
  {
   "cell_type": "code",
   "execution_count": 36,
   "metadata": {},
   "outputs": [
    {
     "name": "stderr",
     "output_type": "stream",
     "text": [
      "c:\\Users\\Sandia\\Documents\\DS_PT_09_2023\\.venv\\Lib\\site-packages\\sklearn\\preprocessing\\_encoders.py:975: FutureWarning: `sparse` was renamed to `sparse_output` in version 1.2 and will be removed in 1.4. `sparse_output` is ignored unless you leave `sparse` to its default value.\n",
      "  warnings.warn(\n"
     ]
    }
   ],
   "source": [
    "from sklearn.preprocessing import OneHotEncoder\n",
    "train_ohe = apply_onehot_encoder(train=train, columns_to_encode=train_cat)"
   ]
  },
  {
   "cell_type": "code",
   "execution_count": 37,
   "metadata": {},
   "outputs": [
    {
     "data": {
      "text/plain": [
       "(912, 85)"
      ]
     },
     "execution_count": 37,
     "metadata": {},
     "output_type": "execute_result"
    }
   ],
   "source": [
    "train_ohe.shape"
   ]
  },
  {
   "cell_type": "code",
   "execution_count": 38,
   "metadata": {},
   "outputs": [
    {
     "data": {
      "text/plain": [
       "Index(['laptop_ID', 'Product', 'Inches', 'Price_euros', 'Ram_1', 'Weight_1',\n",
       "       'cpu_GHz', 'Capacidad_1_GB', 'Capacidad_2_GB', 'Company_Acer',\n",
       "       'Company_Apple', 'Company_Asus', 'Company_Chuwi', 'Company_Dell',\n",
       "       'Company_Fujitsu', 'Company_Google', 'Company_HP', 'Company_Huawei',\n",
       "       'Company_LG', 'Company_Lenovo', 'Company_MSI', 'Company_Mediacom',\n",
       "       'Company_Microsoft', 'Company_Razer', 'Company_Samsung',\n",
       "       'Company_Toshiba', 'Company_Vero', 'Company_Xiaomi',\n",
       "       'TypeName_2 in 1 Convertible', 'TypeName_Gaming', 'TypeName_Netbook',\n",
       "       'TypeName_Notebook', 'TypeName_Ultrabook', 'TypeName_Workstation',\n",
       "       'OpSys_Android', 'OpSys_Chrome OS', 'OpSys_Linux', 'OpSys_Mac OS X',\n",
       "       'OpSys_No OS', 'OpSys_Windows 10', 'OpSys_Windows 10 S',\n",
       "       'OpSys_Windows 7', 'OpSys_macOS', 'Screen_', 'Screen_4K Ultra HD ',\n",
       "       'Screen_4K Ultra HD / Touchscreen ', 'Screen_Full HD ',\n",
       "       'Screen_Full HD / Touchscreen ', 'Screen_IPS Panel ',\n",
       "       'Screen_IPS Panel 4K Ultra HD ',\n",
       "       'Screen_IPS Panel 4K Ultra HD / Touchscreen ',\n",
       "       'Screen_IPS Panel Full HD ', 'Screen_IPS Panel Full HD / Touchscreen ',\n",
       "       'Screen_IPS Panel Quad HD+ ',\n",
       "       'Screen_IPS Panel Quad HD+ / Touchscreen ',\n",
       "       'Screen_IPS Panel Retina Display ', 'Screen_IPS Panel Touchscreen ',\n",
       "       'Screen_IPS Panel Touchscreen / 4K Ultra HD ', 'Screen_Quad HD+ ',\n",
       "       'Screen_Quad HD+ / Touchscreen ', 'Screen_Touchscreen ',\n",
       "       'Screen_Touchscreen / Quad HD+ ', 'Resolution_1366x768',\n",
       "       'Resolution_1440x900', 'Resolution_1600x900', 'Resolution_1920x1080',\n",
       "       'Resolution_1920x1200', 'Resolution_2160x1440', 'Resolution_2256x1504',\n",
       "       'Resolution_2304x1440', 'Resolution_2400x1600', 'Resolution_2560x1440',\n",
       "       'Resolution_2560x1600', 'Resolution_2880x1800', 'Resolution_3200x1800',\n",
       "       'Resolution_3840x2160', 'cpu_Marca_AMD', 'cpu_Marca_Intel',\n",
       "       'Tipo_Almacenamiento_1_Flash Storage', 'Tipo_Almacenamiento_1_HDD',\n",
       "       'Tipo_Almacenamiento_1_Hybrid', 'Tipo_Almacenamiento_1_SSD',\n",
       "       'Fabricante_Gpu_AMD', 'Fabricante_Gpu_Intel', 'Fabricante_Gpu_Nvidia'],\n",
       "      dtype='object')"
      ]
     },
     "execution_count": 38,
     "metadata": {},
     "output_type": "execute_result"
    }
   ],
   "source": [
    "train_ohe.columns"
   ]
  },
  {
   "cell_type": "code",
   "execution_count": 39,
   "metadata": {},
   "outputs": [],
   "source": [
    "train_ohe['Capacidad_2_GB'] = train_ohe['Capacidad_2_GB'].fillna(0)"
   ]
  },
  {
   "cell_type": "markdown",
   "metadata": {},
   "source": [
    "definimos X e Y"
   ]
  },
  {
   "cell_type": "code",
   "execution_count": 40,
   "metadata": {},
   "outputs": [
    {
     "data": {
      "text/plain": [
       "(912,)"
      ]
     },
     "execution_count": 40,
     "metadata": {},
     "output_type": "execute_result"
    }
   ],
   "source": [
    "x = train_ohe.drop(['Product', 'Price_euros'], axis=1)\n",
    "y = train_ohe['Price_euros'].copy()\n",
    "y.shape"
   ]
  },
  {
   "cell_type": "markdown",
   "metadata": {},
   "source": [
    "Dividir X_train, X_test, y_train, y_test"
   ]
  },
  {
   "cell_type": "code",
   "execution_count": 41,
   "metadata": {},
   "outputs": [],
   "source": [
    "from sklearn.model_selection import train_test_split"
   ]
  },
  {
   "cell_type": "code",
   "execution_count": 42,
   "metadata": {},
   "outputs": [],
   "source": [
    "X_train, X_test, y_train, y_test = train_test_split(x, y, test_size = 0.20, random_state = 42)"
   ]
  },
  {
   "cell_type": "markdown",
   "metadata": {},
   "source": [
    "Asignamos el modelo "
   ]
  },
  {
   "cell_type": "code",
   "execution_count": 43,
   "metadata": {},
   "outputs": [],
   "source": [
    "from sklearn.linear_model import LinearRegression\n",
    "\n",
    "model = LinearRegression()"
   ]
  },
  {
   "cell_type": "code",
   "execution_count": 44,
   "metadata": {},
   "outputs": [
    {
     "data": {
      "text/html": [
       "<style>#sk-container-id-1 {color: black;}#sk-container-id-1 pre{padding: 0;}#sk-container-id-1 div.sk-toggleable {background-color: white;}#sk-container-id-1 label.sk-toggleable__label {cursor: pointer;display: block;width: 100%;margin-bottom: 0;padding: 0.3em;box-sizing: border-box;text-align: center;}#sk-container-id-1 label.sk-toggleable__label-arrow:before {content: \"▸\";float: left;margin-right: 0.25em;color: #696969;}#sk-container-id-1 label.sk-toggleable__label-arrow:hover:before {color: black;}#sk-container-id-1 div.sk-estimator:hover label.sk-toggleable__label-arrow:before {color: black;}#sk-container-id-1 div.sk-toggleable__content {max-height: 0;max-width: 0;overflow: hidden;text-align: left;background-color: #f0f8ff;}#sk-container-id-1 div.sk-toggleable__content pre {margin: 0.2em;color: black;border-radius: 0.25em;background-color: #f0f8ff;}#sk-container-id-1 input.sk-toggleable__control:checked~div.sk-toggleable__content {max-height: 200px;max-width: 100%;overflow: auto;}#sk-container-id-1 input.sk-toggleable__control:checked~label.sk-toggleable__label-arrow:before {content: \"▾\";}#sk-container-id-1 div.sk-estimator input.sk-toggleable__control:checked~label.sk-toggleable__label {background-color: #d4ebff;}#sk-container-id-1 div.sk-label input.sk-toggleable__control:checked~label.sk-toggleable__label {background-color: #d4ebff;}#sk-container-id-1 input.sk-hidden--visually {border: 0;clip: rect(1px 1px 1px 1px);clip: rect(1px, 1px, 1px, 1px);height: 1px;margin: -1px;overflow: hidden;padding: 0;position: absolute;width: 1px;}#sk-container-id-1 div.sk-estimator {font-family: monospace;background-color: #f0f8ff;border: 1px dotted black;border-radius: 0.25em;box-sizing: border-box;margin-bottom: 0.5em;}#sk-container-id-1 div.sk-estimator:hover {background-color: #d4ebff;}#sk-container-id-1 div.sk-parallel-item::after {content: \"\";width: 100%;border-bottom: 1px solid gray;flex-grow: 1;}#sk-container-id-1 div.sk-label:hover label.sk-toggleable__label {background-color: #d4ebff;}#sk-container-id-1 div.sk-serial::before {content: \"\";position: absolute;border-left: 1px solid gray;box-sizing: border-box;top: 0;bottom: 0;left: 50%;z-index: 0;}#sk-container-id-1 div.sk-serial {display: flex;flex-direction: column;align-items: center;background-color: white;padding-right: 0.2em;padding-left: 0.2em;position: relative;}#sk-container-id-1 div.sk-item {position: relative;z-index: 1;}#sk-container-id-1 div.sk-parallel {display: flex;align-items: stretch;justify-content: center;background-color: white;position: relative;}#sk-container-id-1 div.sk-item::before, #sk-container-id-1 div.sk-parallel-item::before {content: \"\";position: absolute;border-left: 1px solid gray;box-sizing: border-box;top: 0;bottom: 0;left: 50%;z-index: -1;}#sk-container-id-1 div.sk-parallel-item {display: flex;flex-direction: column;z-index: 1;position: relative;background-color: white;}#sk-container-id-1 div.sk-parallel-item:first-child::after {align-self: flex-end;width: 50%;}#sk-container-id-1 div.sk-parallel-item:last-child::after {align-self: flex-start;width: 50%;}#sk-container-id-1 div.sk-parallel-item:only-child::after {width: 0;}#sk-container-id-1 div.sk-dashed-wrapped {border: 1px dashed gray;margin: 0 0.4em 0.5em 0.4em;box-sizing: border-box;padding-bottom: 0.4em;background-color: white;}#sk-container-id-1 div.sk-label label {font-family: monospace;font-weight: bold;display: inline-block;line-height: 1.2em;}#sk-container-id-1 div.sk-label-container {text-align: center;}#sk-container-id-1 div.sk-container {/* jupyter's `normalize.less` sets `[hidden] { display: none; }` but bootstrap.min.css set `[hidden] { display: none !important; }` so we also need the `!important` here to be able to override the default hidden behavior on the sphinx rendered scikit-learn.org. See: https://github.com/scikit-learn/scikit-learn/issues/21755 */display: inline-block !important;position: relative;}#sk-container-id-1 div.sk-text-repr-fallback {display: none;}</style><div id=\"sk-container-id-1\" class=\"sk-top-container\"><div class=\"sk-text-repr-fallback\"><pre>LinearRegression()</pre><b>In a Jupyter environment, please rerun this cell to show the HTML representation or trust the notebook. <br />On GitHub, the HTML representation is unable to render, please try loading this page with nbviewer.org.</b></div><div class=\"sk-container\" hidden><div class=\"sk-item\"><div class=\"sk-estimator sk-toggleable\"><input class=\"sk-toggleable__control sk-hidden--visually\" id=\"sk-estimator-id-1\" type=\"checkbox\" checked><label for=\"sk-estimator-id-1\" class=\"sk-toggleable__label sk-toggleable__label-arrow\">LinearRegression</label><div class=\"sk-toggleable__content\"><pre>LinearRegression()</pre></div></div></div></div></div>"
      ],
      "text/plain": [
       "LinearRegression()"
      ]
     },
     "execution_count": 44,
     "metadata": {},
     "output_type": "execute_result"
    }
   ],
   "source": [
    "model.fit(x,y)"
   ]
  },
  {
   "cell_type": "code",
   "execution_count": 45,
   "metadata": {},
   "outputs": [
    {
     "data": {
      "text/plain": [
       "array([1110.13065297, -174.94892112,  772.51049195, 1480.55762637,\n",
       "       2003.48876808,  529.00157221, 1018.12704577, 1692.57407318,\n",
       "        812.2498657 , 1351.25022983,  892.6885151 ,  451.25567962,\n",
       "        369.3900077 , 1443.83581726, 1783.92876973, 1691.5125403 ,\n",
       "       1790.17205204, 1219.10330844, 1019.45430113,  660.97053287,\n",
       "        891.51634026,  496.30854004, 1065.62444031, 1068.05764855,\n",
       "       1052.41014373,  454.21965472,  956.36872678, 1844.20968196,\n",
       "        829.02934821,  838.22657131, 1502.43089085,  986.48716005,\n",
       "        698.15817123, 1549.02792416, 1178.16834093,  168.46450192,\n",
       "        612.79506997,  553.0497078 , 1391.96451881, 1048.58366515,\n",
       "       1306.14809204, 1210.76262763, 1077.90815548, 2755.96391077,\n",
       "       1084.94218982,  302.55126859, 1168.62115047,  498.68559289,\n",
       "       1198.12945977,  727.7841916 , 1574.28185499,  785.28393646,\n",
       "        200.78337618, 2559.07185253, 1259.11449511, 1777.73445455,\n",
       "       1679.33643429, 1047.3300026 , 2658.0785059 , 1708.90179687,\n",
       "        367.5380053 , 1288.29212313,  319.20327109, 1269.02625682,\n",
       "        246.13310269,  511.68013871,  676.67988053,  945.33642156,\n",
       "       1227.16420174,  383.05656646, 1232.51980291,  989.00536887,\n",
       "       2489.99374181, 1248.74559355, 1194.88524069, 3193.05945455,\n",
       "       2979.33801158,  448.28571496,  719.52694422,  695.62346297,\n",
       "        885.72879629, 1074.47119884, 1954.99477069,  782.29915746,\n",
       "        833.90450157, 1527.42644668, 1447.72650302,  757.48354575,\n",
       "       2126.68545946,  620.5974411 , 1404.71346188, 1172.96701706,\n",
       "       1499.        ,  281.2529524 , 1128.00015501, 1060.71259087,\n",
       "       2270.36330682, 1000.83230515,  558.83560305,  615.53184532,\n",
       "       1159.60854414, 1380.47420039, 1423.34874532,  812.04991394,\n",
       "       1199.13493512,  329.27633794, 1033.30560433,  982.30173459,\n",
       "        564.63285286, 1050.02082372, 1336.59724919, 1371.96702612,\n",
       "       1070.72762522, 1944.18707021, 1496.63809798, 1549.23057892,\n",
       "        317.84926814,  680.26426816,  970.25170549, 1208.47195781,\n",
       "        336.6610621 ,  207.90626217, 1207.63754698,  778.06909769,\n",
       "        858.57191682,  883.6960673 ,  956.3961192 , 1532.3116345 ,\n",
       "       1767.42225687, 1092.32588633,  551.86123176,  604.85467994,\n",
       "       1010.00687346, 2174.10456385, 2911.7596742 , 1014.72890731,\n",
       "       1665.42307015, 1589.08185326, 1908.85430069, 1346.5453385 ,\n",
       "        917.02516503, 1174.74024033,  549.73527702,  646.24556664,\n",
       "       1504.37488568,  277.99      , 1099.73179256,  858.02240537,\n",
       "       1014.92927088, 1105.52868345,  244.99      , 1678.10038367,\n",
       "       1288.68281158, 1822.42744386, 1083.19254411, 1410.57709513,\n",
       "        801.98607437, 1409.75036827, 3410.75121903, 1889.07895838,\n",
       "       1576.80917981, 1521.89552386, 1754.03158812, 1791.83826837,\n",
       "       1872.69328271,  229.42411853,  624.48373944,  850.03108147,\n",
       "        670.72064224,  762.96167094, 1227.42129177, 1147.04926298,\n",
       "        466.52246276, 1319.07396401,  831.7907693 , 1051.97092567,\n",
       "       1140.10724969,  468.28523549, 1151.78373031,  682.9208429 ,\n",
       "        921.72583502,  579.88824007, 1196.73609762])"
      ]
     },
     "execution_count": 45,
     "metadata": {},
     "output_type": "execute_result"
    }
   ],
   "source": [
    "pred = model.predict(X_test)\n",
    "pred"
   ]
  },
  {
   "cell_type": "markdown",
   "metadata": {},
   "source": [
    "Sacamos metricas y evaluamos "
   ]
  },
  {
   "cell_type": "code",
   "execution_count": 46,
   "metadata": {},
   "outputs": [
    {
     "name": "stdout",
     "output_type": "stream",
     "text": [
      "RMSE : 316.72146941213595\n"
     ]
    }
   ],
   "source": [
    "from sklearn.metrics import mean_squared_error\n",
    "import numpy as np\n",
    "\n",
    "print('RMSE :',np.sqrt(mean_squared_error(y_test,pred)))"
   ]
  },
  {
   "cell_type": "markdown",
   "metadata": {},
   "source": [
    "#### Ahora trabajamos los datos del archivo TEST"
   ]
  },
  {
   "cell_type": "markdown",
   "metadata": {},
   "source": [
    "### Procesamiento"
   ]
  },
  {
   "cell_type": "code",
   "execution_count": 47,
   "metadata": {},
   "outputs": [
    {
     "data": {
      "text/html": [
       "<div>\n",
       "<style scoped>\n",
       "    .dataframe tbody tr th:only-of-type {\n",
       "        vertical-align: middle;\n",
       "    }\n",
       "\n",
       "    .dataframe tbody tr th {\n",
       "        vertical-align: top;\n",
       "    }\n",
       "\n",
       "    .dataframe thead th {\n",
       "        text-align: right;\n",
       "    }\n",
       "</style>\n",
       "<table border=\"1\" class=\"dataframe\">\n",
       "  <thead>\n",
       "    <tr style=\"text-align: right;\">\n",
       "      <th></th>\n",
       "      <th>laptop_ID</th>\n",
       "      <th>Company</th>\n",
       "      <th>Product</th>\n",
       "      <th>TypeName</th>\n",
       "      <th>Inches</th>\n",
       "      <th>ScreenResolution</th>\n",
       "      <th>Cpu</th>\n",
       "      <th>Ram</th>\n",
       "      <th>Memory</th>\n",
       "      <th>Gpu</th>\n",
       "      <th>OpSys</th>\n",
       "      <th>Weight</th>\n",
       "    </tr>\n",
       "  </thead>\n",
       "  <tbody>\n",
       "    <tr>\n",
       "      <th>0</th>\n",
       "      <td>750</td>\n",
       "      <td>Toshiba</td>\n",
       "      <td>Tecra X40-D-10G</td>\n",
       "      <td>Notebook</td>\n",
       "      <td>14.0</td>\n",
       "      <td>IPS Panel Full HD / Touchscreen 1920x1080</td>\n",
       "      <td>Intel Core i5 7200U 2.5GHz</td>\n",
       "      <td>8GB</td>\n",
       "      <td>256GB SSD</td>\n",
       "      <td>Intel HD Graphics 620</td>\n",
       "      <td>Windows 10</td>\n",
       "      <td>1.25kg</td>\n",
       "    </tr>\n",
       "    <tr>\n",
       "      <th>1</th>\n",
       "      <td>726</td>\n",
       "      <td>Mediacom</td>\n",
       "      <td>Smartbook 142</td>\n",
       "      <td>Notebook</td>\n",
       "      <td>14.0</td>\n",
       "      <td>IPS Panel Full HD 1920x1200</td>\n",
       "      <td>Intel Atom Z8350 1.92GHz</td>\n",
       "      <td>4GB</td>\n",
       "      <td>32GB HDD</td>\n",
       "      <td>Intel HD Graphics 400</td>\n",
       "      <td>Windows 10</td>\n",
       "      <td>1.4kg</td>\n",
       "    </tr>\n",
       "    <tr>\n",
       "      <th>2</th>\n",
       "      <td>633</td>\n",
       "      <td>Mediacom</td>\n",
       "      <td>SmartBook 140</td>\n",
       "      <td>Notebook</td>\n",
       "      <td>14.0</td>\n",
       "      <td>Full HD 1920x1080</td>\n",
       "      <td>Intel Atom x5-Z8350 1.44GHz</td>\n",
       "      <td>2GB</td>\n",
       "      <td>32GB Flash Storage</td>\n",
       "      <td>Intel HD Graphics</td>\n",
       "      <td>Windows 10</td>\n",
       "      <td>1.4kg</td>\n",
       "    </tr>\n",
       "    <tr>\n",
       "      <th>3</th>\n",
       "      <td>363</td>\n",
       "      <td>Dell</td>\n",
       "      <td>Inspiron 7577</td>\n",
       "      <td>Gaming</td>\n",
       "      <td>15.6</td>\n",
       "      <td>Full HD 1920x1080</td>\n",
       "      <td>Intel Core i5 7300HQ 2.5GHz</td>\n",
       "      <td>8GB</td>\n",
       "      <td>1TB HDD</td>\n",
       "      <td>Nvidia GeForce GTX 1050</td>\n",
       "      <td>Windows 10</td>\n",
       "      <td>2.65kg</td>\n",
       "    </tr>\n",
       "    <tr>\n",
       "      <th>4</th>\n",
       "      <td>319</td>\n",
       "      <td>Asus</td>\n",
       "      <td>VivoBook Flip</td>\n",
       "      <td>2 in 1 Convertible</td>\n",
       "      <td>11.6</td>\n",
       "      <td>Touchscreen 1366x768</td>\n",
       "      <td>Intel Celeron Dual Core N3350 1.1GHz</td>\n",
       "      <td>2GB</td>\n",
       "      <td>32GB Flash Storage</td>\n",
       "      <td>Intel HD Graphics 500</td>\n",
       "      <td>Windows 10</td>\n",
       "      <td>1.1kg</td>\n",
       "    </tr>\n",
       "  </tbody>\n",
       "</table>\n",
       "</div>"
      ],
      "text/plain": [
       "   laptop_ID   Company          Product            TypeName  Inches  \\\n",
       "0        750   Toshiba  Tecra X40-D-10G            Notebook    14.0   \n",
       "1        726  Mediacom    Smartbook 142            Notebook    14.0   \n",
       "2        633  Mediacom    SmartBook 140            Notebook    14.0   \n",
       "3        363      Dell    Inspiron 7577              Gaming    15.6   \n",
       "4        319      Asus    VivoBook Flip  2 in 1 Convertible    11.6   \n",
       "\n",
       "                            ScreenResolution  \\\n",
       "0  IPS Panel Full HD / Touchscreen 1920x1080   \n",
       "1                IPS Panel Full HD 1920x1200   \n",
       "2                          Full HD 1920x1080   \n",
       "3                          Full HD 1920x1080   \n",
       "4                       Touchscreen 1366x768   \n",
       "\n",
       "                                    Cpu  Ram              Memory  \\\n",
       "0            Intel Core i5 7200U 2.5GHz  8GB           256GB SSD   \n",
       "1              Intel Atom Z8350 1.92GHz  4GB            32GB HDD   \n",
       "2           Intel Atom x5-Z8350 1.44GHz  2GB  32GB Flash Storage   \n",
       "3           Intel Core i5 7300HQ 2.5GHz  8GB             1TB HDD   \n",
       "4  Intel Celeron Dual Core N3350 1.1GHz  2GB  32GB Flash Storage   \n",
       "\n",
       "                       Gpu       OpSys  Weight  \n",
       "0    Intel HD Graphics 620  Windows 10  1.25kg  \n",
       "1    Intel HD Graphics 400  Windows 10   1.4kg  \n",
       "2        Intel HD Graphics  Windows 10   1.4kg  \n",
       "3  Nvidia GeForce GTX 1050  Windows 10  2.65kg  \n",
       "4    Intel HD Graphics 500  Windows 10   1.1kg  "
      ]
     },
     "execution_count": 47,
     "metadata": {},
     "output_type": "execute_result"
    }
   ],
   "source": [
    "X_pred = pd.read_csv(\"data/test.csv\")\n",
    "X_pred.head()"
   ]
  },
  {
   "cell_type": "markdown",
   "metadata": {},
   "source": [
    "### Variables Ram y Weight"
   ]
  },
  {
   "cell_type": "code",
   "execution_count": 48,
   "metadata": {},
   "outputs": [],
   "source": [
    "X_pred['Ram_1'] = X_pred ['Ram'].map (lambda x: x.rstrip('GB')).astype(int)\n",
    "X_pred['Weight_1'] = X_pred ['Weight'].map (lambda x: x.rstrip('kg')).astype(float)\n",
    "X_pred.drop(columns=['Ram', 'Weight'], inplace=True)"
   ]
  },
  {
   "cell_type": "markdown",
   "metadata": {},
   "source": [
    "### Variable ScreenResulution "
   ]
  },
  {
   "cell_type": "code",
   "execution_count": 49,
   "metadata": {},
   "outputs": [],
   "source": [
    "X_pred['Resolution'] = X_pred['ScreenResolution'].str.extract(r'(\\d+x\\d+)$', expand=True) \n",
    "X_pred['Screen'] = X_pred['ScreenResolution'].str.extract(r'^(.*?)(?=\\d+x\\d+$)', expand=True)\n",
    "X_pred.drop(columns=['ScreenResolution'], inplace=True)"
   ]
  },
  {
   "cell_type": "markdown",
   "metadata": {},
   "source": [
    "### Variable Cpu"
   ]
  },
  {
   "cell_type": "code",
   "execution_count": 50,
   "metadata": {},
   "outputs": [],
   "source": [
    "X_pred['cpu_GHz'] = X_pred['Cpu'].str.extract(r'(\\d+(?:\\.\\d+)?)GHz', expand=True).astype(float) \n",
    "X_pred['cpu_Marca'] = X_pred['Cpu'].str.extract(r'([a-zA-Z]+)(?![a-zA-Z0-9])', expand=True)\n",
    "X_pred.drop(columns=['Cpu'], inplace=True)"
   ]
  },
  {
   "cell_type": "markdown",
   "metadata": {},
   "source": [
    "### Variable Memory"
   ]
  },
  {
   "cell_type": "code",
   "execution_count": 51,
   "metadata": {},
   "outputs": [],
   "source": [
    "X_pred['Capacidad_1'] = X_pred['Memory'].str.extract(r'(\\d+\\.*\\d*[GT]B)', expand=True)\n",
    "X_pred['Capacidad_1_GB']= X_pred ['Capacidad_1'].apply(lambda x: convertir_a_GB(x) )\n",
    "X_pred['Tipo_Almacenamiento_1'] = X_pred['Memory'].str.extract(r'\\b(SSD|HDD|Flash Storage|Hybrid)\\b', expand=False)\n",
    "X_pred['Capacidad_2'] = X_pred['Memory'].str.extract(r'\\+(\\s*\\d+(?:\\.\\d*)?\\s*[GBT]+)', expand=True)\n",
    "X_pred['Capacidad_2_GB']= X_pred ['Capacidad_2'].apply(lambda x: convertir_a_GB(x) )\n",
    "\n",
    "X_pred.drop(columns=['Memory'], inplace=True)"
   ]
  },
  {
   "cell_type": "markdown",
   "metadata": {},
   "source": [
    "### Variable Gpu"
   ]
  },
  {
   "cell_type": "code",
   "execution_count": 52,
   "metadata": {},
   "outputs": [],
   "source": [
    "X_pred['Fabricante_Gpu'] = X_pred['Gpu'].str.extract(r'([a-zA-Z]+)', expand=True)\n",
    "X_pred.drop(columns=['Gpu'], inplace=True)"
   ]
  },
  {
   "cell_type": "code",
   "execution_count": 54,
   "metadata": {},
   "outputs": [],
   "source": [
    "X_pred.drop(columns=['Capacidad_1', 'Capacidad_2'], inplace=True)"
   ]
  },
  {
   "cell_type": "code",
   "execution_count": 55,
   "metadata": {},
   "outputs": [
    {
     "data": {
      "text/html": [
       "<div>\n",
       "<style scoped>\n",
       "    .dataframe tbody tr th:only-of-type {\n",
       "        vertical-align: middle;\n",
       "    }\n",
       "\n",
       "    .dataframe tbody tr th {\n",
       "        vertical-align: top;\n",
       "    }\n",
       "\n",
       "    .dataframe thead th {\n",
       "        text-align: right;\n",
       "    }\n",
       "</style>\n",
       "<table border=\"1\" class=\"dataframe\">\n",
       "  <thead>\n",
       "    <tr style=\"text-align: right;\">\n",
       "      <th>COL_N</th>\n",
       "      <th>laptop_ID</th>\n",
       "      <th>Company</th>\n",
       "      <th>Product</th>\n",
       "      <th>TypeName</th>\n",
       "      <th>Inches</th>\n",
       "      <th>OpSys</th>\n",
       "      <th>Ram_1</th>\n",
       "      <th>Weight_1</th>\n",
       "      <th>Resolution</th>\n",
       "      <th>Screen</th>\n",
       "      <th>cpu_GHz</th>\n",
       "      <th>cpu_Marca</th>\n",
       "      <th>Capacidad_1_GB</th>\n",
       "      <th>Tipo_Almacenamiento_1</th>\n",
       "      <th>Capacidad_2_GB</th>\n",
       "      <th>Fabricante_Gpu</th>\n",
       "    </tr>\n",
       "  </thead>\n",
       "  <tbody>\n",
       "    <tr>\n",
       "      <th>DATA_TYPE</th>\n",
       "      <td>int64</td>\n",
       "      <td>object</td>\n",
       "      <td>object</td>\n",
       "      <td>object</td>\n",
       "      <td>float64</td>\n",
       "      <td>object</td>\n",
       "      <td>int32</td>\n",
       "      <td>float64</td>\n",
       "      <td>object</td>\n",
       "      <td>object</td>\n",
       "      <td>float64</td>\n",
       "      <td>object</td>\n",
       "      <td>float64</td>\n",
       "      <td>object</td>\n",
       "      <td>float64</td>\n",
       "      <td>object</td>\n",
       "    </tr>\n",
       "    <tr>\n",
       "      <th>MISSINGS (%)</th>\n",
       "      <td>0.0</td>\n",
       "      <td>0.0</td>\n",
       "      <td>0.0</td>\n",
       "      <td>0.0</td>\n",
       "      <td>0.0</td>\n",
       "      <td>0.0</td>\n",
       "      <td>0.0</td>\n",
       "      <td>0.0</td>\n",
       "      <td>0.0</td>\n",
       "      <td>0.0</td>\n",
       "      <td>0.0</td>\n",
       "      <td>0.0</td>\n",
       "      <td>0.0</td>\n",
       "      <td>0.0</td>\n",
       "      <td>82.35</td>\n",
       "      <td>0.0</td>\n",
       "    </tr>\n",
       "    <tr>\n",
       "      <th>UNIQUE_VALUES</th>\n",
       "      <td>391</td>\n",
       "      <td>16</td>\n",
       "      <td>256</td>\n",
       "      <td>6</td>\n",
       "      <td>13</td>\n",
       "      <td>8</td>\n",
       "      <td>9</td>\n",
       "      <td>116</td>\n",
       "      <td>12</td>\n",
       "      <td>19</td>\n",
       "      <td>22</td>\n",
       "      <td>3</td>\n",
       "      <td>12</td>\n",
       "      <td>4</td>\n",
       "      <td>2</td>\n",
       "      <td>4</td>\n",
       "    </tr>\n",
       "    <tr>\n",
       "      <th>CARDIN (%)</th>\n",
       "      <td>100.0</td>\n",
       "      <td>4.09</td>\n",
       "      <td>65.47</td>\n",
       "      <td>1.53</td>\n",
       "      <td>3.32</td>\n",
       "      <td>2.05</td>\n",
       "      <td>2.3</td>\n",
       "      <td>29.67</td>\n",
       "      <td>3.07</td>\n",
       "      <td>4.86</td>\n",
       "      <td>5.63</td>\n",
       "      <td>0.77</td>\n",
       "      <td>3.07</td>\n",
       "      <td>1.02</td>\n",
       "      <td>0.51</td>\n",
       "      <td>1.02</td>\n",
       "    </tr>\n",
       "  </tbody>\n",
       "</table>\n",
       "</div>"
      ],
      "text/plain": [
       "COL_N         laptop_ID Company Product TypeName   Inches   OpSys  Ram_1  \\\n",
       "DATA_TYPE         int64  object  object   object  float64  object  int32   \n",
       "MISSINGS (%)        0.0     0.0     0.0      0.0      0.0     0.0    0.0   \n",
       "UNIQUE_VALUES       391      16     256        6       13       8      9   \n",
       "CARDIN (%)        100.0    4.09   65.47     1.53     3.32    2.05    2.3   \n",
       "\n",
       "COL_N         Weight_1 Resolution  Screen  cpu_GHz cpu_Marca Capacidad_1_GB  \\\n",
       "DATA_TYPE      float64     object  object  float64    object        float64   \n",
       "MISSINGS (%)       0.0        0.0     0.0      0.0       0.0            0.0   \n",
       "UNIQUE_VALUES      116         12      19       22         3             12   \n",
       "CARDIN (%)       29.67       3.07    4.86     5.63      0.77           3.07   \n",
       "\n",
       "COL_N         Tipo_Almacenamiento_1 Capacidad_2_GB Fabricante_Gpu  \n",
       "DATA_TYPE                    object        float64         object  \n",
       "MISSINGS (%)                    0.0          82.35            0.0  \n",
       "UNIQUE_VALUES                     4              2              4  \n",
       "CARDIN (%)                     1.02           0.51           1.02  "
      ]
     },
     "execution_count": 55,
     "metadata": {},
     "output_type": "execute_result"
    }
   ],
   "source": [
    "data_report(X_pred)"
   ]
  },
  {
   "cell_type": "code",
   "execution_count": 56,
   "metadata": {},
   "outputs": [],
   "source": [
    "X_pred_cat = ['Company', 'TypeName', 'OpSys', 'Screen', 'Resolution', 'cpu_Marca',\n",
    "              'Tipo_Almacenamiento_1', 'Fabricante_Gpu']"
   ]
  },
  {
   "cell_type": "code",
   "execution_count": 64,
   "metadata": {},
   "outputs": [
    {
     "name": "stderr",
     "output_type": "stream",
     "text": [
      "c:\\Users\\Sandia\\Documents\\DS_PT_09_2023\\.venv\\Lib\\site-packages\\sklearn\\preprocessing\\_encoders.py:975: FutureWarning: `sparse` was renamed to `sparse_output` in version 1.2 and will be removed in 1.4. `sparse_output` is ignored unless you leave `sparse` to its default value.\n",
      "  warnings.warn(\n"
     ]
    }
   ],
   "source": [
    "train_one, test_one = apply_onehot_encoder(train=train, columns_to_encode=train_cat, test=X_pred)"
   ]
  },
  {
   "cell_type": "code",
   "execution_count": 69,
   "metadata": {},
   "outputs": [
    {
     "data": {
      "text/plain": [
       "(912, 84)"
      ]
     },
     "execution_count": 69,
     "metadata": {},
     "output_type": "execute_result"
    }
   ],
   "source": [
    "train_one.shape"
   ]
  },
  {
   "cell_type": "code",
   "execution_count": 68,
   "metadata": {},
   "outputs": [],
   "source": [
    "train_one=train_one.drop(columns='Price_euros')"
   ]
  },
  {
   "cell_type": "code",
   "execution_count": 66,
   "metadata": {},
   "outputs": [
    {
     "data": {
      "text/plain": [
       "(391, 84)"
      ]
     },
     "execution_count": 66,
     "metadata": {},
     "output_type": "execute_result"
    }
   ],
   "source": [
    "test_one.shape"
   ]
  },
  {
   "cell_type": "code",
   "execution_count": 67,
   "metadata": {},
   "outputs": [
    {
     "name": "stdout",
     "output_type": "stream",
     "text": [
      "Columnas comunes: {'Resolution_2560x1600', 'Tipo_Almacenamiento_1_Hybrid', 'TypeName_Notebook', 'OpSys_Mac OS X', 'Company_Fujitsu', 'TypeName_Workstation', 'Tipo_Almacenamiento_1_Flash Storage', 'Company_Mediacom', 'Weight_1', 'Company_Toshiba', 'Screen_Full HD / Touchscreen ', 'Screen_IPS Panel 4K Ultra HD ', 'Screen_IPS Panel Touchscreen / 4K Ultra HD ', 'OpSys_Windows 7', 'Company_Chuwi', 'Company_Lenovo', 'Screen_IPS Panel Full HD / Touchscreen ', 'Company_Vero', 'Screen_IPS Panel Quad HD+ / Touchscreen ', 'cpu_Marca_Intel', 'Fabricante_Gpu_AMD', 'Capacidad_2_GB', 'Resolution_2880x1800', 'Resolution_2160x1440', 'Resolution_1920x1080', 'Screen_Full HD ', 'Screen_Touchscreen ', 'OpSys_Android', 'Screen_IPS Panel 4K Ultra HD / Touchscreen ', 'Screen_IPS Panel Full HD ', 'Screen_IPS Panel ', 'Resolution_1920x1200', 'Fabricante_Gpu_Intel', 'Company_Xiaomi', 'Inches', 'cpu_GHz', 'Resolution_3840x2160', 'Company_MSI', 'Resolution_1440x900', 'Company_Acer', 'Screen_Quad HD+ / Touchscreen ', 'Screen_IPS Panel Quad HD+ ', 'Company_HP', 'TypeName_Ultrabook', 'OpSys_Chrome OS', 'Fabricante_Gpu_Nvidia', 'Company_Google', 'OpSys_Linux', 'TypeName_2 in 1 Convertible', 'cpu_Marca_AMD', 'Resolution_2400x1600', 'Resolution_2560x1440', 'Resolution_1600x900', 'Company_Huawei', 'Company_Dell', 'Company_Apple', 'Screen_Touchscreen / Quad HD+ ', 'Company_Microsoft', 'OpSys_macOS', 'Screen_IPS Panel Touchscreen ', 'Resolution_1366x768', 'Tipo_Almacenamiento_1_SSD', 'Tipo_Almacenamiento_1_HDD', 'Company_Razer', 'Company_LG', 'OpSys_Windows 10 S', 'Company_Asus', 'Screen_Quad HD+ ', 'OpSys_Windows 10', 'Resolution_2256x1504', 'Ram_1', 'Resolution_3200x1800', 'Capacidad_1_GB', 'Product', 'OpSys_No OS', 'TypeName_Netbook', 'Screen_4K Ultra HD / Touchscreen ', 'Screen_4K Ultra HD ', 'Screen_', 'laptop_ID', 'Screen_IPS Panel Retina Display ', 'Resolution_2304x1440', 'Company_Samsung', 'TypeName_Gaming'}\n",
      "Columnas solo en df1: {'Price_euros'}\n",
      "Columnas solo en df2: set()\n"
     ]
    }
   ],
   "source": [
    "columnas_df1 = set(train_one.columns)\n",
    "columnas_df2 = set(test_one.columns)\n",
    "\n",
    "# Comparar las columnas\n",
    "columnas_comunes = columnas_df1.intersection(columnas_df2)\n",
    "columnas_solo_df1 = columnas_df1 - columnas_comunes\n",
    "columnas_solo_df2 = columnas_df2 - columnas_comunes\n",
    "\n",
    "# Imprimir resultados\n",
    "print(f\"Columnas comunes: {columnas_comunes}\")\n",
    "print(f\"Columnas solo en df1: {columnas_solo_df1}\")\n",
    "print(f\"Columnas solo en df2: {columnas_solo_df2}\")"
   ]
  },
  {
   "cell_type": "code",
   "execution_count": 74,
   "metadata": {},
   "outputs": [],
   "source": [
    "train_one=train_one.drop(columns='Product')"
   ]
  },
  {
   "cell_type": "code",
   "execution_count": 75,
   "metadata": {},
   "outputs": [],
   "source": [
    "test_one=test_one.drop(columns='Product')"
   ]
  },
  {
   "cell_type": "code",
   "execution_count": 78,
   "metadata": {},
   "outputs": [],
   "source": [
    "test_one['Capacidad_2_GB'] = test_one['Capacidad_2_GB'].fillna(0)"
   ]
  },
  {
   "cell_type": "code",
   "execution_count": 79,
   "metadata": {},
   "outputs": [
    {
     "data": {
      "text/plain": [
       "array([1101.45580923,  259.15924065,   96.54927757, 1013.57879724,\n",
       "        338.88955845,  607.66222315,  467.20555268, 1741.7681606 ,\n",
       "       1740.12811989, 1306.30355823,  905.77983403,  981.95188535,\n",
       "       1158.24560946,  957.08830066,  807.00887095, 1168.26939393,\n",
       "       1151.57061927, 2606.0673267 ,  432.42244722,  775.28905057,\n",
       "       1412.61653583,  867.56626201,  549.64578981, 1095.23299431,\n",
       "        442.36524295, 1606.20872807,  719.46609575,  612.07900896,\n",
       "        474.92407335, 1286.02289497,  917.88903432, 1099.48169986,\n",
       "       1032.27912759, 1034.4197896 , 2094.21617745, 1195.67095761,\n",
       "       1094.24351142, 1468.15800323,  768.0305716 , 1920.27735148,\n",
       "       1887.04670193, 1167.14534429,  332.39400682, 1749.47527672,\n",
       "        955.14076709, 2016.25473472,  724.100577  , 1702.7892884 ,\n",
       "       1233.80714006, 1854.98716988, 1132.12669662,  382.30233501,\n",
       "        793.17313208, 1494.0979789 ,  399.31249612,  987.81994824,\n",
       "        968.42144882,  292.56048705, 1226.91411459, 1271.67626237,\n",
       "        597.87134035, 2107.73107769,  955.17306057,  400.42687724,\n",
       "        733.10908857,  939.02756139, 1247.57690747, 1866.23036551,\n",
       "        943.28096525,  802.7148333 ,  284.3309252 , 1556.6092168 ,\n",
       "       2908.05944736, 1483.06811607,  810.32666635,  831.51975852,\n",
       "        560.99461867, 2453.32765843,  574.13494274, 1496.66731434,\n",
       "        898.24663495, 1038.72145728, 1156.50657961, 1818.69542465,\n",
       "       1180.61499302,  946.2943822 , 1115.74538323,  966.5679671 ,\n",
       "        630.9496385 ,  860.26912756, 1278.45608745,  665.89187183,\n",
       "        183.76858669, 1825.25842585, 2237.72761666, 1581.12344642,\n",
       "       1221.42562235,  514.3251757 ,  163.35627505,  147.16288292,\n",
       "       1136.92507401,  875.91569544,  925.17577312,  645.5730056 ,\n",
       "       1476.2185287 ,  547.30841605, 3214.213637  ,  950.87741398,\n",
       "       2158.96991963, 1807.97110233, 1411.93077813,  475.15366731,\n",
       "       1389.93494589, 1662.99605786, 1256.18010502, 1741.74996067,\n",
       "       1045.4194428 , 2208.27670668,  709.84563833, 1249.37707318,\n",
       "        993.59518493, 1463.65574845, 1913.17449935, 1145.49470535,\n",
       "        858.63952359, 1274.68367115,  386.35211155,  809.25760028,\n",
       "       1108.11769439, 1286.53386653,  331.36433839,  716.98214368,\n",
       "        774.7592817 ,  432.4485891 ,  413.23515085, 1930.08450597,\n",
       "       1559.61021225, 1963.53556144, 1722.62665184,  970.68491869,\n",
       "       1163.22414005, 1482.13749622,  907.88494614, 1811.00283447,\n",
       "       2454.66252772,  453.98398158, 1905.69153051,  759.89845086,\n",
       "        786.54988027, 1493.4649354 , 1388.65526026, 1273.10947393,\n",
       "       1570.45318559, -125.185211  , 1753.17528384,  881.15498995,\n",
       "       1202.243639  ,  882.23259238, 1017.41554788,  985.94980656,\n",
       "       4339.27535013, 1354.74988567,  767.85794994,  542.07200907,\n",
       "       1098.93470885, 2943.25214738, 1048.67743703,  960.33032085,\n",
       "        664.5528977 , 1004.50253345,  246.35663585,  749.30571214,\n",
       "        874.12843203,  733.77558594, 1802.46051142,  638.82459016,\n",
       "       1374.7925735 , 1050.02779743, 1250.74235052,  527.80152549,\n",
       "        775.91264028, 1716.72946882, 1143.81566095,  863.82569038,\n",
       "       2225.34493009, 1126.50572745, 1257.47704455,  280.71529264,\n",
       "        510.25584058, 1106.44645159, 1290.08411661,  741.43782453,\n",
       "        392.60968035,  529.8696588 , 1225.89482569, 1996.75768588,\n",
       "       1607.56402888,  603.9542155 ,  858.76596665, 2123.29816448,\n",
       "       1299.19658821, 1149.67575392, 1185.01599407, 2437.91096433,\n",
       "        801.80551246, 1050.05878454, 1538.09593599, 1128.17902972,\n",
       "        800.19881002,  362.73136901,  899.93782438,  360.63594996,\n",
       "       1095.51937009, 1388.81465884, 1453.14872761,  336.62026609,\n",
       "       1158.02826609, 1277.24919112,  616.16096662, 1158.31555595,\n",
       "        168.28966862,  659.78492167,  125.19253746, 2280.09004524,\n",
       "        837.32519977, 1914.76565328, 1310.82865639, 1567.34534144,\n",
       "       1078.7552403 , 1020.36440893,  619.85923995,  376.89171645,\n",
       "       2587.02374441, 1178.09311373, 1126.45413101,  851.06964006,\n",
       "       1082.73464832,  719.59554855,  945.83525921,  656.19055566,\n",
       "       1753.25741057,  477.49389734, 1454.95764724, 1513.25145422,\n",
       "        826.40794557,  590.55464604,  484.52589262, 2704.76255343,\n",
       "       1221.19864145, 1580.10728047,  871.22522322, 2065.20802183,\n",
       "       1091.46936724, 1284.86587819,  526.28568411,  723.8542146 ,\n",
       "       1465.57503203, 1474.22735772, 1328.66396953, 1411.28524734,\n",
       "       1202.33666718, 2394.06832177,  188.49480742, 1670.2702362 ,\n",
       "        322.7444904 ,  646.75333875,  496.42324572,  297.15328568,\n",
       "        902.22547448,  634.5243601 , 1148.18649355, 1037.53903267,\n",
       "         90.84966188,  302.53939692, 1775.6244366 , 1872.69693598,\n",
       "       1742.34345805,  588.36092979,  771.65877932, 1854.53625197,\n",
       "       1206.65006625, 1189.88548583, 4678.47166492,  836.43915984,\n",
       "       1250.9889043 ,  323.4874328 , 1271.77222379, 1453.38082914,\n",
       "        178.64177663, 2113.88945879, 1939.71950745, 1560.47285944,\n",
       "       1086.16602294,  700.46165597,  686.27853442,  829.41889188,\n",
       "        342.48012589,  853.97512862, 2139.40979747, 1123.83162104,\n",
       "         43.80905318,  406.3957808 ,  313.82010626, 1509.47763223,\n",
       "       1219.64488864, 1952.77693101, 1857.14167181,  528.88448926,\n",
       "        640.88361939, 2838.70468822, 1334.8530166 ,  563.64652998,\n",
       "       1771.89655752, 1500.91106898, 1255.57161158, 1165.89371889,\n",
       "       2104.30609697, 2671.16400499, 1755.25542124, 1389.38228836,\n",
       "        299.22637743,  636.91768937, 1315.24869153, 1782.2467816 ,\n",
       "       1093.02763978,  516.5431623 , 1475.05263704,  355.87471174,\n",
       "       1734.00312227, 1167.61286162, 1107.38818751,  834.62779453,\n",
       "       2001.67792979,  809.72722509,  338.03278541,  689.43137869,\n",
       "       1587.87691172,  915.51096132, 1067.7573151 ,  461.14301463,\n",
       "       1131.22237893,  809.53611087,  352.31386994, 1195.58427803,\n",
       "        750.52954527,  523.75732246,  285.11424327, 1212.98229804,\n",
       "       1142.70480643, 1436.84902332, 1142.2069583 , 1906.4041051 ,\n",
       "        672.47087781, 1214.0111556 , 1877.38646921, 1300.38160297,\n",
       "        339.2246513 , 2856.34244348,  699.95710623,  880.42727867,\n",
       "       1393.98891894, 1026.43537565, 1156.36546978, 1679.78005504,\n",
       "       1020.26019437,  219.65334175,  286.48538356,  557.41758017,\n",
       "       1805.51239968,  736.8356168 ,  478.98428477,  353.31383282,\n",
       "       2611.69974787,  991.8948229 ,  442.61981682, 1126.52259802,\n",
       "       1700.42577172,  585.23585532, 1129.01530364, 1242.94344385,\n",
       "        802.66061784, 1101.59940631,  632.52379673,  864.12277067,\n",
       "       2475.84525432, 2245.87100817, 1851.2054155 , 2721.2085871 ,\n",
       "        712.71139379,  513.36279844, 1897.53412072])"
      ]
     },
     "execution_count": 79,
     "metadata": {},
     "output_type": "execute_result"
    }
   ],
   "source": [
    "predictions_submit = model.predict(test_one)\n",
    "predictions_submit"
   ]
  },
  {
   "cell_type": "code",
   "execution_count": 80,
   "metadata": {},
   "outputs": [],
   "source": [
    "sample = pd.read_csv(\"data/sample_submission.csv\")"
   ]
  },
  {
   "cell_type": "code",
   "execution_count": 81,
   "metadata": {},
   "outputs": [
    {
     "data": {
      "text/html": [
       "<div>\n",
       "<style scoped>\n",
       "    .dataframe tbody tr th:only-of-type {\n",
       "        vertical-align: middle;\n",
       "    }\n",
       "\n",
       "    .dataframe tbody tr th {\n",
       "        vertical-align: top;\n",
       "    }\n",
       "\n",
       "    .dataframe thead th {\n",
       "        text-align: right;\n",
       "    }\n",
       "</style>\n",
       "<table border=\"1\" class=\"dataframe\">\n",
       "  <thead>\n",
       "    <tr style=\"text-align: right;\">\n",
       "      <th></th>\n",
       "      <th>laptop_ID</th>\n",
       "      <th>Price_euros</th>\n",
       "    </tr>\n",
       "  </thead>\n",
       "  <tbody>\n",
       "    <tr>\n",
       "      <th>0</th>\n",
       "      <td>750</td>\n",
       "      <td>500</td>\n",
       "    </tr>\n",
       "    <tr>\n",
       "      <th>1</th>\n",
       "      <td>726</td>\n",
       "      <td>500</td>\n",
       "    </tr>\n",
       "    <tr>\n",
       "      <th>2</th>\n",
       "      <td>633</td>\n",
       "      <td>500</td>\n",
       "    </tr>\n",
       "    <tr>\n",
       "      <th>3</th>\n",
       "      <td>363</td>\n",
       "      <td>650</td>\n",
       "    </tr>\n",
       "    <tr>\n",
       "      <th>4</th>\n",
       "      <td>319</td>\n",
       "      <td>650</td>\n",
       "    </tr>\n",
       "  </tbody>\n",
       "</table>\n",
       "</div>"
      ],
      "text/plain": [
       "   laptop_ID  Price_euros\n",
       "0        750          500\n",
       "1        726          500\n",
       "2        633          500\n",
       "3        363          650\n",
       "4        319          650"
      ]
     },
     "execution_count": 81,
     "metadata": {},
     "output_type": "execute_result"
    }
   ],
   "source": [
    "sample.head()"
   ]
  },
  {
   "cell_type": "code",
   "execution_count": 82,
   "metadata": {},
   "outputs": [
    {
     "data": {
      "text/plain": [
       "(391, 2)"
      ]
     },
     "execution_count": 82,
     "metadata": {},
     "output_type": "execute_result"
    }
   ],
   "source": [
    "sample.shape"
   ]
  },
  {
   "cell_type": "code",
   "execution_count": 83,
   "metadata": {},
   "outputs": [],
   "source": [
    "submission = pd.DataFrame({\"laptop_ID\": sample['laptop_ID'], \"Price_euros\": predictions_submit})"
   ]
  },
  {
   "cell_type": "code",
   "execution_count": 84,
   "metadata": {},
   "outputs": [
    {
     "data": {
      "text/html": [
       "<div>\n",
       "<style scoped>\n",
       "    .dataframe tbody tr th:only-of-type {\n",
       "        vertical-align: middle;\n",
       "    }\n",
       "\n",
       "    .dataframe tbody tr th {\n",
       "        vertical-align: top;\n",
       "    }\n",
       "\n",
       "    .dataframe thead th {\n",
       "        text-align: right;\n",
       "    }\n",
       "</style>\n",
       "<table border=\"1\" class=\"dataframe\">\n",
       "  <thead>\n",
       "    <tr style=\"text-align: right;\">\n",
       "      <th></th>\n",
       "      <th>laptop_ID</th>\n",
       "      <th>Price_euros</th>\n",
       "    </tr>\n",
       "  </thead>\n",
       "  <tbody>\n",
       "    <tr>\n",
       "      <th>0</th>\n",
       "      <td>750</td>\n",
       "      <td>1101.455809</td>\n",
       "    </tr>\n",
       "    <tr>\n",
       "      <th>1</th>\n",
       "      <td>726</td>\n",
       "      <td>259.159241</td>\n",
       "    </tr>\n",
       "    <tr>\n",
       "      <th>2</th>\n",
       "      <td>633</td>\n",
       "      <td>96.549278</td>\n",
       "    </tr>\n",
       "    <tr>\n",
       "      <th>3</th>\n",
       "      <td>363</td>\n",
       "      <td>1013.578797</td>\n",
       "    </tr>\n",
       "    <tr>\n",
       "      <th>4</th>\n",
       "      <td>319</td>\n",
       "      <td>338.889558</td>\n",
       "    </tr>\n",
       "  </tbody>\n",
       "</table>\n",
       "</div>"
      ],
      "text/plain": [
       "   laptop_ID  Price_euros\n",
       "0        750  1101.455809\n",
       "1        726   259.159241\n",
       "2        633    96.549278\n",
       "3        363  1013.578797\n",
       "4        319   338.889558"
      ]
     },
     "execution_count": 84,
     "metadata": {},
     "output_type": "execute_result"
    }
   ],
   "source": [
    "submission.head()"
   ]
  },
  {
   "cell_type": "code",
   "execution_count": 85,
   "metadata": {},
   "outputs": [
    {
     "data": {
      "text/plain": [
       "(391, 2)"
      ]
     },
     "execution_count": 85,
     "metadata": {},
     "output_type": "execute_result"
    }
   ],
   "source": [
    "submission.shape"
   ]
  },
  {
   "cell_type": "code",
   "execution_count": 87,
   "metadata": {},
   "outputs": [
    {
     "name": "stdout",
     "output_type": "stream",
     "text": [
      "You're ready to submit!\n"
     ]
    }
   ],
   "source": [
    "chequeator(submission)"
   ]
  }
 ],
 "metadata": {
  "kernelspec": {
   "display_name": ".venv",
   "language": "python",
   "name": "python3"
  },
  "language_info": {
   "codemirror_mode": {
    "name": "ipython",
    "version": 3
   },
   "file_extension": ".py",
   "mimetype": "text/x-python",
   "name": "python",
   "nbconvert_exporter": "python",
   "pygments_lexer": "ipython3",
   "version": "3.11.4"
  }
 },
 "nbformat": 4,
 "nbformat_minor": 2
}
