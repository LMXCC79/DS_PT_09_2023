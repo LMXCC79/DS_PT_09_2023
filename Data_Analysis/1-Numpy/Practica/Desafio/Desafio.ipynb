{
 "cells": [
  {
   "cell_type": "markdown",
   "metadata": {},
   "source": [
    "## Reto 1: Hundir la Flota (Batalla Naval)\n",
    "### Objetivo: Implementar una versión simplificada del juego de Batalla Naval usando Python y Numpy para manejar el tablero del juego.\n",
    "\n",
    "- Crear un tablero 10x10 usando Numpy arrays.\n",
    "- Colocar 5 barcos de diferentes tamaños en posiciones aleatorias en el tablero.\n",
    "- Permitir que el jugador ingrese coordenadas para \"disparar\".\n",
    "- Mostrar un mensaje si el jugador acierta o falla, y actualizar el tablero acorde.\n",
    "- Seguir jugando hasta que todos los barcos sean hundidos.\n",
    "#### Habilidades aplicadas: Uso de arrays de Numpy, generación de números aleatorios, estructuras de control en Python.\n",
    "\n",
    "## Reto 2: Tres en Raya (Tic-Tac-Toe)\n",
    "### Objetivo: Implementar el juego de Tres en Raya.\n",
    "\n",
    "- Crear un tablero 3x3 usando Numpy arrays.\n",
    "- Permitir a dos jugadores ingresar sus movimientos alternadamente.\n",
    "- Verificar después de cada movimiento si alguno de los jugadores ha ganado.\n",
    "- Mostrar el tablero después de cada turno.\n",
    "- Terminar el juego si hay un ganador o si el tablero está lleno.\n",
    "#### Habilidades aplicadas: Manipulación de arrays, estructuras de control, funciones en Python.\n",
    "\n",
    "## Reto 3: Torres de Hanoi\n",
    "### Objetivo: Implementar el juego de las Torres de Hanoi usando Python.\n",
    "\n",
    "- Crear tres pilas para representar los tres postes del juego.\n",
    "- Implementar la lógica para mover un disco de un poste a otro, siguiendo las reglas del juego.\n",
    "- Desarrollar una función recursiva para resolver el juego.\n",
    "- Permitir al usuario elegir el número de discos con los que jugará.\n",
    "#### Habilidades aplicadas: Recursividad, estructuras de datos (pilas), funciones en Python."
   ]
  },
  {
   "cell_type": "markdown",
   "metadata": {},
   "source": [
    "``Deberas hacer por lo menos uno de los tres para de la fecha de entrega, pero antes de terminar el modulo de analisis de datos tendras que entregar todos..``"
   ]
  },
  {
   "cell_type": "markdown",
   "metadata": {},
   "source": [
    "como se cual debo hacer muy simple introduce tu fecha de cumpleaños en la siguiente funcion"
   ]
  },
  {
   "cell_type": "code",
   "execution_count": 2,
   "metadata": {},
   "outputs": [],
   "source": [
    "def cual_es_mi_reto(fecha: str) -> str:\n",
    "    \"\"\"\n",
    "    Args:\n",
    "    ------\n",
    "    fecha: str el formato de la fecha es DD-MM-YYYY\n",
    "    Returns:\n",
    "    -------\n",
    "    str: el numero del reto\n",
    "    \"\"\"\n",
    "    try:\n",
    "        return int(fecha.split('-')[0]) % 3\n",
    "    except:\n",
    "        return 'La fecha tiene que ser en este formato DD-MM-YYYY'"
   ]
  },
  {
   "cell_type": "code",
   "execution_count": 3,
   "metadata": {},
   "outputs": [
    {
     "data": {
      "text/plain": [
       "1"
      ]
     },
     "execution_count": 3,
     "metadata": {},
     "output_type": "execute_result"
    }
   ],
   "source": [
    "cual_es_mi_reto(fecha='04-08-1979')"
   ]
  },
  {
   "cell_type": "markdown",
   "metadata": {},
   "source": [
    "## Reto 1: Hundir la Flota (Batalla Naval)\n",
    "### Objetivo: Implementar una versión simplificada del juego de Batalla Naval usando Python y Numpy para manejar el tablero del juego.\n",
    "\n",
    "- Crear un tablero 10x10 usando Numpy arrays.\n",
    "- Colocar 5 barcos de diferentes tamaños en posiciones aleatorias en el tablero.\n",
    "- Permitir que el jugador ingrese coordenadas para \"disparar\".\n",
    "- Mostrar un mensaje si el jugador acierta o falla, y actualizar el tablero acorde.\n",
    "- Seguir jugando hasta que todos los barcos sean hundidos.\n",
    "#### Habilidades aplicadas: Uso de arrays de Numpy, generación de números aleatorios, estructuras de control en Python."
   ]
  },
  {
   "cell_type": "code",
   "execution_count": 4,
   "metadata": {},
   "outputs": [],
   "source": [
    "def Tablero_n_n (n):\n",
    "    #Definimos la funcion crear tablero, la cual recibe un parametro n que define las dimensiones de la matriz\n",
    "    import numpy as np\n",
    "    tablero = np.full ((n, n), \" \")\n",
    "    return tablero\n",
    "\n",
    "#tablero_n_n (10)"
   ]
  },
  {
   "cell_type": "code",
   "execution_count": 6,
   "metadata": {},
   "outputs": [],
   "source": [
    "def Barco_aleatorio (tamaño_tablero = int, num_barcos = int):\n",
    "    \"\"\"\n",
    "    Ubica un numero de barcos de manera aleatoria dentro del tablero (Tablero_n_n). \n",
    "        * Tamaño (1, 2, 3 o 4 posiciones).\n",
    "        * Orientacion (Vertical u Horizontal), los de tamaño de 1 posicion no requieren orientacion.\n",
    "    Argumentos: \n",
    "        * Tamaño del tablero: tamaño_tablero, el cual va a tener un unico valor de tipo entero, el tablero va a ser cuadrado\n",
    "        * Numero de barcos: num_barcos, que define el numero de barcos que se van a ubicar dentro del tablero\n",
    "    \"\"\"\n",
    "    import numpy as np\n",
    "    import random\n",
    "    tablero_n = Tablero_n_n (tamaño_tablero)\n",
    "    numero_barcos = 1 \n",
    "\n",
    "    while numero_barcos <= num_barcos:\n",
    "        llave = np.random.randint(1, 8)\n",
    "        if llave == 1: #Para un tamaño de barco de 1 posicion (no importa en este caso la direccion)\n",
    "            fil = random.randint(0, 9)\n",
    "            fil = random.randint(0, 9)\n",
    "            #print (fil)  \n",
    "            col = random.randint(0, 9) \n",
    "            #print (col) \n",
    "            #Para direccion sur, barco de 4 unidades\n",
    "            tablero_n [fil:fil+1, col:col+1] = \"O\"\n",
    "            #print (tablero_n)\n",
    "\n",
    "        elif llave == 2: #Para un tamaño de barco de 2 posiciones posicion vertical\n",
    "            fil = random.randint(0, 8)\n",
    "            #print (fil)  \n",
    "            col = random.randint(0, 9) \n",
    "            #print (col) \n",
    "            #Para direccion sur, barco de 4 unidades\n",
    "            tablero_n [fil:fil+2, col:col+1] = \"O\"\n",
    "            #print (tablero_n)\n",
    "\n",
    "        elif llave == 3: #Para un tamaño de barco de 3 posiciones posicion vertical\n",
    "            fil = random.randint(0, 7)\n",
    "            #print (fil)  \n",
    "            col = random.randint(0, 9) \n",
    "            #print (col) \n",
    "            #Para direccion sur, barco de 4 unidades\n",
    "            tablero_n [fil:fil+3, col:col+1] = \"O\"\n",
    "            #print (tablero_n)\n",
    "        \n",
    "        elif llave == 4: #Para un tamaño de barco de 4 posiciones posicion vertical\n",
    "            fil = random.randint(0, 6)\n",
    "            #print (fil)  \n",
    "            col = random.randint(0, 9) \n",
    "            #print (col) \n",
    "            #Para direccion sur, barco de 4 unidades\n",
    "            tablero_n [fil:fil+4, col:col+1] = \"O\"\n",
    "            #print (tablero_n)\n",
    "        \n",
    "        elif llave == 5: #Para un tamaño de barco de 2 posiciones posicion horizontal\n",
    "            fil = random.randint(0, 9)\n",
    "            #print (fil)  \n",
    "            col = random.randint(0, 8) \n",
    "            #print (col) \n",
    "            #Para direccion sur, barco de 4 unidades\n",
    "            tablero_n [fil:fil+1, col:col+2] = \"O\"\n",
    "            #print (tablero_n)\n",
    "        \n",
    "        elif llave == 6: #Para un tamaño de barco de 3 posiciones posicion horizontal\n",
    "            fil = random.randint(0, 9)\n",
    "            #print (fil)  \n",
    "            col = random.randint(0, 7) \n",
    "            #print (col) \n",
    "            #Para direccion sur, barco de 4 unidades\n",
    "            tablero_n [fil:fil+1, col:col+3] = \"O\"\n",
    "            #print (tablero_n)\n",
    "        \n",
    "        elif llave == 7: #Para un tamaño de barco de 4 posiciones posicion horizontal\n",
    "            fil = random.randint(0, 9)\n",
    "            #print (fil)  \n",
    "            col = random.randint(0, 6) \n",
    "            #print (col) \n",
    "            #Para direccion sur, barco de 4 unidades\n",
    "            tablero_n [fil:fil+1, col:col+4] = \"O\"\n",
    "            #print (tablero_n)\n",
    "\n",
    "        numero_barcos += 1\n",
    "    print (tablero_n)\n",
    "\n",
    "    return tablero_n"
   ]
  },
  {
   "cell_type": "code",
   "execution_count": null,
   "metadata": {},
   "outputs": [],
   "source": [
    "\"\"\"\"\n",
    "Aqui puede jugar, en principio y por cuestiones practicas, imprimimos el tablero con la posicion de los barcos, lo que se podria obviar.\n",
    "\"\"\"\n",
    "import numpy as np\n",
    "import random\n",
    "disparo = Barco_aleatorio (tamaño_tablero=10, num_barcos=5)\n",
    "disparo_X = np.copy (disparo)\n",
    "i = 1\n",
    "\n",
    "while \"O\" in disparo:\n",
    "    fila_disp = int (input(\"Ingrese un valor de fila: \"))\n",
    "    print (f\"Fila para disparo numero {i}: {fila_disp}\")\n",
    "    columna_disp = int (input(\"Ingrese un valor de columna: \"))\n",
    "    print (f\"columna para disparo numero {i}: {columna_disp}\")\n",
    "    if disparo [fila_disp:fila_disp+1, columna_disp:columna_disp+1] == \"O\":\n",
    "        disparo [fila_disp:fila_disp+1, columna_disp:columna_disp+1] = \"X\"\n",
    "        print (\"Has impactado en una embarcacion enemiga. \\n\")\n",
    "    elif disparo [fila_disp:fila_disp+1, columna_disp:columna_disp+1] == \"X\":\n",
    "        print (\"Ya impactaste en esta misma posicion, intenta no repetir esta ubicacion. \\n\")\n",
    "    else:\n",
    "        print (\"Tu disparo no ha impactado, intentalo de nuevo \\n\")\n",
    "    i +=1\n",
    "print (f\"You Win!, lo lograste en {i} disparos \\n\")\n",
    "\n",
    "print (disparo)"
   ]
  }
 ],
 "metadata": {
  "kernelspec": {
   "display_name": "este",
   "language": "python",
   "name": "python3"
  },
  "language_info": {
   "codemirror_mode": {
    "name": "ipython",
    "version": 3
   },
   "file_extension": ".py",
   "mimetype": "text/x-python",
   "name": "python",
   "nbconvert_exporter": "python",
   "pygments_lexer": "ipython3",
   "version": "3.11.4"
  }
 },
 "nbformat": 4,
 "nbformat_minor": 2
}
