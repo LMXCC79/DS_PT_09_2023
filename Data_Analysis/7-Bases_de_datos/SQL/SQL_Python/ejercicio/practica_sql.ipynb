{
 "cells": [
  {
   "cell_type": "code",
   "execution_count": 1,
   "metadata": {},
   "outputs": [],
   "source": [
    "import pandas as pd\n",
    "import sqlite3"
   ]
  },
  {
   "cell_type": "markdown",
   "metadata": {},
   "source": [
    "## INSTANCIA DE BBDD ##\n"
   ]
  },
  {
   "cell_type": "code",
   "execution_count": 2,
   "metadata": {},
   "outputs": [],
   "source": [
    "# Conectamos con la base de datos chinook.db\n",
    "connection = sqlite3.connect(\"data/Bar_TB.db\")\n",
    "\n",
    "# Obtenemos un cursor que utilizaremos para hacer las queries\n",
    "crsr = connection.cursor()"
   ]
  },
  {
   "cell_type": "markdown",
   "metadata": {},
   "source": [
    "## FUNCION PARA INTERACTUAR CON LAS BASES DE DATOS"
   ]
  },
  {
   "cell_type": "code",
   "execution_count": 3,
   "metadata": {},
   "outputs": [],
   "source": [
    "# Con esta función leemos los datos y lo pasamos a un DataFrame de Pandas\n",
    "def sql_query(query):\n",
    "\n",
    "    # Ejecuta la query\n",
    "    crsr.execute(query)\n",
    "\n",
    "    # Almacena los datos de la query \n",
    "    ans = crsr.fetchall()\n",
    "\n",
    "    # Obtenemos los nombres de las columnas de la tabla\n",
    "    names = [description[0] for description in crsr.description]\n",
    "\n",
    "    return pd.DataFrame(ans,columns=names)"
   ]
  },
  {
   "cell_type": "markdown",
   "metadata": {},
   "source": [
    "## CREAR LAS TABLAS "
   ]
  },
  {
   "cell_type": "code",
   "execution_count": 4,
   "metadata": {},
   "outputs": [
    {
     "name": "stdout",
     "output_type": "stream",
     "text": [
      "cerveza\n",
      "bares\n",
      "empleados\n",
      "reparto\n"
     ]
    }
   ],
   "source": [
    "res = crsr.execute(\"SELECT name FROM sqlite_master WHERE type='table'\")\n",
    "for name in res:\n",
    "    print(name[0])"
   ]
  },
  {
   "cell_type": "markdown",
   "metadata": {},
   "source": [
    "### Tabla cerveza"
   ]
  },
  {
   "cell_type": "code",
   "execution_count": null,
   "metadata": {},
   "outputs": [],
   "source": [
    "query_cerveza = \"\"\"\n",
    "CREATE TABLE cerveza (\n",
    "    CodC VARCHAR (3),\n",
    "    Envase VARCHAR (50),\n",
    "    Capacidad FLOAT,\n",
    "    Stock INT\n",
    ")\n",
    "\"\"\"\n",
    "\n",
    "crsr.execute(query_cerveza)"
   ]
  },
  {
   "cell_type": "markdown",
   "metadata": {},
   "source": [
    "### Tabla bares"
   ]
  },
  {
   "cell_type": "code",
   "execution_count": null,
   "metadata": {},
   "outputs": [],
   "source": [
    "query_bares = \"\"\"\n",
    "CREATE TABLE bares (\n",
    "    CodB VARCHAR (4),\n",
    "    Nombre VARCHAR (50),\n",
    "    Cif VARCHAR (10),\n",
    "    Localidad VARCHAR (50)\n",
    ")\n",
    "\"\"\"\n",
    "\n",
    "crsr.execute(query_bares)"
   ]
  },
  {
   "cell_type": "markdown",
   "metadata": {},
   "source": [
    "### Tabla empleados"
   ]
  },
  {
   "cell_type": "code",
   "execution_count": null,
   "metadata": {},
   "outputs": [],
   "source": [
    "query_empleados = \"\"\"\n",
    "CREATE TABLE empleados (\n",
    "    CodE VARCHAR (2),\n",
    "    Nombre VARCHAR (50),\n",
    "    Sueldo INT \n",
    ")\n",
    "\"\"\"\n",
    "\n",
    "crsr.execute(query_empleados)"
   ]
  },
  {
   "cell_type": "markdown",
   "metadata": {},
   "source": [
    "### Tabla reparto\n"
   ]
  },
  {
   "cell_type": "code",
   "execution_count": null,
   "metadata": {},
   "outputs": [],
   "source": [
    "query_reparto = \"\"\"\n",
    "CREATE TABLE reparto (\n",
    "    CodE VARCHAR (2),\n",
    "    CodB VARCHAR (4),\n",
    "    CodC VARCHAR (3),\n",
    "    Fecha DATE,\n",
    "    Cantidad INT \n",
    ")\n",
    "\"\"\"\n",
    "\n",
    "crsr.execute(query_reparto)"
   ]
  },
  {
   "cell_type": "markdown",
   "metadata": {},
   "source": [
    "### INSERTAR DATOS"
   ]
  },
  {
   "cell_type": "code",
   "execution_count": 31,
   "metadata": {},
   "outputs": [
    {
     "data": {
      "text/plain": [
       "<sqlite3.Cursor at 0x1c8b6858640>"
      ]
     },
     "execution_count": 31,
     "metadata": {},
     "output_type": "execute_result"
    }
   ],
   "source": [
    "# Insertamos datos en la tabla cerveza\n",
    "query_insert = \"\"\"\n",
    "INSERT INTO cerveza VALUES\n",
    "('01', 'Botella', 0.2, 3600),\n",
    "('02', 'Botella', 0.33, 1200),\n",
    "('03', 'Lata', 0.33, 2400),\n",
    "('04', 'Botella', 1, 288),\n",
    "('05', 'Barril', 60, 30)\n",
    "\"\"\"\n",
    "crsr.execute (query_insert)"
   ]
  },
  {
   "cell_type": "code",
   "execution_count": 32,
   "metadata": {},
   "outputs": [
    {
     "data": {
      "text/html": [
       "<div>\n",
       "<style scoped>\n",
       "    .dataframe tbody tr th:only-of-type {\n",
       "        vertical-align: middle;\n",
       "    }\n",
       "\n",
       "    .dataframe tbody tr th {\n",
       "        vertical-align: top;\n",
       "    }\n",
       "\n",
       "    .dataframe thead th {\n",
       "        text-align: right;\n",
       "    }\n",
       "</style>\n",
       "<table border=\"1\" class=\"dataframe\">\n",
       "  <thead>\n",
       "    <tr style=\"text-align: right;\">\n",
       "      <th></th>\n",
       "      <th>CodC</th>\n",
       "      <th>Envase</th>\n",
       "      <th>Capacidad</th>\n",
       "      <th>Stock</th>\n",
       "    </tr>\n",
       "  </thead>\n",
       "  <tbody>\n",
       "    <tr>\n",
       "      <th>0</th>\n",
       "      <td>01</td>\n",
       "      <td>Botella</td>\n",
       "      <td>0.20</td>\n",
       "      <td>3600</td>\n",
       "    </tr>\n",
       "    <tr>\n",
       "      <th>1</th>\n",
       "      <td>02</td>\n",
       "      <td>Botella</td>\n",
       "      <td>0.33</td>\n",
       "      <td>1200</td>\n",
       "    </tr>\n",
       "    <tr>\n",
       "      <th>2</th>\n",
       "      <td>03</td>\n",
       "      <td>Lata</td>\n",
       "      <td>0.33</td>\n",
       "      <td>2400</td>\n",
       "    </tr>\n",
       "    <tr>\n",
       "      <th>3</th>\n",
       "      <td>04</td>\n",
       "      <td>Botella</td>\n",
       "      <td>1.00</td>\n",
       "      <td>288</td>\n",
       "    </tr>\n",
       "    <tr>\n",
       "      <th>4</th>\n",
       "      <td>05</td>\n",
       "      <td>Barril</td>\n",
       "      <td>60.00</td>\n",
       "      <td>30</td>\n",
       "    </tr>\n",
       "  </tbody>\n",
       "</table>\n",
       "</div>"
      ],
      "text/plain": [
       "  CodC   Envase  Capacidad  Stock\n",
       "0   01  Botella       0.20   3600\n",
       "1   02  Botella       0.33   1200\n",
       "2   03     Lata       0.33   2400\n",
       "3   04  Botella       1.00    288\n",
       "4   05   Barril      60.00     30"
      ]
     },
     "execution_count": 32,
     "metadata": {},
     "output_type": "execute_result"
    }
   ],
   "source": [
    "pd.read_sql ('SELECT * FROM cerveza', connection)"
   ]
  },
  {
   "cell_type": "code",
   "execution_count": null,
   "metadata": {},
   "outputs": [],
   "source": [
    "# Para borrar los datos de la tabla cerveza\n",
    "#pd.read_sql('DELETE FROM cerveza', connection)"
   ]
  },
  {
   "cell_type": "code",
   "execution_count": 27,
   "metadata": {},
   "outputs": [
    {
     "data": {
      "text/plain": [
       "<sqlite3.Cursor at 0x1c8b6858640>"
      ]
     },
     "execution_count": 27,
     "metadata": {},
     "output_type": "execute_result"
    }
   ],
   "source": [
    "# Insertamos datos en la tabla reparto\n",
    "query_insert2 = \"\"\"\n",
    "INSERT INTO reparto (CodE, CodB, CodC, Fecha, Cantidad) VALUES\n",
    "('1', '001', '01', '2005-10-21', 240),\n",
    "('1', '001', '02', '2005-10-21', 48),\n",
    "('1', '002', '03', '2005-10-22', 60),\n",
    "('1', '004', '05', '2005-10-22', 4),\n",
    "('2', '002', '03', '2005-10-22', 48),\n",
    "('2', '002', '05', '2005-10-23', 2),\n",
    "('2', '004', '01', '2005-10-23', 480),\n",
    "('2', '004', '02', '2005-10-24', 72),\n",
    "('3', '003', '03', '2005-10-24', 48),\n",
    "('3', '003', '04', '2005-10-25', 20)\n",
    "\"\"\"\n",
    "crsr.execute (query_insert2)"
   ]
  },
  {
   "cell_type": "code",
   "execution_count": 28,
   "metadata": {},
   "outputs": [
    {
     "data": {
      "text/html": [
       "<div>\n",
       "<style scoped>\n",
       "    .dataframe tbody tr th:only-of-type {\n",
       "        vertical-align: middle;\n",
       "    }\n",
       "\n",
       "    .dataframe tbody tr th {\n",
       "        vertical-align: top;\n",
       "    }\n",
       "\n",
       "    .dataframe thead th {\n",
       "        text-align: right;\n",
       "    }\n",
       "</style>\n",
       "<table border=\"1\" class=\"dataframe\">\n",
       "  <thead>\n",
       "    <tr style=\"text-align: right;\">\n",
       "      <th></th>\n",
       "      <th>CodE</th>\n",
       "      <th>CodB</th>\n",
       "      <th>CodC</th>\n",
       "      <th>Fecha</th>\n",
       "      <th>Cantidad</th>\n",
       "    </tr>\n",
       "  </thead>\n",
       "  <tbody>\n",
       "    <tr>\n",
       "      <th>0</th>\n",
       "      <td>1</td>\n",
       "      <td>001</td>\n",
       "      <td>01</td>\n",
       "      <td>2005-10-21</td>\n",
       "      <td>240</td>\n",
       "    </tr>\n",
       "    <tr>\n",
       "      <th>1</th>\n",
       "      <td>1</td>\n",
       "      <td>001</td>\n",
       "      <td>02</td>\n",
       "      <td>2005-10-21</td>\n",
       "      <td>48</td>\n",
       "    </tr>\n",
       "    <tr>\n",
       "      <th>2</th>\n",
       "      <td>1</td>\n",
       "      <td>002</td>\n",
       "      <td>03</td>\n",
       "      <td>2005-10-22</td>\n",
       "      <td>60</td>\n",
       "    </tr>\n",
       "    <tr>\n",
       "      <th>3</th>\n",
       "      <td>1</td>\n",
       "      <td>004</td>\n",
       "      <td>05</td>\n",
       "      <td>2005-10-22</td>\n",
       "      <td>4</td>\n",
       "    </tr>\n",
       "    <tr>\n",
       "      <th>4</th>\n",
       "      <td>2</td>\n",
       "      <td>002</td>\n",
       "      <td>03</td>\n",
       "      <td>2005-10-22</td>\n",
       "      <td>48</td>\n",
       "    </tr>\n",
       "    <tr>\n",
       "      <th>5</th>\n",
       "      <td>2</td>\n",
       "      <td>002</td>\n",
       "      <td>05</td>\n",
       "      <td>2005-10-23</td>\n",
       "      <td>2</td>\n",
       "    </tr>\n",
       "    <tr>\n",
       "      <th>6</th>\n",
       "      <td>2</td>\n",
       "      <td>004</td>\n",
       "      <td>01</td>\n",
       "      <td>2005-10-23</td>\n",
       "      <td>480</td>\n",
       "    </tr>\n",
       "    <tr>\n",
       "      <th>7</th>\n",
       "      <td>2</td>\n",
       "      <td>004</td>\n",
       "      <td>02</td>\n",
       "      <td>2005-10-24</td>\n",
       "      <td>72</td>\n",
       "    </tr>\n",
       "    <tr>\n",
       "      <th>8</th>\n",
       "      <td>3</td>\n",
       "      <td>003</td>\n",
       "      <td>03</td>\n",
       "      <td>2005-10-24</td>\n",
       "      <td>48</td>\n",
       "    </tr>\n",
       "    <tr>\n",
       "      <th>9</th>\n",
       "      <td>3</td>\n",
       "      <td>003</td>\n",
       "      <td>04</td>\n",
       "      <td>2005-10-25</td>\n",
       "      <td>20</td>\n",
       "    </tr>\n",
       "  </tbody>\n",
       "</table>\n",
       "</div>"
      ],
      "text/plain": [
       "  CodE CodB CodC       Fecha  Cantidad\n",
       "0    1  001   01  2005-10-21       240\n",
       "1    1  001   02  2005-10-21        48\n",
       "2    1  002   03  2005-10-22        60\n",
       "3    1  004   05  2005-10-22         4\n",
       "4    2  002   03  2005-10-22        48\n",
       "5    2  002   05  2005-10-23         2\n",
       "6    2  004   01  2005-10-23       480\n",
       "7    2  004   02  2005-10-24        72\n",
       "8    3  003   03  2005-10-24        48\n",
       "9    3  003   04  2005-10-25        20"
      ]
     },
     "execution_count": 28,
     "metadata": {},
     "output_type": "execute_result"
    }
   ],
   "source": [
    "pd.read_sql('SELECT * FROM reparto', connection)"
   ]
  },
  {
   "cell_type": "code",
   "execution_count": null,
   "metadata": {},
   "outputs": [],
   "source": [
    "# Para borrar los datos de la tabla reparto\n",
    "#pd.read_sql('DELETE FROM reparto', connection)"
   ]
  },
  {
   "cell_type": "code",
   "execution_count": 36,
   "metadata": {},
   "outputs": [
    {
     "data": {
      "text/plain": [
       "3"
      ]
     },
     "execution_count": 36,
     "metadata": {},
     "output_type": "execute_result"
    }
   ],
   "source": [
    "# Insertamos datos en la tabla empleados\n",
    "empleados = pd.DataFrame ({\n",
    "                        \"CodE\" : [\"1\", \"2\", \"3\"],\n",
    "                        \"Nombre\" : [\"Prudencio Caminero\", \"Vicente Merario\", \"Valentin Siempre\" ],\n",
    "                        \"Sueldo\" : [120000, 110000, 10000],\n",
    "                        })\n",
    "\n",
    "\n",
    "empleados.to_sql(name = 'empleados', con = connection, if_exists='append', index=False)"
   ]
  },
  {
   "cell_type": "code",
   "execution_count": 37,
   "metadata": {},
   "outputs": [
    {
     "data": {
      "text/html": [
       "<div>\n",
       "<style scoped>\n",
       "    .dataframe tbody tr th:only-of-type {\n",
       "        vertical-align: middle;\n",
       "    }\n",
       "\n",
       "    .dataframe tbody tr th {\n",
       "        vertical-align: top;\n",
       "    }\n",
       "\n",
       "    .dataframe thead th {\n",
       "        text-align: right;\n",
       "    }\n",
       "</style>\n",
       "<table border=\"1\" class=\"dataframe\">\n",
       "  <thead>\n",
       "    <tr style=\"text-align: right;\">\n",
       "      <th></th>\n",
       "      <th>CodE</th>\n",
       "      <th>Nombre</th>\n",
       "      <th>Sueldo</th>\n",
       "    </tr>\n",
       "  </thead>\n",
       "  <tbody>\n",
       "    <tr>\n",
       "      <th>0</th>\n",
       "      <td>1</td>\n",
       "      <td>Prudencio Caminero</td>\n",
       "      <td>120000</td>\n",
       "    </tr>\n",
       "    <tr>\n",
       "      <th>1</th>\n",
       "      <td>2</td>\n",
       "      <td>Vicente Merario</td>\n",
       "      <td>110000</td>\n",
       "    </tr>\n",
       "    <tr>\n",
       "      <th>2</th>\n",
       "      <td>3</td>\n",
       "      <td>Valentin Siempre</td>\n",
       "      <td>10000</td>\n",
       "    </tr>\n",
       "  </tbody>\n",
       "</table>\n",
       "</div>"
      ],
      "text/plain": [
       "  CodE              Nombre  Sueldo\n",
       "0    1  Prudencio Caminero  120000\n",
       "1    2     Vicente Merario  110000\n",
       "2    3    Valentin Siempre   10000"
      ]
     },
     "execution_count": 37,
     "metadata": {},
     "output_type": "execute_result"
    }
   ],
   "source": [
    "pd.read_sql('SELECT * FROM empleados', connection)"
   ]
  },
  {
   "cell_type": "code",
   "execution_count": null,
   "metadata": {},
   "outputs": [],
   "source": [
    "# Para borrar los datos de la tabla reparto\n",
    "#pd.read_sql('DELETE FROM empleados', connection)"
   ]
  },
  {
   "cell_type": "code",
   "execution_count": 42,
   "metadata": {},
   "outputs": [
    {
     "data": {
      "text/plain": [
       "4"
      ]
     },
     "execution_count": 42,
     "metadata": {},
     "output_type": "execute_result"
    }
   ],
   "source": [
    "# Insertamos datos en la tabla bares\n",
    "bares = pd.DataFrame ({\n",
    "                        \"CodB\" : [\"001\", \"002\", \"003\", \"004\"],\n",
    "                        \"Nombre\" : [\"Stop\", \"Las Vegas\", \"Club Social\", \"Otra Ronda\"],\n",
    "                        \"Cif\" : [\"11111111X\", \"22222222Y\", None, \"33333333Z\"],\n",
    "                        \"Localidad\" : [\"Villa Botijo\", \"Villa Botijo\", \"Las Ranas\", \"La Esponja\"]\n",
    "\n",
    "                        })\n",
    "bares\n",
    "\n",
    "bares.to_sql(name = 'bares', con = connection, if_exists='append', index=False)"
   ]
  },
  {
   "cell_type": "code",
   "execution_count": 43,
   "metadata": {},
   "outputs": [
    {
     "data": {
      "text/html": [
       "<div>\n",
       "<style scoped>\n",
       "    .dataframe tbody tr th:only-of-type {\n",
       "        vertical-align: middle;\n",
       "    }\n",
       "\n",
       "    .dataframe tbody tr th {\n",
       "        vertical-align: top;\n",
       "    }\n",
       "\n",
       "    .dataframe thead th {\n",
       "        text-align: right;\n",
       "    }\n",
       "</style>\n",
       "<table border=\"1\" class=\"dataframe\">\n",
       "  <thead>\n",
       "    <tr style=\"text-align: right;\">\n",
       "      <th></th>\n",
       "      <th>CodB</th>\n",
       "      <th>Nombre</th>\n",
       "      <th>Cif</th>\n",
       "      <th>Localidad</th>\n",
       "    </tr>\n",
       "  </thead>\n",
       "  <tbody>\n",
       "    <tr>\n",
       "      <th>0</th>\n",
       "      <td>001</td>\n",
       "      <td>Stop</td>\n",
       "      <td>11111111X</td>\n",
       "      <td>Villa Botijo</td>\n",
       "    </tr>\n",
       "    <tr>\n",
       "      <th>1</th>\n",
       "      <td>002</td>\n",
       "      <td>Las Vegas</td>\n",
       "      <td>22222222Y</td>\n",
       "      <td>Villa Botijo</td>\n",
       "    </tr>\n",
       "    <tr>\n",
       "      <th>2</th>\n",
       "      <td>003</td>\n",
       "      <td>Club Social</td>\n",
       "      <td>None</td>\n",
       "      <td>Las Ranas</td>\n",
       "    </tr>\n",
       "    <tr>\n",
       "      <th>3</th>\n",
       "      <td>004</td>\n",
       "      <td>Otra Ronda</td>\n",
       "      <td>33333333Z</td>\n",
       "      <td>La Esponja</td>\n",
       "    </tr>\n",
       "  </tbody>\n",
       "</table>\n",
       "</div>"
      ],
      "text/plain": [
       "  CodB       Nombre        Cif     Localidad\n",
       "0  001         Stop  11111111X  Villa Botijo\n",
       "1  002    Las Vegas  22222222Y  Villa Botijo\n",
       "2  003  Club Social       None     Las Ranas\n",
       "3  004   Otra Ronda  33333333Z    La Esponja"
      ]
     },
     "execution_count": 43,
     "metadata": {},
     "output_type": "execute_result"
    }
   ],
   "source": [
    "pd.read_sql('SELECT * FROM bares', connection)"
   ]
  },
  {
   "cell_type": "code",
   "execution_count": null,
   "metadata": {},
   "outputs": [],
   "source": [
    "# Para borrar los datos de la tabla bares\n",
    "#pd.read_sql('DELETE FROM bares', connection)"
   ]
  },
  {
   "cell_type": "code",
   "execution_count": 50,
   "metadata": {},
   "outputs": [],
   "source": [
    "connection.commit()"
   ]
  },
  {
   "cell_type": "code",
   "execution_count": 51,
   "metadata": {},
   "outputs": [],
   "source": [
    "connection.close()"
   ]
  },
  {
   "cell_type": "markdown",
   "metadata": {},
   "source": [
    "## Respuestas"
   ]
  },
  {
   "cell_type": "code",
   "execution_count": 46,
   "metadata": {},
   "outputs": [],
   "source": [
    "# Conectamos con la base de datos chinook.db\n",
    "connection = sqlite3.connect(\"data/Bar_TB.db\")\n",
    "\n",
    "# Obtenemos un cursor que utilizaremos para hacer las queries\n",
    "crsr = connection.cursor()"
   ]
  },
  {
   "cell_type": "code",
   "execution_count": 49,
   "metadata": {},
   "outputs": [
    {
     "data": {
      "text/html": [
       "<div>\n",
       "<style scoped>\n",
       "    .dataframe tbody tr th:only-of-type {\n",
       "        vertical-align: middle;\n",
       "    }\n",
       "\n",
       "    .dataframe tbody tr th {\n",
       "        vertical-align: top;\n",
       "    }\n",
       "\n",
       "    .dataframe thead th {\n",
       "        text-align: right;\n",
       "    }\n",
       "</style>\n",
       "<table border=\"1\" class=\"dataframe\">\n",
       "  <thead>\n",
       "    <tr style=\"text-align: right;\">\n",
       "      <th></th>\n",
       "      <th>Nombre</th>\n",
       "    </tr>\n",
       "  </thead>\n",
       "  <tbody>\n",
       "    <tr>\n",
       "      <th>0</th>\n",
       "      <td>Prudencio Caminero</td>\n",
       "    </tr>\n",
       "  </tbody>\n",
       "</table>\n",
       "</div>"
      ],
      "text/plain": [
       "               Nombre\n",
       "0  Prudencio Caminero"
      ]
     },
     "execution_count": 49,
     "metadata": {},
     "output_type": "execute_result"
    }
   ],
   "source": [
    "\"\"\"\n",
    "Obtener el nombre de los empleados que hayan repartido al bar Stop durante la semana del 17 al 23 de octubre de 2005\n",
    "\"\"\"\n",
    "\n",
    "query1 = \"\"\" \n",
    "SELECT DISTINCT\n",
    "e.Nombre\n",
    "FROM empleados e\n",
    "INNER JOIN reparto r\n",
    "ON e.CodE = r.CodE\n",
    "INNER JOIN bares b\n",
    "ON b.CodB = r.CodB\n",
    "WHERE b.Nombre = 'Stop' AND r.Fecha BETWEEN '2005-10-17' AND '2005-10-23'\n",
    "\"\"\"\n",
    "sql_query(query1)"
   ]
  }
 ],
 "metadata": {
  "kernelspec": {
   "display_name": ".venv",
   "language": "python",
   "name": "python3"
  },
  "language_info": {
   "codemirror_mode": {
    "name": "ipython",
    "version": 3
   },
   "file_extension": ".py",
   "mimetype": "text/x-python",
   "name": "python",
   "nbconvert_exporter": "python",
   "pygments_lexer": "ipython3",
   "version": "3.11.4"
  }
 },
 "nbformat": 4,
 "nbformat_minor": 2
}
