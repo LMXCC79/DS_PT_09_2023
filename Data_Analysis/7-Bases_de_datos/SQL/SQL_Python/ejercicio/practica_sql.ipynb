{
 "cells": [
  {
   "cell_type": "code",
   "execution_count": 1,
   "metadata": {},
   "outputs": [],
   "source": [
    "import pandas as pd\n",
    "import sqlite3"
   ]
  },
  {
   "cell_type": "markdown",
   "metadata": {},
   "source": [
    "## INSTANCIA DE BBDD ##\n"
   ]
  },
  {
   "cell_type": "code",
   "execution_count": 2,
   "metadata": {},
   "outputs": [],
   "source": [
    "# Conectamos con la base de datos chinook.db\n",
    "connection = sqlite3.connect(\"data/Bar_TB.db\")\n",
    "\n",
    "# Obtenemos un cursor que utilizaremos para hacer las queries\n",
    "crsr = connection.cursor()"
   ]
  },
  {
   "cell_type": "markdown",
   "metadata": {},
   "source": [
    "## FUNCION PARA INTERACTUAR CON LAS BASES DE DATOS"
   ]
  },
  {
   "cell_type": "code",
   "execution_count": 3,
   "metadata": {},
   "outputs": [],
   "source": [
    "# Con esta función leemos los datos y lo pasamos a un DataFrame de Pandas\n",
    "def sql_query(query):\n",
    "\n",
    "    # Ejecuta la query\n",
    "    crsr.execute(query)\n",
    "\n",
    "    # Almacena los datos de la query \n",
    "    ans = crsr.fetchall()\n",
    "\n",
    "    # Obtenemos los nombres de las columnas de la tabla\n",
    "    names = [description[0] for description in crsr.description]\n",
    "\n",
    "    return pd.DataFrame(ans,columns=names)"
   ]
  },
  {
   "cell_type": "markdown",
   "metadata": {},
   "source": [
    "## CREAR LAS TABLAS "
   ]
  },
  {
   "cell_type": "code",
   "execution_count": 10,
   "metadata": {},
   "outputs": [
    {
     "name": "stdout",
     "output_type": "stream",
     "text": [
      "cerveza\n",
      "bares\n",
      "empleados\n",
      "reparto\n"
     ]
    }
   ],
   "source": [
    "res = crsr.execute(\"SELECT name FROM sqlite_master WHERE type='table'\")\n",
    "for name in res:\n",
    "    print(name[0])"
   ]
  },
  {
   "cell_type": "markdown",
   "metadata": {},
   "source": [
    "### Tabla cerveza"
   ]
  },
  {
   "cell_type": "code",
   "execution_count": null,
   "metadata": {},
   "outputs": [],
   "source": [
    "query_cerveza = \"\"\"\n",
    "CREATE TABLE cerveza (\n",
    "    CodC VARCHAR (3),\n",
    "    Envase VARCHAR (50),\n",
    "    Capacidad FLOAT,\n",
    "    Stock INT\n",
    ")\n",
    "\"\"\"\n",
    "\n",
    "crsr.execute(query_cerveza)"
   ]
  },
  {
   "cell_type": "markdown",
   "metadata": {},
   "source": [
    "### Tabla bares"
   ]
  },
  {
   "cell_type": "code",
   "execution_count": null,
   "metadata": {},
   "outputs": [],
   "source": [
    "query_bares = \"\"\"\n",
    "CREATE TABLE bares (\n",
    "    CodB VARCHAR (4),\n",
    "    Nombre VARCHAR (50),\n",
    "    Cif VARCHAR (10),\n",
    "    Localidad VARCHAR (50)\n",
    ")\n",
    "\"\"\"\n",
    "\n",
    "crsr.execute(query_bares)"
   ]
  },
  {
   "cell_type": "markdown",
   "metadata": {},
   "source": [
    "### Tabla empleados"
   ]
  },
  {
   "cell_type": "code",
   "execution_count": null,
   "metadata": {},
   "outputs": [],
   "source": [
    "query_empleados = \"\"\"\n",
    "CREATE TABLE empleados (\n",
    "    CodE VARCHAR (2),\n",
    "    Nombre VARCHAR (50),\n",
    "    Sueldo INT \n",
    ")\n",
    "\"\"\"\n",
    "\n",
    "crsr.execute(query_empleados)"
   ]
  },
  {
   "cell_type": "markdown",
   "metadata": {},
   "source": [
    "### Tabla reparto\n"
   ]
  },
  {
   "cell_type": "code",
   "execution_count": null,
   "metadata": {},
   "outputs": [],
   "source": [
    "query_reparto = \"\"\"\n",
    "CREATE TABLE reparto (\n",
    "    CodE VARCHAR (2),\n",
    "    CodB VARCHAR (4),\n",
    "    CodC VARCHAR (3),\n",
    "    Fecha DATE,\n",
    "    Cantidad INT \n",
    ")\n",
    "\"\"\"\n",
    "\n",
    "crsr.execute(query_reparto)"
   ]
  },
  {
   "cell_type": "markdown",
   "metadata": {},
   "source": [
    "### INSERTAR DATOS"
   ]
  },
  {
   "cell_type": "code",
   "execution_count": 11,
   "metadata": {},
   "outputs": [
    {
     "data": {
      "text/plain": [
       "<sqlite3.Cursor at 0x221ca218740>"
      ]
     },
     "execution_count": 11,
     "metadata": {},
     "output_type": "execute_result"
    }
   ],
   "source": [
    "# Insertamos datos en la tabla cerveza\n",
    "query_insert = \"\"\"\n",
    "INSERT INTO cerveza VALUES\n",
    "('01', 'Botella', 0.2, 3600),\n",
    "('02', 'Botella', 0.33, 1200),\n",
    "('03', 'Lata', 0.33, 2400),\n",
    "('04', 'Botella', 1, 288),\n",
    "('05', 'Barril', 60, 30)\n",
    "\"\"\"\n",
    "crsr.execute (query_insert)"
   ]
  },
  {
   "cell_type": "code",
   "execution_count": null,
   "metadata": {},
   "outputs": [],
   "source": [
    "pd.read_sql ('SELECT * FROM cerveza', connection)"
   ]
  },
  {
   "cell_type": "code",
   "execution_count": 52,
   "metadata": {},
   "outputs": [
    {
     "data": {
      "text/plain": [
       "<sqlite3.Cursor at 0x221ca218740>"
      ]
     },
     "execution_count": 52,
     "metadata": {},
     "output_type": "execute_result"
    }
   ],
   "source": [
    "# Insertamos datos en la tabla reparto\n",
    "query_insert2 = \"\"\"\n",
    "INSERT INTO reparto (CodE, CodB, CodC, Fecha, Cantidad) VALUES\n",
    "('1', '001', '01', '2005-10-21', 240),\n",
    "('1', '001', '02', '2005-10-21', 48),\n",
    "('1', '002', '03', '2005-10-22', 60),\n",
    "('1', '004', '05', '2005-10-22', 4),\n",
    "('2', '002', '03', '2005-10-22', 48),\n",
    "('2', '002', '05', '2005-10-23', 2),\n",
    "('2', '004', '01', '2005-10-23', 480),\n",
    "('2', '004', '02', '2005-10-24', 72),\n",
    "('3', '003', '03', '2005-10-24', 48),\n",
    "('3', '003', '04', '2005-10-25', 20)\n",
    "\"\"\"\n",
    "crsr.execute (query_insert)"
   ]
  },
  {
   "cell_type": "code",
   "execution_count": null,
   "metadata": {},
   "outputs": [],
   "source": [
    "pd.read_sql('SELECT * FROM reparto', connection)"
   ]
  },
  {
   "cell_type": "code",
   "execution_count": null,
   "metadata": {},
   "outputs": [],
   "source": [
    "#pd.read_sql('DELETE * FROM reparto', connection)"
   ]
  },
  {
   "cell_type": "code",
   "execution_count": 63,
   "metadata": {},
   "outputs": [
    {
     "data": {
      "text/plain": [
       "3"
      ]
     },
     "execution_count": 63,
     "metadata": {},
     "output_type": "execute_result"
    }
   ],
   "source": [
    "# Insertamos datos en la tabla empleados\n",
    "empleados = pd.DataFrame ({\n",
    "                        \"CodE\" : [\"1\", \"2\", \"3\"],\n",
    "                        \"Nombre\" : [\"Prudencio Caminero\", \"Vicente Merario\", \"Valentin Siempre\" ],\n",
    "                        \"Sueldo\" : [120000, 110000, 10000],\n",
    "                        })\n",
    "\n",
    "\n",
    "empleados.to_sql(name = 'empleados', con = connection, if_exists='append', index=False)"
   ]
  },
  {
   "cell_type": "code",
   "execution_count": 64,
   "metadata": {},
   "outputs": [
    {
     "data": {
      "text/plain": [
       "4"
      ]
     },
     "execution_count": 64,
     "metadata": {},
     "output_type": "execute_result"
    }
   ],
   "source": [
    "# Insertamos datos en la tabla bares\n",
    "bares = pd.DataFrame ({\n",
    "                        \"CodB\" : [\"001\", \"002\", \"003\", \"004\"],\n",
    "                        \"Nombre\" : [\"Stop\", \"Las Vegas\", \"Club Social\", \"Otra Ronda\"],\n",
    "                        \"Cif\" : [\"11111111X\", \"22222222Y\", None, \"33333333Z\"],\n",
    "                        \"Localidad\" : [\"Villa Botijo\", \"Villa Botijo\", \"Las Ranas\", \"La Esponja\"]\n",
    "\n",
    "                        })\n",
    "bares\n",
    "\n",
    "bares.to_sql(name = 'bares', con = connection, if_exists='append', index=False)"
   ]
  }
 ],
 "metadata": {
  "kernelspec": {
   "display_name": ".venv",
   "language": "python",
   "name": "python3"
  },
  "language_info": {
   "codemirror_mode": {
    "name": "ipython",
    "version": 3
   },
   "file_extension": ".py",
   "mimetype": "text/x-python",
   "name": "python",
   "nbconvert_exporter": "python",
   "pygments_lexer": "ipython3",
   "version": "3.11.4"
  }
 },
 "nbformat": 4,
 "nbformat_minor": 2
}
