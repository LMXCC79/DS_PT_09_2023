{
 "cells": [
  {
   "cell_type": "markdown",
   "metadata": {},
   "source": [
    "![imagen](./img/ejercicios.png)"
   ]
  },
  {
   "cell_type": "markdown",
   "metadata": {},
   "source": [
    "# INFORMACIÓN DEL PROYECTO"
   ]
  },
  {
   "cell_type": "markdown",
   "metadata": {},
   "source": [
    "### TÍTULO"
   ]
  },
  {
   "cell_type": "markdown",
   "metadata": {},
   "source": [
    "### ENERGIA ELECTRICA DE ORIGEN NUCLEAR Y SU IMPACTO EN LA GENERACION DE GASES EFECTO INVERNADERO ###"
   ]
  },
  {
   "cell_type": "markdown",
   "metadata": {},
   "source": [
    "### TEMA"
   ]
  },
  {
   "cell_type": "markdown",
   "metadata": {},
   "source": [
    "Aboraremos principalmente la relacion que existe entre la generacion de energia electrica de todas las fuentes existentes y la emision de gases efecto invernadero asociada a esta actividad. La idea general es averiguar si el generar energia electrica en centrales nucleares reduce la generacion de energia electrica derivada de combustibles fosiles y derivados del carbon, lo que redundaria en la reduccion de gases efecto invernadero.\n",
    " \n"
   ]
  },
  {
   "cell_type": "markdown",
   "metadata": {},
   "source": [
    "### HIPÓTESIS"
   ]
  },
  {
   "cell_type": "markdown",
   "metadata": {},
   "source": [
    "Define aquí lo que será la hipótesis de tu proyecto.\n",
    "Puede que tengas más de una, pero tu proyecto lo harás teniendo una principal hipótesis."
   ]
  },
  {
   "cell_type": "markdown",
   "metadata": {},
   "source": [
    "**Los países con un mayor porcentaje de generación de energía eléctrica nuclear en su matriz energética, tienen menores emisiones de gases de efecto invernadero asociadas a esta actividad, en comparación con aquellos con una menor participación de energía nuclear.**"
   ]
  },
  {
   "cell_type": "markdown",
   "metadata": {},
   "source": [
    "## OBTENCIÓN DE LOS DATOS"
   ]
  },
  {
   "cell_type": "markdown",
   "metadata": {},
   "source": [
    "### DATASETS Y FUENTES ALTERNATIVAS DE DATOS"
   ]
  },
  {
   "cell_type": "markdown",
   "metadata": {},
   "source": [
    "Incluye aquí una breve descripción del dataset o datasets de los que partirás para poder evaluar tu hipótesis. <br>\n",
    "También incluye el origen de estos datos y su fuente."
   ]
  },
  {
   "cell_type": "markdown",
   "metadata": {},
   "source": [
    "Estos son algunos de los Dataset que he encontrado para desarrollar el trabajo propuesto. cada uno lo he llamado df seguido de un numero. no se aun si sean totalmente utiles para el objetivo o si vayan a ser modificados o desechados. Supongo que se requerira de informacion adicional, la cual se ira adicionando una vez el proceso lo exija.\n",
    "\n",
    "Las diferentes fuentes de los datos, todos ellos descargados de la pagina [kaggle](http://kaggle.com) , son las siguientes:\n",
    "\n",
    "* df : ***'Co2_Generacion_electrica.csv'*** Statista, Instituto de Recursos Mundiales (WRI)\n",
    "* df1: ***'Continent_Consumption_TWH.csv'***  agencias internacionales de energía\n",
    "* df2: ***'Country_Consumption_TWH.csv'***  agencias internacionales de energía\n",
    "* df3: ***'Global Electricity Statistics.csv'*** .... Banco Mundial, Statista, Administración de Energía de EE. UU.\n",
    "* df4: ***'powerplants (global) - global_power_plants.csv'*** .... DATOS DE LA IRG, Instituto de Recursos Mundiales (WRI)\n",
    "* df5: ***'World_Nuclear_Power_Reactors.csv'*** .... Wikipedia, agencias internacionales de energía, organismos reguladores nucleares, artículos e informes."
   ]
  },
  {
   "cell_type": "markdown",
   "metadata": {},
   "source": [
    "Muestra mediante un head() los principales datasets con los que vas a trabajar"
   ]
  },
  {
   "cell_type": "code",
   "execution_count": 52,
   "metadata": {},
   "outputs": [
    {
     "name": "stdout",
     "output_type": "stream",
     "text": [
      "(924, 6)\n",
      "  CountryShort CountryLong  Year  ValueNumeric      Unit Data_source\n",
      "0         EU28       EU-28  1990    531.232975  gCO2/kWh         EEA\n",
      "1         EU28       EU-28  1991    516.034467  gCO2/kWh         EEA\n",
      "2         EU28       EU-28  1992    503.571112  gCO2/kWh         EEA\n",
      "3         EU28       EU-28  1993    473.999118  gCO2/kWh         EEA\n",
      "4         EU28       EU-28  1994    469.013303  gCO2/kWh         EEA\n"
     ]
    }
   ],
   "source": [
    "import pandas as pd\n",
    "\n",
    "df = pd.read_csv('Datasets Energia/Co2_Generacion_electrica.csv')\n",
    "print (df.shape)\n",
    "print (df.head())\n"
   ]
  },
  {
   "cell_type": "code",
   "execution_count": 44,
   "metadata": {},
   "outputs": [
    {
     "name": "stdout",
     "output_type": "stream",
     "text": [
      "(31, 12)\n",
      "   Year      World      OECD     BRICS    Europe  North America  \\\n",
      "0  1990  101855.54  52602.49  26621.07  20654.88       24667.23   \n",
      "1  1991  102483.56  53207.25  26434.99  20631.62       24841.68   \n",
      "2  1992  102588.23  53788.75  25993.05  20189.68       25341.77   \n",
      "3  1993  103646.56  54614.48  26283.80  20189.68       25830.23   \n",
      "4  1994  104449.03  55579.77  25993.05  20085.01       26365.21   \n",
      "\n",
      "   Latin America      Asia  Pacific   Africa  Middle-East       CIS  \n",
      "0        5373.06  24574.19  1197.89  4407.77      2581.86  16049.40  \n",
      "1        5500.99  24783.53  1186.26  4535.70      2744.68  15898.21  \n",
      "2        5628.92  25690.67  1209.52  4582.22      3081.95  14339.79  \n",
      "3        5675.44  26876.93  1267.67  4721.78      3349.44  13246.57  \n",
      "4        5989.45  28098.08  1279.30  4803.19      3640.19  11606.74  \n"
     ]
    }
   ],
   "source": [
    "df1 = pd.read_csv('Datasets Energia\\Continent_Consumption_TWH.csv')\n",
    "print (df1.shape)\n",
    "print (df1.head())"
   ]
  },
  {
   "cell_type": "code",
   "execution_count": 45,
   "metadata": {},
   "outputs": [
    {
     "name": "stdout",
     "output_type": "stream",
     "text": [
      "(33, 45)\n",
      "     Year  China  United States  Brazil  Belgium  Czechia  France  Germany  \\\n",
      "0  1990.0  874.0         1910.0   141.0     48.0     50.0   225.0    351.0   \n",
      "1  1991.0  848.0         1925.0   143.0     50.0     45.0   237.0    344.0   \n",
      "2  1992.0  877.0         1964.0   145.0     51.0     44.0   234.0    338.0   \n",
      "3  1993.0  929.0         1998.0   148.0     49.0     43.0   238.0    335.0   \n",
      "4  1994.0  973.0         2036.0   156.0     52.0     41.0   231.0    333.0   \n",
      "\n",
      "   Italy  Netherlands  ...  Australia  New Zealand  Algeria  Egypt  Nigeria  \\\n",
      "0  147.0         67.0  ...       86.0         14.0     22.0   33.0     66.0   \n",
      "1  150.0         69.0  ...       85.0         14.0     23.0   33.0     70.0   \n",
      "2  149.0         69.0  ...       87.0         14.0     24.0   34.0     72.0   \n",
      "3  149.0         70.0  ...       91.0         15.0     24.0   35.0     74.0   \n",
      "4  147.0         70.0  ...       91.0         15.0     23.0   34.0     72.0   \n",
      "\n",
      "   South Africa  Iran  Kuwait  Saudi Arabia  United Arab Emirates  \n",
      "0          90.0  69.0     9.0          58.0                  20.0  \n",
      "1          92.0  77.0     3.0          68.0                  23.0  \n",
      "2          88.0  81.0     9.0          77.0                  22.0  \n",
      "3          94.0  87.0    12.0          80.0                  23.0  \n",
      "4          98.0  97.0    14.0          84.0                  26.0  \n",
      "\n",
      "[5 rows x 45 columns]\n"
     ]
    }
   ],
   "source": [
    "df2 = pd.read_csv('Datasets Energia\\Country_Consumption_TWH.csv')\n",
    "print (df2.shape)\n",
    "print (df2.head())\n"
   ]
  },
  {
   "cell_type": "code",
   "execution_count": 46,
   "metadata": {},
   "outputs": [
    {
     "name": "stdout",
     "output_type": "stream",
     "text": [
      "(1610, 45)\n",
      "                Country        Features  Region   1980   1981   1982   1983  \\\n",
      "0               Algeria  net generation  Africa  6.683   7.65  8.824  9.615   \n",
      "1                Angola  net generation  Africa  0.905  0.906  0.995  1.028   \n",
      "2                 Benin  net generation  Africa  0.005  0.005  0.005  0.005   \n",
      "3              Botswana  net generation  Africa  0.443  0.502  0.489  0.434   \n",
      "4          Burkina Faso  net generation  Africa  0.098  0.108  0.115  0.117   \n",
      "\n",
      "     1984    1985    1986  ...     2012     2013      2014      2015  \\\n",
      "0  10.537  11.569  12.214  ...  53.9845  56.3134  60.39972  64.68244   \n",
      "1   1.028   1.028   1.088  ...  6.03408  7.97606   9.21666   9.30914   \n",
      "2   0.005   0.005   0.005  ...  0.04612  0.08848   0.22666   0.31056   \n",
      "3   0.445   0.456   0.538  ...     0.33  0.86868   2.17628   2.79104   \n",
      "4   0.113   0.115   0.122  ...  0.86834  0.98268   1.11808   1.43986   \n",
      "\n",
      "        2016      2017      2018     2019         2020         2021  \n",
      "0   66.75504  71.49546  72.10903   76.685  72.73591277  77.53072719  \n",
      "1  10.203511  10.67604  12.83194     15.4         16.6    16.429392  \n",
      "2    0.26004    0.3115   0.19028   0.2017      0.22608   0.24109728  \n",
      "3    2.52984    2.8438   2.97076   3.0469      2.05144   2.18234816  \n",
      "4     1.5509   1.64602    1.6464  1.72552  1.647133174  1.761209666  \n",
      "\n",
      "[5 rows x 45 columns]\n"
     ]
    }
   ],
   "source": [
    "df3 = pd.read_csv('Datasets Energia\\Global Electricity Statistics.csv')\n",
    "print (df3.shape)\n",
    "print (df3.head())\n"
   ]
  },
  {
   "cell_type": "code",
   "execution_count": 47,
   "metadata": {},
   "outputs": [
    {
     "name": "stdout",
     "output_type": "stream",
     "text": [
      "(34936, 15)\n",
      "  country code country_long                                name of powerplant  \\\n",
      "0          AFG  Afghanistan      Kajaki Hydroelectric Power Plant Afghanistan   \n",
      "1          AFG  Afghanistan                                      Kandahar DOG   \n",
      "2          AFG  Afghanistan                                      Kandahar JOL   \n",
      "3          AFG  Afghanistan     Mahipar Hydroelectric Power Plant Afghanistan   \n",
      "4          AFG  Afghanistan  Naghlu Dam Hydroelectric Power Plant Afghanistan   \n",
      "\n",
      "   capacity in MW  latitude  longitude primary_fuel secondary fuel  \\\n",
      "0            33.0    32.322    65.1190        Hydro            NaN   \n",
      "1            10.0    31.670    65.7950        Solar            NaN   \n",
      "2            10.0    31.623    65.7920        Solar            NaN   \n",
      "3            66.0    34.556    69.4787        Hydro            NaN   \n",
      "4           100.0    34.641    69.7170        Hydro            NaN   \n",
      "\n",
      "  other_fuel2 other_fuel3  start date owner of plant  generation_gwh_2021  \\\n",
      "0         NaN         NaN         NaN            NaN                  NaN   \n",
      "1         NaN         NaN         NaN            NaN                  NaN   \n",
      "2         NaN         NaN         NaN            NaN                  NaN   \n",
      "3         NaN         NaN         NaN            NaN                  NaN   \n",
      "4         NaN         NaN         NaN            NaN                  NaN   \n",
      "\n",
      "  geolocation_source  estimated_generation_gwh_2021  \n",
      "0              GEODB                         123.77  \n",
      "1         Wiki-Solar                          18.43  \n",
      "2         Wiki-Solar                          18.64  \n",
      "3              GEODB                         225.06  \n",
      "4              GEODB                         406.16  \n"
     ]
    }
   ],
   "source": [
    "df4 = pd.read_csv('Datasets Energia\\powerplants (global) - global_power_plants.csv')\n",
    "print (df4.shape)\n",
    "print (df4.head())"
   ]
  },
  {
   "cell_type": "code",
   "execution_count": 54,
   "metadata": {},
   "outputs": [
    {
     "name": "stdout",
     "output_type": "stream",
     "text": [
      "(607, 10)\n",
      "  Location Reactor Name            Model Reactor Type Net Capacity (MWe)  \\\n",
      "0      NaN     Atucha 1         PHWR KWU         PHWR                340   \n",
      "1      NaN      Embalse          CANDU 6         PHWR                608   \n",
      "2      NaN     Atucha 2         PHWR KWU         PHWR                693   \n",
      "3      NaN   Armenian 2       VVER V-270          PWR                416   \n",
      "4      NaN    Rooppur 1  VVER-1200/V-523          PWR           1200 MWe   \n",
      "\n",
      "  Construction Start First Grid Connection              Status     Country  \\\n",
      "0            1968-06               1974-03             Working   Argentina   \n",
      "1            1974-04               1983-04             Working   Argentina   \n",
      "2            1981-07               2014-06             Working   Argentina   \n",
      "3            1975-07               1980-01             Working     Armenia   \n",
      "4             Nov-17                  2024  Under Construction  Bangladesh   \n",
      "\n",
      "   Unnamed: 9  \n",
      "0         NaN  \n",
      "1         NaN  \n",
      "2         NaN  \n",
      "3         NaN  \n",
      "4         NaN  \n"
     ]
    }
   ],
   "source": [
    "df5 = pd.read_csv('Datasets Energia\\World_Nuclear_Power_Reactors.csv', encoding='latin1')\n",
    "print (df5.shape)\n",
    "print (df5.head())"
   ]
  }
 ],
 "metadata": {
  "interpreter": {
   "hash": "7c77fdb427e7cbc9bc1367dd530fc2b36aacdbbde1ac83c85833b10dfa8b831c"
  },
  "kernelspec": {
   "display_name": "Python 3.7.4 64-bit",
   "language": "python",
   "name": "python3"
  },
  "language_info": {
   "codemirror_mode": {
    "name": "ipython",
    "version": 3
   },
   "file_extension": ".py",
   "mimetype": "text/x-python",
   "name": "python",
   "nbconvert_exporter": "python",
   "pygments_lexer": "ipython3",
   "version": "3.11.4"
  },
  "orig_nbformat": 4
 },
 "nbformat": 4,
 "nbformat_minor": 2
}
