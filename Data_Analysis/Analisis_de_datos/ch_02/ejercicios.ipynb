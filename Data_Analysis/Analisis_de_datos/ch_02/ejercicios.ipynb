{
 "cells": [
  {
   "cell_type": "markdown",
   "metadata": {},
   "source": [
    "# Ejercicios\n",
    "\n",
    "Usando el archivo data/parsed.csv y el material de este capítulo, complete los siguientes ejercicios para practicar sus habilidades con pandas:\n",
    "\n",
    "1. Encuentre el percentil 95 de la magnitud del terremoto en Japón usando el mb tipo de magnitud.\n",
    "2. Encuentra el porcentaje de terremotos en Indonesia que fueron acompañados de tsunamis.\n",
    "3. Calcular las estadísticas resumidas de los terremotos en Nevada.\n",
    "4. Añade una columna indicando si el terremoto ocurrió en un país o estado de EEUU que se encuentre en el Cinturón de Fuego. Utiliza Alaska, Antártida (busca Antarctic), Bolivia,\n",
    "California, Canadá, Chile, Costa Rica, Ecuador, Fiyi, Guatemala, Indonesia, Japón, Islas Kermadec, México (tenga cuidado de no seleccionar Nuevo México), Nueva Zelanda, Perú, Filipinas, Rusia, Taiwán, Tonga y Washington.\n",
    "5. Calcula el número de terremotos en los lugares del Cinturón de Fuego y el número fuera de ellos.\n",
    "6. Calcula el número de tsunamis a lo largo del Cinturón de Fuego."
   ]
  },
  {
   "cell_type": "code",
   "execution_count": 145,
   "metadata": {},
   "outputs": [],
   "source": [
    "import pandas as pd\n",
    "import numpy as np\n"
   ]
  },
  {
   "cell_type": "code",
   "execution_count": 156,
   "metadata": {},
   "outputs": [
    {
     "name": "stdout",
     "output_type": "stream",
     "text": [
      "<class 'pandas.core.frame.DataFrame'>\n",
      "RangeIndex: 9332 entries, 0 to 9331\n",
      "Data columns (total 27 columns):\n",
      " #   Column        Non-Null Count  Dtype  \n",
      "---  ------        --------------  -----  \n",
      " 0   alert         59 non-null     object \n",
      " 1   cdi           329 non-null    float64\n",
      " 2   code          9332 non-null   object \n",
      " 3   detail        9332 non-null   object \n",
      " 4   dmin          6139 non-null   float64\n",
      " 5   felt          329 non-null    float64\n",
      " 6   gap           6164 non-null   float64\n",
      " 7   ids           9332 non-null   object \n",
      " 8   mag           9331 non-null   float64\n",
      " 9   magType       9331 non-null   object \n",
      " 10  mmi           93 non-null     float64\n",
      " 11  net           9332 non-null   object \n",
      " 12  nst           5364 non-null   float64\n",
      " 13  place         9332 non-null   object \n",
      " 14  rms           9332 non-null   float64\n",
      " 15  sig           9332 non-null   int64  \n",
      " 16  sources       9332 non-null   object \n",
      " 17  status        9332 non-null   object \n",
      " 18  time          9332 non-null   int64  \n",
      " 19  title         9332 non-null   object \n",
      " 20  tsunami       9332 non-null   int64  \n",
      " 21  type          9332 non-null   object \n",
      " 22  types         9332 non-null   object \n",
      " 23  tz            9331 non-null   float64\n",
      " 24  updated       9332 non-null   int64  \n",
      " 25  url           9332 non-null   object \n",
      " 26  parsed_place  9332 non-null   object \n",
      "dtypes: float64(9), int64(4), object(14)\n",
      "memory usage: 1.9+ MB\n"
     ]
    }
   ],
   "source": [
    "df = pd.read_csv (\"data/parsed.csv\")\n",
    "df\n",
    "df.columns\n",
    "df.info()"
   ]
  },
  {
   "cell_type": "code",
   "execution_count": 157,
   "metadata": {},
   "outputs": [
    {
     "name": "stdout",
     "output_type": "stream",
     "text": [
      "4.9\n"
     ]
    },
    {
     "data": {
      "text/html": [
       "<div>\n",
       "<style scoped>\n",
       "    .dataframe tbody tr th:only-of-type {\n",
       "        vertical-align: middle;\n",
       "    }\n",
       "\n",
       "    .dataframe tbody tr th {\n",
       "        vertical-align: top;\n",
       "    }\n",
       "\n",
       "    .dataframe thead th {\n",
       "        text-align: right;\n",
       "    }\n",
       "</style>\n",
       "<table border=\"1\" class=\"dataframe\">\n",
       "  <thead>\n",
       "    <tr style=\"text-align: right;\">\n",
       "      <th></th>\n",
       "      <th>mag</th>\n",
       "    </tr>\n",
       "  </thead>\n",
       "  <tbody>\n",
       "    <tr>\n",
       "      <th>count</th>\n",
       "      <td>50.000000</td>\n",
       "    </tr>\n",
       "    <tr>\n",
       "      <th>mean</th>\n",
       "      <td>4.530000</td>\n",
       "    </tr>\n",
       "    <tr>\n",
       "      <th>std</th>\n",
       "      <td>0.266688</td>\n",
       "    </tr>\n",
       "    <tr>\n",
       "      <th>min</th>\n",
       "      <td>4.000000</td>\n",
       "    </tr>\n",
       "    <tr>\n",
       "      <th>50%</th>\n",
       "      <td>4.600000</td>\n",
       "    </tr>\n",
       "    <tr>\n",
       "      <th>95%</th>\n",
       "      <td>4.900000</td>\n",
       "    </tr>\n",
       "    <tr>\n",
       "      <th>max</th>\n",
       "      <td>5.400000</td>\n",
       "    </tr>\n",
       "  </tbody>\n",
       "</table>\n",
       "</div>"
      ],
      "text/plain": [
       "             mag\n",
       "count  50.000000\n",
       "mean    4.530000\n",
       "std     0.266688\n",
       "min     4.000000\n",
       "50%     4.600000\n",
       "95%     4.900000\n",
       "max     5.400000"
      ]
     },
     "execution_count": 157,
     "metadata": {},
     "output_type": "execute_result"
    }
   ],
   "source": [
    "# Encuentre el percentil 95 de la magnitud del terremoto en Japón usando el mb tipo de magnitud.\n",
    "\n",
    "df_jpn = df.set_index('parsed_place').filter(like='Japan', axis=0).filter(items=['mag', 'magType'])\n",
    "df_mag_max = df_jpn.loc[\n",
    "    df_jpn.magType.isin(['mb']),\n",
    "    ['mag', 'magType']\n",
    "]\n",
    "print(np.percentile(df_mag_max['mag'], 95))\n",
    "df_mag_max.describe(percentiles=[0.95]) # Otra manera de ibtener el mismo dato\n"
   ]
  },
  {
   "cell_type": "code",
   "execution_count": 158,
   "metadata": {},
   "outputs": [
    {
     "data": {
      "text/plain": [
       "23.12925170068027"
      ]
     },
     "execution_count": 158,
     "metadata": {},
     "output_type": "execute_result"
    }
   ],
   "source": [
    "#Encuentra el porcentaje de terremotos en Indonesia que fueron acompañados de tsunamis.\n",
    "\n",
    "df_indo = df.set_index('parsed_place').filter(like='Indonesia', axis=0).filter(items=['type', 'tsunami'])\n",
    "#print(df_indo[df_indo['tsunami']==1])\n",
    "len(df_indo[df_indo['tsunami']==1]) / len (df_indo) *100\n"
   ]
  },
  {
   "cell_type": "code",
   "execution_count": 159,
   "metadata": {},
   "outputs": [
    {
     "data": {
      "text/plain": [
       "count    681.000000\n",
       "mean       0.500073\n",
       "std        0.696710\n",
       "min       -0.500000\n",
       "25%       -0.100000\n",
       "50%        0.400000\n",
       "75%        0.900000\n",
       "max        2.900000\n",
       "Name: mag, dtype: float64"
      ]
     },
     "execution_count": 159,
     "metadata": {},
     "output_type": "execute_result"
    }
   ],
   "source": [
    "# Calcular las estadísticas resumidas de los terremotos en Nevada. (min, max, media, desviacion estandar)\n",
    "df_nevada = df.set_index('parsed_place').filter(like='Nevada', axis=0).filter(items=['type', 'mag'])\n",
    "df_nevada['mag'].describe()\n"
   ]
  },
  {
   "cell_type": "code",
   "execution_count": 254,
   "metadata": {},
   "outputs": [
    {
     "data": {
      "text/html": [
       "<div>\n",
       "<style scoped>\n",
       "    .dataframe tbody tr th:only-of-type {\n",
       "        vertical-align: middle;\n",
       "    }\n",
       "\n",
       "    .dataframe tbody tr th {\n",
       "        vertical-align: top;\n",
       "    }\n",
       "\n",
       "    .dataframe thead th {\n",
       "        text-align: right;\n",
       "    }\n",
       "</style>\n",
       "<table border=\"1\" class=\"dataframe\">\n",
       "  <thead>\n",
       "    <tr style=\"text-align: right;\">\n",
       "      <th></th>\n",
       "      <th>cinturon_fuego</th>\n",
       "    </tr>\n",
       "    <tr>\n",
       "      <th>parsed_place</th>\n",
       "      <th></th>\n",
       "    </tr>\n",
       "  </thead>\n",
       "  <tbody>\n",
       "    <tr>\n",
       "      <th>Mexico</th>\n",
       "      <td>True</td>\n",
       "    </tr>\n",
       "    <tr>\n",
       "      <th>Mexico</th>\n",
       "      <td>True</td>\n",
       "    </tr>\n",
       "    <tr>\n",
       "      <th>Mexico</th>\n",
       "      <td>True</td>\n",
       "    </tr>\n",
       "    <tr>\n",
       "      <th>Mexico</th>\n",
       "      <td>True</td>\n",
       "    </tr>\n",
       "    <tr>\n",
       "      <th>Mexico</th>\n",
       "      <td>True</td>\n",
       "    </tr>\n",
       "  </tbody>\n",
       "</table>\n",
       "</div>"
      ],
      "text/plain": [
       "              cinturon_fuego\n",
       "parsed_place                \n",
       "Mexico                  True\n",
       "Mexico                  True\n",
       "Mexico                  True\n",
       "Mexico                  True\n",
       "Mexico                  True"
      ]
     },
     "execution_count": 254,
     "metadata": {},
     "output_type": "execute_result"
    }
   ],
   "source": [
    "\"\"\"\n",
    "Añade una columna indicando si el terremoto ocurrió en un país o estado de EEUU que se encuentre en el Cinturón de Fuego. Utiliza Alaska, \n",
    "Antártida (busca Antarctic), Bolivia, California, Canadá, Chile, Costa Rica, Ecuador, Fiyi, Guatemala, Indonesia, Japón, Islas Kermadec, \n",
    "México (tenga cuidado de no seleccionar Nuevo México), Nueva Zelanda, Perú, Filipinas, Rusia, Taiwán, Tonga y Washington.\n",
    "\"\"\"\n",
    "\n",
    "df['cinturon_fuego'] = df['parsed_place'].isin(['Alaska','Antarctic', 'Bolivia', 'California', 'Canada', 'Chile', 'Costa Rica', 'Ecuador', 'Fiyi', 'Guatemala', \n",
    "                             'Indonesia', 'Japan', 'Kermadec Islands', 'Mexico', 'New Zealand', 'Peru', 'Philippines', 'Russia', 'Taiwan', \n",
    "                             'Tonga', 'Washington']) \n",
    "              \n",
    "\n",
    "#df['cinturon_fuego'] = k\n",
    "\n",
    "df.set_index('parsed_place').filter(like='Mexico', axis=0).filter(items=['cinturon_fuego']).head()\n"
   ]
  },
  {
   "cell_type": "code",
   "execution_count": 261,
   "metadata": {},
   "outputs": [
    {
     "data": {
      "text/plain": [
       "cinturon_fuego\n",
       "True     7123\n",
       "False    2209\n",
       "Name: count, dtype: int64"
      ]
     },
     "execution_count": 261,
     "metadata": {},
     "output_type": "execute_result"
    }
   ],
   "source": [
    "# Calcula el número de terremotos en los lugares del Cinturón de Fuego y el número fuera de ellos.\n",
    "\n",
    "\n",
    "#k = {True : 1, False : 0}\n",
    "#df['cinturon_fuego'] = df['cinturon_fuego'].map({True : 1, False : 0})\n",
    "#df['cinturon_fuego'].dtypes\n",
    "df['cinturon_fuego'].value_counts()\n",
    "\n",
    "\n"
   ]
  },
  {
   "cell_type": "code",
   "execution_count": null,
   "metadata": {},
   "outputs": [],
   "source": []
  }
 ],
 "metadata": {
  "kernelspec": {
   "display_name": ".venv",
   "language": "python",
   "name": "python3"
  },
  "language_info": {
   "codemirror_mode": {
    "name": "ipython",
    "version": 3
   },
   "file_extension": ".py",
   "mimetype": "text/x-python",
   "name": "python",
   "nbconvert_exporter": "python",
   "pygments_lexer": "ipython3",
   "version": "3.11.4"
  }
 },
 "nbformat": 4,
 "nbformat_minor": 2
}
