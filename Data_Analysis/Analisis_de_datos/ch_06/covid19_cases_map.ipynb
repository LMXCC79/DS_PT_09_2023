{
 "cells": [
  {
   "cell_type": "markdown",
   "metadata": {},
   "source": [
    "# Plotting Maps &mdash; Casos COVID-19\n",
    "## Requisitos\n",
    "Necesitarás instalar el paquete `cartopy` Python así como algunas dependencias adicionales. Siga las instrucciones [aqui](https://scitools.org.uk/cartopy/docs/latest/installing.html#installing) para la instalación. Tenga en cuenta que, a menos que especifique explícitamente que no actualice los paquetes instalados actualmente, es posible que acabe con un entorno que ya no esté configurado para este libro; si esto ocurre, reconstruya su entorno como hizo en el capítulo 1. Asegúrate de revisar estas preguntas de StackOverflow para [pip](https://stackoverflow.com/questions/2861183/upgrade-package-without-upgrading-dependencies-using-pip).\n",
    "\n",
    "## Data Wrangling\n",
    "En este cuaderno, utilizaremos el Centro Europeo para la Prevención y el Control de las Enfermedades (ECDC) [número diario de nuevos casos notificados de COVID-19 por país conjunto de datos mundial](https://www.ecdc.europa.eu/en/publications-data/download-todays-data-geographic-distribution-covid-19-cases-worldwide) archivo más reciente. Si esto ya no funciona, lea los datos del capítulo que es una instantánea recogida el 19 de septiembre de 2020:\n",
    "\n",
    "```python\n",
    "df = pd.read_csv('data/covid19_cases.csv')\n",
    "```\n",
    "\n",
    "En primer lugar, recopilamos los datos y los resumimos para obtener los casos acumulados por país:"
   ]
  },
  {
   "cell_type": "code",
   "execution_count": 4,
   "metadata": {},
   "outputs": [],
   "source": [
    "import pandas as pd\n",
    "\n",
    "# léase en los últimos datos COVID-19 del Centro Europeo para la Prevención y el Control de las Enfermedades (ECDC)\n",
    "df = pd.read_csv('https://opendata.ecdc.europa.eu/covid19/casedistribution/csv').rename(columns={'cases_weekly': 'cases'})\n",
    "\n",
    "# resumir los datos COVID-19 para obtener los casos acumulados por país\n",
    "total_cases_per_country = df.groupby('countriesAndTerritories').cases.sum().rename(lambda x: x.replace('_', ' '), axis=0)"
   ]
  },
  {
   "cell_type": "markdown",
   "metadata": {},
   "source": [
    "## Trazado de países con Matplotlib y Cartopy"
   ]
  },
  {
   "cell_type": "code",
   "execution_count": 5,
   "metadata": {},
   "outputs": [
    {
     "ename": "ModuleNotFoundError",
     "evalue": "No module named 'cartopy'",
     "output_type": "error",
     "traceback": [
      "\u001b[1;31m---------------------------------------------------------------------------\u001b[0m",
      "\u001b[1;31mModuleNotFoundError\u001b[0m                       Traceback (most recent call last)",
      "\u001b[1;32mc:\\Users\\Sandia\\Documents\\DS_PT_09_2023\\Data_Analysis\\Analisis_de_datos\\ch_06\\covid19_cases_map.ipynb Cell 4\u001b[0m line \u001b[0;36m2\n\u001b[0;32m      <a href='vscode-notebook-cell:/c%3A/Users/Sandia/Documents/DS_PT_09_2023/Data_Analysis/Analisis_de_datos/ch_06/covid19_cases_map.ipynb#W3sZmlsZQ%3D%3D?line=0'>1</a>\u001b[0m get_ipython()\u001b[39m.\u001b[39mrun_line_magic(\u001b[39m'\u001b[39m\u001b[39mmatplotlib\u001b[39m\u001b[39m'\u001b[39m, \u001b[39m'\u001b[39m\u001b[39minline\u001b[39m\u001b[39m'\u001b[39m)\n\u001b[1;32m----> <a href='vscode-notebook-cell:/c%3A/Users/Sandia/Documents/DS_PT_09_2023/Data_Analysis/Analisis_de_datos/ch_06/covid19_cases_map.ipynb#W3sZmlsZQ%3D%3D?line=1'>2</a>\u001b[0m \u001b[39mimport\u001b[39;00m \u001b[39mcartopy\u001b[39;00m\u001b[39m.\u001b[39;00m\u001b[39mcrs\u001b[39;00m \u001b[39mas\u001b[39;00m \u001b[39mccrs\u001b[39;00m\n\u001b[0;32m      <a href='vscode-notebook-cell:/c%3A/Users/Sandia/Documents/DS_PT_09_2023/Data_Analysis/Analisis_de_datos/ch_06/covid19_cases_map.ipynb#W3sZmlsZQ%3D%3D?line=2'>3</a>\u001b[0m \u001b[39mimport\u001b[39;00m \u001b[39mcartopy\u001b[39;00m\u001b[39m.\u001b[39;00m\u001b[39mio\u001b[39;00m\u001b[39m.\u001b[39;00m\u001b[39mshapereader\u001b[39;00m \u001b[39mas\u001b[39;00m \u001b[39mshpreader\u001b[39;00m\n\u001b[0;32m      <a href='vscode-notebook-cell:/c%3A/Users/Sandia/Documents/DS_PT_09_2023/Data_Analysis/Analisis_de_datos/ch_06/covid19_cases_map.ipynb#W3sZmlsZQ%3D%3D?line=3'>4</a>\u001b[0m \u001b[39mimport\u001b[39;00m \u001b[39mmatplotlib\u001b[39;00m\u001b[39m.\u001b[39;00m\u001b[39mpyplot\u001b[39;00m \u001b[39mas\u001b[39;00m \u001b[39mplt\u001b[39;00m\n",
      "\u001b[1;31mModuleNotFoundError\u001b[0m: No module named 'cartopy'"
     ]
    }
   ],
   "source": [
    "%matplotlib inline\n",
    "import cartopy.crs as ccrs\n",
    "import cartopy.io.shapereader as shpreader\n",
    "import matplotlib.pyplot as plt\n",
    "from matplotlib import cm\n",
    "from matplotlib.ticker import EngFormatter, MaxNLocator\n",
    "import numpy as np\n",
    "import color_utils\n",
    "\n",
    "# build layout\n",
    "fig = plt.figure(figsize=(20, 15))\n",
    "gs = fig.add_gridspec(1, 10)\n",
    "map_subplot = fig.add_subplot(gs[0, :9], projection=ccrs.PlateCarree())\n",
    "cbar_subplot = fig.add_subplot(gs[0, 9])\n",
    "\n",
    "# selecciona el mapa de color; recuerda que es un callable así que colormap(0.5)\n",
    "# nos dará el color en el punto medio, por lo que tendremos que escalar\n",
    "# los casos para que estén en [0, 1] (dividiremos por el número máximo de casos)\n",
    "colormap = cm.get_cmap('Oranges')\n",
    "\n",
    "# nombres que son diferentes en el shapefile frente a los datos COVID-19\n",
    "alternate_names = {\n",
    "    'Tanzania': 'United Republic of Tanzania',\n",
    "    'The Bahamas': 'Bahamas',\n",
    "    'Falkland Islands': 'Falkland Islands (Malvinas)',\n",
    "    'Somaliland': 'Somalia',\n",
    "    'Republic of Macedonia': 'North Macedonia',\n",
    "    'East Timor': 'Timor Leste',\n",
    "    'Ivory Coast': 'Cote dIvoire',\n",
    "    'Guinea-Bissau': 'Guinea Bissau',\n",
    "    'Republic of the Congo': 'Democratic Republic of the Congo',\n",
    "    'eSwatini': 'Eswatini',\n",
    "    'The Gambia': 'Gambia',\n",
    "    \"People's Republic of China\": 'China',\n",
    "    'Brunei': 'Brunei Darussalam',\n",
    "    'Czech Republic': 'Czechia'\n",
    "}\n",
    "\n",
    "# obtener shapefile para dibujar el mapa\n",
    "countries_shp = shpreader.natural_earth(\n",
    "    resolution='110m', category='cultural', name='admin_0_countries'\n",
    ")\n",
    "\n",
    "# añada países al gráfico, sombreándolos según el número de casos de COVID-19\n",
    "for country in shpreader.Reader(countries_shp).records():\n",
    "    country_name = country.attributes['NAME_EN']\n",
    "    country_name = alternate_names.get(country_name, country_name)\n",
    "    map_subplot.add_geometries(\n",
    "        [country.geometry], \n",
    "        ccrs.PlateCarree(),\n",
    "        facecolor=colormap(total_cases_per_country.get(country_name, 0) / total_cases_per_country.max()),\n",
    "        label=country_name\n",
    "    )\n",
    "\n",
    "# crear una barra de color para el mapa\n",
    "cbar = color_utils.draw_cmap(\n",
    "    colormap, \n",
    "    values=np.array([np.concatenate([[0], total_cases_per_country])]), \n",
    "    orientation='vertical', \n",
    "    ax=cbar_subplot\n",
    ")\n",
    "cbar.ax.yaxis.set_major_formatter(EngFormatter())\n",
    "cbar.ax.yaxis.set_major_locator(MaxNLocator(5))\n",
    "max_full_day = pd.to_datetime(df.dateRep, format='%d/%m/%Y').max()\n",
    "cbar.ax.set_title(f'COVID-19 cases\\n(as of {max_full_day.strftime(\"%b %d, %Y\")})')\n",
    "\n",
    "# eliminar el recuadro alrededor del mapa\n",
    "for spine in map_subplot.spines:\n",
    "    map_subplot.spines[spine].set_visible(False)"
   ]
  }
 ],
 "metadata": {
  "kernelspec": {
   "display_name": "Python 3",
   "language": "python",
   "name": "python3"
  },
  "language_info": {
   "codemirror_mode": {
    "name": "ipython",
    "version": 3
   },
   "file_extension": ".py",
   "mimetype": "text/x-python",
   "name": "python",
   "nbconvert_exporter": "python",
   "pygments_lexer": "ipython3",
   "version": "3.11.4"
  }
 },
 "nbformat": 4,
 "nbformat_minor": 4
}
